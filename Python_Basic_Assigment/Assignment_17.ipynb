{
 "cells": [
  {
   "cell_type": "code",
   "execution_count": 4,
   "id": "048768fc",
   "metadata": {},
   "outputs": [
    {
     "name": "stdout",
     "output_type": "stream",
     "text": [
      "0\n",
      "30\n",
      "18\n"
     ]
    }
   ],
   "source": [
    "\"\"\"Question1. Create a function that takes three arguments a, b, c and returns the sum of the\n",
    "numbers that are evenly divided by c from the range a, b inclusive.\n",
    "Examples\n",
    "evenly_divisible(1, 10, 20) ➞ 0\n",
    "# No number between 1 and 10 can be evenly divided by 20.\n",
    "evenly_divisible(1, 10, 2) ➞ 30\n",
    "# 2 + 4 + 6 + 8 + 10 = 30\n",
    "evenly_divisible(1, 10, 3) ➞ 18\n",
    "# 3 + 6 + 9 = 18\"\"\"\n",
    "\n",
    "def evenly_divisible(a, b, c):\n",
    "    add = 0\n",
    "    for i in range(a,b+1):\n",
    "        if i % c == 0:\n",
    "            add += i\n",
    "    return add\n",
    "\n",
    "print(evenly_divisible(1, 10, 20))\n",
    "print(evenly_divisible(1, 10, 2))\n",
    "print(evenly_divisible(1, 10, 3))"
   ]
  },
  {
   "cell_type": "code",
   "execution_count": 17,
   "id": "167861b8",
   "metadata": {},
   "outputs": [
    {
     "name": "stdout",
     "output_type": "stream",
     "text": [
      "True\n",
      "False\n",
      "True\n"
     ]
    }
   ],
   "source": [
    "\"\"\"Question2. Create a function that returns True if a given inequality expression is correct and\n",
    "False otherwise.\"\"\"\n",
    "\n",
    "def exp(k):\n",
    "    y = eval(k)\n",
    "    if y:\n",
    "        return True\n",
    "    else:\n",
    "        return False\n",
    "    \n",
    "print(exp(\"3<7<11\"))\n",
    "print(exp(\"13>33>1\"))\n",
    "print(exp(\"1<2<3<9>6\"))"
   ]
  },
  {
   "cell_type": "code",
   "execution_count": 20,
   "id": "dbab094a",
   "metadata": {},
   "outputs": [
    {
     "name": "stdout",
     "output_type": "stream",
     "text": [
      "th# ##rdv#rk\n",
      "m?nn?? m??s?\n",
      "sh*k*sp**r*\n"
     ]
    }
   ],
   "source": [
    "\"\"\"Question3. Create a function that replaces all the vowels in a string with a specified \n",
    "character.\"\"\"\n",
    "\n",
    "def rep_vow(word, s):\n",
    "    vow = (\"AaEeIiOoUu\")\n",
    "    for i in word:\n",
    "        if i in vow:\n",
    "            word = word.replace(i, s)\n",
    "    return word\n",
    "    \n",
    "print(rep_vow(\"the aardvark\", \"#\"))\n",
    "print(rep_vow(\"minnie mouse\", \"?\"))\n",
    "print(rep_vow(\"shakespeare\", \"*\"))"
   ]
  },
  {
   "cell_type": "code",
   "execution_count": 1,
   "id": "83d0fe78",
   "metadata": {},
   "outputs": [
    {
     "name": "stdout",
     "output_type": "stream",
     "text": [
      "120\n"
     ]
    }
   ],
   "source": [
    "\"\"\"Question4. Write a function that calculates the factorial of a number recursively.\n",
    "Examples\n",
    "factorial(5) ➞ 120\n",
    "factorial(3) ➞ 6\n",
    "factorial(1) ➞ 1\n",
    "factorial(0) ➞ 1\"\"\"\n",
    "\n",
    "def fact(n):\n",
    "    if n == 1:\n",
    "        return 1\n",
    "    else:\n",
    "        return (n * fact(n-1))\n",
    "    \n",
    "print(fact(5))"
   ]
  },
  {
   "cell_type": "code",
   "execution_count": 5,
   "id": "d4d2afd9",
   "metadata": {},
   "outputs": [
    {
     "name": "stdout",
     "output_type": "stream",
     "text": [
      "5\n",
      "0\n",
      "1\n"
     ]
    }
   ],
   "source": [
    "\"\"\"Question 5 Hamming distance is the number of characters that differ between two strings.\"\"\"\n",
    "\n",
    "def hamming(m, n):\n",
    "    i = 0\n",
    "    count = 0\n",
    "    while i <= len(m)-1:\n",
    "        if m[i] != n[i]:\n",
    "            count += 1\n",
    "        i += 1\n",
    "    return count\n",
    "\n",
    "\n",
    "print(hamming(\"abcde\", \"bcdef\"))\n",
    "print(hamming(\"abcd\", \"abcd\"))\n",
    "print(hamming(\"strong\", \"strung\"))"
   ]
  },
  {
   "cell_type": "code",
   "execution_count": null,
   "id": "8c00a1a5",
   "metadata": {},
   "outputs": [],
   "source": []
  }
 ],
 "metadata": {
  "kernelspec": {
   "display_name": "Python 3 (ipykernel)",
   "language": "python",
   "name": "python3"
  },
  "language_info": {
   "codemirror_mode": {
    "name": "ipython",
    "version": 3
   },
   "file_extension": ".py",
   "mimetype": "text/x-python",
   "name": "python",
   "nbconvert_exporter": "python",
   "pygments_lexer": "ipython3",
   "version": "3.10.9"
  }
 },
 "nbformat": 4,
 "nbformat_minor": 5
}
