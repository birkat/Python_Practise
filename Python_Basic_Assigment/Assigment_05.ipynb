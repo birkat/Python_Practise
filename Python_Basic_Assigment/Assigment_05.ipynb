{
 "cells": [
  {
   "cell_type": "code",
   "execution_count": 2,
   "id": "6281d3d3",
   "metadata": {},
   "outputs": [],
   "source": [
    "import logging\n",
    "logging.basicConfig(filename=\"assigment_05.log\", level=logging.INFO, format= '%(asctime)s, %(levelname)s, %(message)s')"
   ]
  },
  {
   "cell_type": "code",
   "execution_count": 3,
   "id": "a8d65f5a",
   "metadata": {},
   "outputs": [
    {
     "name": "stdout",
     "output_type": "stream",
     "text": [
      "Enter 1st number: 168\n",
      "Enter 2nd number: 112\n"
     ]
    }
   ],
   "source": [
    "logging.info(\"1. Write a Python Program to Find LCM?\")\n",
    "\n",
    "class LCM:\n",
    "    def __init__(self):\n",
    "        self.x = int(input(\"Enter 1st number: \"))\n",
    "        self.y = int(input(\"Enter 2nd number: \"))\n",
    "        \n",
    "    def lcm_num(self):\n",
    "        try:\n",
    "            if self.x > self.y:\n",
    "                higher = self.x\n",
    "            else:\n",
    "                higher = self.y\n",
    "            while(True):\n",
    "                if (higher % self.x == 0) and (higher % self.y == 0):\n",
    "                    logging.info(f\"The L.C.M of {self.x} and {self.y} is {higher}\")\n",
    "                    break\n",
    "                else:\n",
    "                    higher = higher + higher\n",
    "        except Exception as e:\n",
    "            logging.error(\"Error has happend...\")\n",
    "            logging.exception(\"Exception occured\" + str(e))\n",
    "\n",
    "\n",
    "lcm = LCM()\n",
    "lcm.lcm_num()"
   ]
  },
  {
   "cell_type": "code",
   "execution_count": 4,
   "id": "6adb1a21",
   "metadata": {},
   "outputs": [
    {
     "name": "stdout",
     "output_type": "stream",
     "text": [
      "Enter a number: 123\n",
      "Enter a number: 456\n"
     ]
    }
   ],
   "source": [
    "logging.info(\"2. Write a Python Program to Find HCF?\")\n",
    "\n",
    "class HCF:\n",
    "    def hcf_num(self):\n",
    "        try:\n",
    "            x=int(input(\"Enter a number: \"))\n",
    "            y=int(input(\"Enter a number: \")) \n",
    "            if(x>y):\n",
    "                higher=x\n",
    "            else:\n",
    "                higher=y\n",
    "            for i in range(1, higher + 1):\n",
    "                if (x%i==0) and (y%i==0):\n",
    "                    hcf=i\n",
    "            logging.info(f\"H.C.F of {x} and {y} is {hcf}\")\n",
    "        except Exception as e:\n",
    "            logging.error(\"Error has happend...\")\n",
    "            logging.exception(\"Exception occured\" + str(e))\n",
    "\n",
    "hcf = HCF()  \n",
    "hcf.hcf_num()"
   ]
  },
  {
   "cell_type": "code",
   "execution_count": 17,
   "id": "947d60ed",
   "metadata": {},
   "outputs": [
    {
     "name": "stdout",
     "output_type": "stream",
     "text": [
      "Enter Decimal number to Convert Decimal to Binary, Octal and Hexadecimal: 2364\n",
      "Binary: 0b100100111100\n",
      "Octal: 0o4474\n",
      "Hexadecimal: 0x93c\n"
     ]
    }
   ],
   "source": [
    "\"\"\"3. Write a Python Program to Convert Decimal to Binary, Octal and Hexadecimal?\"\"\"\n",
    "\n",
    "num3 = int(input(\"Enter Decimal number to Convert Decimal to Binary, Octal and Hexadecimal: \"))\n",
    "print(f\"Binary: {bin(num3)}\")\n",
    "print(f\"Octal: {oct(num3)}\")\n",
    "print(f\"Hexadecimal: {hex(num3)}\")"
   ]
  },
  {
   "cell_type": "code",
   "execution_count": 22,
   "id": "8c77a90a",
   "metadata": {},
   "outputs": [
    {
     "name": "stdout",
     "output_type": "stream",
     "text": [
      "Find ASCII value of a character: R\n",
      "ASCII value of a R is: 82\n"
     ]
    }
   ],
   "source": [
    "\"\"\"4. Write a Python Program To Find ASCII value of a character?\"\"\"\n",
    "\n",
    "value = input(\"Find ASCII value of a character: \")\n",
    "print(f\"ASCII value of a {value} is: {ord(value)}\")"
   ]
  },
  {
   "cell_type": "code",
   "execution_count": 27,
   "id": "0b58f6ac",
   "metadata": {},
   "outputs": [
    {
     "name": "stdout",
     "output_type": "stream",
     "text": [
      "1. Addition\n",
      "2. Subtraction\n",
      "3. Multiplication\n",
      "4. Division\n",
      "Select your options:1,2,3,4: 4\n",
      "Enter 1st number: 345\n",
      "Enter 2nd number: 45\n",
      "Division of 345 / 45 = 7.666666666666667\n",
      "\n",
      "Do you want to continue(Y/N): y\n",
      "Select your options:1,2,3,4: 1\n",
      "Enter 1st number: 2345\n",
      "Enter 2nd number: 5\n",
      "Addition of 2345 + 5 = 2350\n",
      "\n",
      "Do you want to continue(Y/N): n\n"
     ]
    }
   ],
   "source": [
    "\"\"\"5. Write a Python Program to Make a Simple Calculator with 4 basic mathematical operations?\"\"\"\n",
    "\n",
    "def add(x, y):\n",
    "    return x + y\n",
    "def sub(x, y):\n",
    "    return x - y\n",
    "def mul(x, y):\n",
    "    return x * y\n",
    "def div(x, y):\n",
    "    return x / y\n",
    "\n",
    "print(\"1. Addition\")\n",
    "print(\"2. Subtraction\")\n",
    "print(\"3. Multiplication\")\n",
    "print(\"4. Division\")\n",
    "\n",
    "while(True):\n",
    "    sel = int(input(\"Select your options:1,2,3,4: \"))\n",
    "\n",
    "    x = int(input(\"Enter 1st number: \"))\n",
    "    y = int(input(\"Enter 2nd number: \"))\n",
    "    \n",
    "    if sel == 1:\n",
    "        print(f\"Addition of {x} + {y} = {add(x, y)}\\n\")\n",
    "    elif sel == 2:\n",
    "        print(f\"Subtraction of {x} - {y} = {sub(x, y)}\\n\")\n",
    "    elif sel == 3:\n",
    "        print(f\"Multiplication of {x} * {y} = {mul(x, y)}\\n\")\n",
    "    elif sel == 4:\n",
    "        print(f\"Division of {x} / {y} = {div(x, y)}\\n\")\n",
    "    \n",
    "    nxt_sel = input(\"Do you want to continue(Y/N): \")\n",
    "    if nxt_sel == \"N\" or nxt_sel == \"n\":\n",
    "        break\n",
    "    "
   ]
  },
  {
   "cell_type": "code",
   "execution_count": null,
   "id": "48e3ebb6",
   "metadata": {},
   "outputs": [],
   "source": []
  }
 ],
 "metadata": {
  "kernelspec": {
   "display_name": "Python 3 (ipykernel)",
   "language": "python",
   "name": "python3"
  },
  "language_info": {
   "codemirror_mode": {
    "name": "ipython",
    "version": 3
   },
   "file_extension": ".py",
   "mimetype": "text/x-python",
   "name": "python",
   "nbconvert_exporter": "python",
   "pygments_lexer": "ipython3",
   "version": "3.10.9"
  }
 },
 "nbformat": 4,
 "nbformat_minor": 5
}
