{
 "cells": [
  {
   "cell_type": "code",
   "execution_count": 9,
   "id": "a0312d40",
   "metadata": {},
   "outputs": [
    {
     "name": "stdout",
     "output_type": "stream",
     "text": [
      "Enter the size of the list: 3\n",
      "Enter values: 100\n",
      "Enter values: 150\n",
      "Enter values: 180\n",
      "[100, 150, 180]\n",
      "The value according to given formula: [18, 22, 24]\n"
     ]
    }
   ],
   "source": [
    "\"\"\"Question 1:\n",
    "Write a program that calculates and prints the value according to the given formula:\n",
    "Q = Square root of [(2 * C * D)/H]\n",
    "Following are the fixed values of C and H:\n",
    "C is 50. H is 30.\n",
    "D is the variable whose values should be input to your program in a comma-separated\n",
    "sequence.\"\"\"\n",
    "\n",
    "import math\n",
    "\n",
    "def list_ele():\n",
    "    lst = []\n",
    "    size_list = int(input(\"Enter the size of the list: \"))\n",
    "    for i in range(size_list):\n",
    "        ele = int(input(\"Enter values: \"))\n",
    "        lst.append(ele)\n",
    "    return lst\n",
    "        \n",
    "def cal_formula(d):\n",
    "    result = []\n",
    "    for i in d:\n",
    "        c = 50\n",
    "        h = 30\n",
    "        q = math.sqrt((2 * c * i) / h)\n",
    "        result.append(int(q))\n",
    "    return result\n",
    "\n",
    "d = list_ele()\n",
    "print(d)\n",
    "output = cal_formula(d)\n",
    "\n",
    "print(f\"The value according to given formula: {output}\")"
   ]
  },
  {
   "cell_type": "code",
   "execution_count": 11,
   "id": "7d8fb769",
   "metadata": {},
   "outputs": [
    {
     "name": "stdout",
     "output_type": "stream",
     "text": [
      "Enter value X: 3\n",
      "Enter value Y: 5\n",
      "2-dimensional array: [[0, 0, 0, 0, 0], [0, 1, 2, 3, 4], [0, 2, 4, 6, 8]]\n"
     ]
    }
   ],
   "source": [
    "\"\"\"Write a program which takes 2 digits, X,Y as input and generates a 2-dimensional array. The\n",
    "element value in the i-th row and j-th column of the array should be i*j.\"\"\"\n",
    "\n",
    "def two_dimen(x,y):\n",
    "    out = []\n",
    "    for i in range(x):\n",
    "        mul = []\n",
    "        for j in range(y):\n",
    "            m = i * j\n",
    "            mul.append(m)\n",
    "        out.append(mul)\n",
    "    return out\n",
    "\n",
    "x = int(input(\"Enter value X: \"))\n",
    "y = int(input(\"Enter value Y: \"))\n",
    "\n",
    "output1 = two_dimen(x, y)\n",
    "\n",
    "print(f\"2-dimensional array: {output1}\")"
   ]
  },
  {
   "cell_type": "code",
   "execution_count": 17,
   "id": "d161285b",
   "metadata": {},
   "outputs": [
    {
     "name": "stdout",
     "output_type": "stream",
     "text": [
      "Enter comma separated sequence of words: without,hello,bag,world\n",
      "['bag', 'hello', 'without', 'world']\n"
     ]
    }
   ],
   "source": [
    "\"\"\"Question 3:\n",
    "Write a program that accepts a comma separated sequence of words as input and prints the\n",
    "words in a comma-separated sequence after sorting them alphabetically.\n",
    "Suppose the following input is supplied to the program:\n",
    "without,hello,bag,world\n",
    "Then, the output should be:\n",
    "bag,hello,without,world\"\"\"\n",
    "\n",
    "words = input(\"Enter comma separated sequence of words: \").split(\",\")\n",
    "s = sorted(words)\n",
    "print(s)"
   ]
  },
  {
   "cell_type": "code",
   "execution_count": 22,
   "id": "7c98bf49",
   "metadata": {},
   "outputs": [
    {
     "name": "stdout",
     "output_type": "stream",
     "text": [
      "Enter a sequence of whitespace separated words: hello world and practice makes perfect and hello world again\n",
      "again and hello makes perfect practice world \n"
     ]
    }
   ],
   "source": [
    "\"\"\"Question 4:\n",
    "Write a program that accepts a sequence of whitespace separated words as input and prints\n",
    "the words after removing all duplicate words and sorting them alphanumerically.\n",
    "Suppose the following input is supplied to the program:\n",
    "hello world and practice makes perfect and hello world again\n",
    "Then, the output should be:\n",
    "again and hello makes perfect practice world\"\"\"\n",
    "\n",
    "output4 = \"\"\n",
    "sen = input(\"Enter a sequence of whitespace separated words: \").split(\" \")\n",
    "sor = sorted(sen)\n",
    "for i in sor:\n",
    "    if i not in output4:\n",
    "        output4 += i + \" \"\n",
    "print(output4)\n"
   ]
  },
  {
   "cell_type": "code",
   "execution_count": 26,
   "id": "b276de64",
   "metadata": {},
   "outputs": [
    {
     "name": "stdout",
     "output_type": "stream",
     "text": [
      "Enter a sentence: hello world! 123\n",
      "LETTERS 10\n"
     ]
    }
   ],
   "source": [
    "\"\"\"Question 5:\n",
    "Write a program that accepts a sentence and calculate the number of letters and digits.\n",
    "Suppose the following input is supplied to the program:\n",
    "hello world! 123\n",
    "Then, the output should be:\n",
    "LETTERS 10\"\"\"\n",
    "\n",
    "count = 0\n",
    "txt = input(\"Enter a sentence: \")\n",
    "for i in txt:\n",
    "    if i.isalpha():\n",
    "        count += 1\n",
    "print(f\"LETTERS {count}\")"
   ]
  },
  {
   "cell_type": "code",
   "execution_count": 30,
   "id": "ce8fa278",
   "metadata": {},
   "outputs": [
    {
     "name": "stdout",
     "output_type": "stream",
     "text": [
      "Enter password with comma separated: ABd1234@1,a F1#,2w3E*,2We3345\n",
      "VALIDATE PASSWORD:  ABd1234@1\n"
     ]
    }
   ],
   "source": [
    "\"\"\"Question 6:\n",
    "A website requires the users to input username and password to register. Write a program to\n",
    "check the validity of password input by users.\n",
    "Following are the criteria for checking the password:\n",
    "1. At least 1 letter between [a-z]\n",
    "2. At least 1 number between [0-9]\n",
    "1. At least 1 letter between [A-Z]\n",
    "3. At least 1 character from [$#@]\n",
    "4. Minimum length of transaction password: 6\n",
    "5. Maximum length of transaction password: 12\n",
    "Your program should accept a sequence of comma separated passwords and will check them\n",
    "according to the above criteria. Passwords that match the criteria are to be printed, each\n",
    "separated by a comma.\n",
    "Example\n",
    "If the following passwords are given as input to the program:\n",
    "ABd1234@1,a F1#,2w3E*,2We3345\n",
    "Then, the output of the program should be:\n",
    "ABd1234@1\"\"\"\n",
    "\n",
    "def password_valid(i):\n",
    "    special_symbol=['$','#','@']\n",
    "    pw = True\n",
    "    if len(i) < 6:\n",
    "        pw = False\n",
    "    if len(i) > 12:\n",
    "        pw = False\n",
    "    if not any(char.isdigit() for char in i):\n",
    "        pw = False\n",
    "    if not any(char.isupper() for char in i):\n",
    "        pw=False\n",
    "    if not any(char.islower() for char in i):\n",
    "        pw=False\n",
    "    if not any(char in special_symbol for char in i):\n",
    "        pw=False\n",
    "    return pw\n",
    "        \n",
    "pw = input(\"Enter password with comma separated: \").split(\",\")\n",
    "for i in pw:\n",
    "    if password_valid(i) == True:\n",
    "        print(\"VALIDATE PASSWORD: \",i)"
   ]
  },
  {
   "cell_type": "code",
   "execution_count": null,
   "id": "e4bf768c",
   "metadata": {},
   "outputs": [],
   "source": []
  }
 ],
 "metadata": {
  "kernelspec": {
   "display_name": "Python 3 (ipykernel)",
   "language": "python",
   "name": "python3"
  },
  "language_info": {
   "codemirror_mode": {
    "name": "ipython",
    "version": 3
   },
   "file_extension": ".py",
   "mimetype": "text/x-python",
   "name": "python",
   "nbconvert_exporter": "python",
   "pygments_lexer": "ipython3",
   "version": "3.10.9"
  }
 },
 "nbformat": 4,
 "nbformat_minor": 5
}
