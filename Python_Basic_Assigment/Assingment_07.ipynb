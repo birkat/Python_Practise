{
 "cells": [
  {
   "cell_type": "code",
   "execution_count": 1,
   "id": "a2c39393",
   "metadata": {},
   "outputs": [],
   "source": [
    "def size_array():\n",
    "    l1 = []\n",
    "    a1 = int(input(\"Enter the size of array: \"))\n",
    "    for i in range(1, a1+1):\n",
    "        n1 = int(input(\"Enter number: \"))\n",
    "        l1.append(n1)\n",
    "    print(l1)\n",
    "    return l1"
   ]
  },
  {
   "cell_type": "code",
   "execution_count": 2,
   "id": "83a59dfe",
   "metadata": {},
   "outputs": [
    {
     "name": "stdout",
     "output_type": "stream",
     "text": [
      "Enter the size of array: 3\n",
      "Enter number: 1\n",
      "Enter number: 2\n",
      "Enter number: 3\n",
      "[1, 2, 3]\n",
      "Sum of array: 6\n"
     ]
    }
   ],
   "source": [
    "#1. Write a Python Program to find sum of array?\n",
    "\n",
    "def sum_array(s1):\n",
    "    s = 0\n",
    "    for i in s1:\n",
    "        s += i\n",
    "    return s\n",
    "\n",
    "print(f\"Sum of array: {sum_array(size_array())}\")\n"
   ]
  },
  {
   "cell_type": "code",
   "execution_count": 16,
   "id": "d0974607",
   "metadata": {},
   "outputs": [
    {
     "name": "stdout",
     "output_type": "stream",
     "text": [
      "Enter the size of array: 6\n",
      "Enter number: 34\n",
      "Enter number: 76\n",
      "Enter number: 12\n",
      "Enter number: 98\n",
      "Enter number: 23\n",
      "Enter number: 54\n",
      "[34, 76, 12, 98, 23, 54]\n",
      "Largest element of array: 98\n"
     ]
    }
   ],
   "source": [
    "#2. Write a Python Program to find largest element in an array?\n",
    "\n",
    "def larg_array(l):\n",
    "    large = 0\n",
    "    for i in range(len(l)):\n",
    "        if l[i] > large:\n",
    "            large = l[i]\n",
    "    return large\n",
    "\n",
    "print(f\"Largest element of array: {larg_array(size_array())}\")"
   ]
  },
  {
   "cell_type": "code",
   "execution_count": 4,
   "id": "5a663b78",
   "metadata": {},
   "outputs": [
    {
     "name": "stdout",
     "output_type": "stream",
     "text": [
      "Enter the size of array: 8\n",
      "Enter number: 68\n",
      "Enter number: 98\n",
      "Enter number: 345\n",
      "Enter number: 765\n",
      "Enter number: 123\n",
      "Enter number: 875\n",
      "Enter number: 8\n",
      "Enter number: 34\n",
      "[68, 98, 345, 765, 123, 875, 8, 34]\n",
      "Enter Array Rotation Number: 5\n",
      "Array after rotation: [123, 875, 8, 34, 68, 98, 345, 765]\n"
     ]
    }
   ],
   "source": [
    "#3. Write a Python Program for array rotation?\n",
    "\n",
    "def rotation_array(a):\n",
    "    r = int(input(\"Enter Array Rotation Number: \"))\n",
    "    rotation = a[r-1:]+a[0:r-1]\n",
    "    return rotation\n",
    "\n",
    "print(f\"Array after rotation: {rotation_array(size_array())}\")"
   ]
  },
  {
   "cell_type": "code",
   "execution_count": 13,
   "id": "c28dc4ec",
   "metadata": {},
   "outputs": [
    {
     "name": "stdout",
     "output_type": "stream",
     "text": [
      "Enter the size of array: 6\n",
      "Enter number: 675\n",
      "Enter number: 34\n",
      "Enter number: 68\n",
      "Enter number: 23\n",
      "Enter number: 90\n",
      "Enter number: 242\n",
      "[675, 34, 68, 23, 90, 242]\n",
      "Array first part to the end: [34, 68, 23, 90, 242, 675]\n"
     ]
    }
   ],
   "source": [
    "# 4. Write a Python Program to Split the array and add the first part to the end?\n",
    "\n",
    "def firstparttoend(f):\n",
    "    rotation = f[1:]+f[0:1]\n",
    "    return rotation\n",
    "\n",
    "print(f\"Array first part to the end: {firstparttoend(size_array())}\")"
   ]
  },
  {
   "cell_type": "code",
   "execution_count": 16,
   "id": "17c6cabf",
   "metadata": {},
   "outputs": [
    {
     "name": "stdout",
     "output_type": "stream",
     "text": [
      "Enter the size of array: 5\n",
      "Enter number: 6\n",
      "Enter number: 5\n",
      "Enter number: 4\n",
      "Enter number: 3\n",
      "Enter number: 2\n",
      "[6, 5, 4, 3, 2]\n",
      "Monotonic:  True\n"
     ]
    }
   ],
   "source": [
    "# 5. Write a Python Program to check if given array is Monotonic?\n",
    "\n",
    "def isMonotonic(s):\n",
    "    return (all(s[i] <= s[i + 1] for i in range(len(s) - 1)) or\n",
    "            all(s[i] >= s[i + 1] for i in range(len(s) - 1)))\n",
    "\n",
    "print(\"Monotonic: \",isMonotonic(size_array()))"
   ]
  },
  {
   "cell_type": "code",
   "execution_count": null,
   "id": "4664f42f",
   "metadata": {},
   "outputs": [],
   "source": []
  }
 ],
 "metadata": {
  "kernelspec": {
   "display_name": "Python 3 (ipykernel)",
   "language": "python",
   "name": "python3"
  },
  "language_info": {
   "codemirror_mode": {
    "name": "ipython",
    "version": 3
   },
   "file_extension": ".py",
   "mimetype": "text/x-python",
   "name": "python",
   "nbconvert_exporter": "python",
   "pygments_lexer": "ipython3",
   "version": "3.10.9"
  }
 },
 "nbformat": 4,
 "nbformat_minor": 5
}
