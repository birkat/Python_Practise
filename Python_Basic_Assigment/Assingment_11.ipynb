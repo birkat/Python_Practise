{
 "cells": [
  {
   "cell_type": "code",
   "execution_count": 8,
   "id": "5eadeb39",
   "metadata": {},
   "outputs": [
    {
     "name": "stdout",
     "output_type": "stream",
     "text": [
      "Enter sentences: How to submit an assignment Tech neuron\n",
      "Enter length of k: 4\n",
      "submit assignment neuron \n"
     ]
    }
   ],
   "source": [
    "#1. Write a Python program to find words which are greater than given length k?\n",
    "\n",
    "def words_length():\n",
    "    sen = input(\"Enter sentences: \")\n",
    "    k = int(input(\"Enter length of k: \"))\n",
    "    l = \"\"\n",
    "    s = sen.split()\n",
    "    for i in range(len(s)):\n",
    "        if len(s[i]) > k:\n",
    "            l = l + s[i] + \" \"\n",
    "    return l\n",
    "\n",
    "output = words_length()\n",
    "print(output)"
   ]
  },
  {
   "cell_type": "code",
   "execution_count": 5,
   "id": "370f9388",
   "metadata": {},
   "outputs": [
    {
     "name": "stdout",
     "output_type": "stream",
     "text": [
      "Enter String: Pythonprogram\n",
      "Enter i-th character from a string:7\n",
      "Pythonrogram\n"
     ]
    }
   ],
   "source": [
    "#2. Write a Python program for removing i-th character from a string?\n",
    "\n",
    "a = input(\"Enter String: \")\n",
    "n = int(input(\"Enter i-th character from a string:\"))\n",
    "c = a[:n-1] + a[n:]\n",
    "print(c)"
   ]
  },
  {
   "cell_type": "code",
   "execution_count": 9,
   "id": "7d468716",
   "metadata": {},
   "outputs": [
    {
     "name": "stdout",
     "output_type": "stream",
     "text": [
      "Enter sentence: Python program to split and join a string\n",
      "Split: ['Python', 'program', 'to', 'split', 'and', 'join', 'a', 'string']\n",
      "Join: Python program to split and join a string\n"
     ]
    }
   ],
   "source": [
    "#3. Write a Python program to split and join a string?\n",
    "\n",
    "string = input(\"Enter sentence: \")\n",
    "string = string.split()\n",
    "print(f\"Split: {string}\")\n",
    "string = \" \".join(string)\n",
    "print(f\"Join: {string}\")"
   ]
  },
  {
   "cell_type": "code",
   "execution_count": 37,
   "id": "09736ded",
   "metadata": {},
   "outputs": [
    {
     "name": "stdout",
     "output_type": "stream",
     "text": [
      "checking if a given number is binery sting or not: \n",
      "Enter: 0101111011100000\n",
      "0101111011100000 is Binery String\n"
     ]
    }
   ],
   "source": [
    "#4. Write a Python to check if a given string is binary string or not?\n",
    "\n",
    "def binary_string(b_str):\n",
    "    j = \"01\"\n",
    "    for i in b_str:\n",
    "        if i in j:\n",
    "            continue\n",
    "        else:\n",
    "            return 0\n",
    "    else:\n",
    "        return 1\n",
    "\n",
    "print(\"checking if a given number is binery sting or not: \")\n",
    "b_str = input(\"Enter: \")\n",
    "\n",
    "b_string = binary_string(b_str)\n",
    "\n",
    "if b_string == 1:\n",
    "    print(f\"{b_str} is Binery String\")\n",
    "else:\n",
    "    print(f\"{b_str} is not Binery String\")\n",
    "\n"
   ]
  },
  {
   "cell_type": "code",
   "execution_count": 46,
   "id": "df9554e5",
   "metadata": {},
   "outputs": [
    {
     "name": "stdout",
     "output_type": "stream",
     "text": [
      "Enter first string: Python program to find uncommon words\n",
      "Enter second string: uncommon words from two Strings\n",
      "python program to find from two strings \n"
     ]
    }
   ],
   "source": [
    "#5. Write a Python program to find uncommon words from two Strings?\n",
    "\n",
    "def uncommon_str(fst_str, sec_str):\n",
    "    uncomm = \"\"\n",
    "    fst = fst_str.split()\n",
    "    sec = sec_str.split()\n",
    "\n",
    "    for i in fst:\n",
    "        if i not in sec:\n",
    "            uncomm = uncomm + i + \" \"\n",
    "    for j in sec:\n",
    "        if j not in fst:\n",
    "            uncomm = uncomm + j + \" \"\n",
    "    return(uncomm)\n",
    "\n",
    "fst_str = input(\"Enter first string: \").lower()\n",
    "sec_str = input(\"Enter second string: \").lower()\n",
    "\n",
    "result = uncommon_str(fst_str, sec_str)\n",
    "print(result)"
   ]
  },
  {
   "cell_type": "code",
   "execution_count": 55,
   "id": "a4f2d3ea",
   "metadata": {},
   "outputs": [
    {
     "name": "stdout",
     "output_type": "stream",
     "text": [
      "Enter string: duplicate characters\n",
      "First: ['c', 'a', 't', 'e', 'r']\n",
      "Second: ['c', 'a', 't', 'e', 'r']\n"
     ]
    }
   ],
   "source": [
    "# 6. Write a Python to find all duplicate characters in string?\n",
    "\n",
    "def dup_char_1st(d):\n",
    "    p = []\n",
    "    for i in range(len(d)):\n",
    "        for j in range(i+1,len(d)):\n",
    "            if d[i] == d[j]:\n",
    "                if d[i] not in p:\n",
    "                    p.append(d[i])\n",
    "    return p\n",
    "\n",
    "def dup_char_2nd(d):\n",
    "    duplicate = []\n",
    "    for i in d:\n",
    "        if d.count(i) > 1:\n",
    "            if i not in duplicate:\n",
    "                duplicate.append(i)\n",
    "    return duplicate\n",
    "\n",
    "ent_string = input(\"Enter string: \")\n",
    "\n",
    "print(f\"First: {dup_char_1st(ent_string)}\") \n",
    "print(f\"Second: {dup_char_2nd(ent_string)}\")      "
   ]
  },
  {
   "cell_type": "code",
   "execution_count": 56,
   "id": "c16cbfa8",
   "metadata": {},
   "outputs": [
    {
     "name": "stdout",
     "output_type": "stream",
     "text": [
      "Enter string:  $peci@l ch@r@ct*r!!\n",
      "string contains any special character\n"
     ]
    }
   ],
   "source": [
    "#7. Write a Python Program to check if a string contains any special character?\n",
    "\n",
    "def spec_char(sp):\n",
    "    count = 0\n",
    "    special_char = ('@ _ ! # $ % ^ & * ( ) < > ? / \\ | { } ~ :' )\n",
    "    \n",
    "    for i in sp:\n",
    "        if i in special_char:\n",
    "            count = 1\n",
    "            break\n",
    "    if count == 1:\n",
    "        print(\"string contains any special character\")\n",
    "    else:\n",
    "        print(\"string does not have any special character\")\n",
    "\n",
    "sp = input(\"Enter string: \")\n",
    "\n",
    "spec_char(sp)"
   ]
  },
  {
   "cell_type": "code",
   "execution_count": null,
   "id": "5bfd357b",
   "metadata": {},
   "outputs": [],
   "source": []
  }
 ],
 "metadata": {
  "kernelspec": {
   "display_name": "Python 3 (ipykernel)",
   "language": "python",
   "name": "python3"
  },
  "language_info": {
   "codemirror_mode": {
    "name": "ipython",
    "version": 3
   },
   "file_extension": ".py",
   "mimetype": "text/x-python",
   "name": "python",
   "nbconvert_exporter": "python",
   "pygments_lexer": "ipython3",
   "version": "3.10.9"
  }
 },
 "nbformat": 4,
 "nbformat_minor": 5
}
