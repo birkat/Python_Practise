{
 "cells": [
  {
   "cell_type": "code",
   "execution_count": 7,
   "id": "b1093c07",
   "metadata": {},
   "outputs": [],
   "source": [
    "def enter_list():\n",
    "    array = []\n",
    "    size_array = int(input(\"Enter size of the list: \"))\n",
    "    for i in range(size_array):\n",
    "        ele = int(input(\"Enter element in list: \"))\n",
    "        array.append(ele)\n",
    "    return array"
   ]
  },
  {
   "cell_type": "code",
   "execution_count": 5,
   "id": "baf0e791",
   "metadata": {},
   "outputs": [
    {
     "name": "stdout",
     "output_type": "stream",
     "text": [
      "Enter size of the list: 5\n",
      "Enter element in list: 2\n",
      "Enter element in list: 3\n",
      "Enter element in list: 4\n",
      "Enter element in list: 7\n",
      "Enter element in list: 1\n",
      "Elements in list: [2, 3, 4, 7, 1]\n",
      "Sum of elements list: 17\n"
     ]
    }
   ],
   "source": [
    "#1. Write a Python program to find sum of elements in list?\n",
    "\n",
    "output = enter_list()\n",
    "print(f\"Elements in list: {output}\")\n",
    "sum = 0\n",
    "for i in output:\n",
    "    sum += i\n",
    "print(f\"Sum of elements list: {sum}\")"
   ]
  },
  {
   "cell_type": "code",
   "execution_count": 8,
   "id": "ade74b51",
   "metadata": {},
   "outputs": [
    {
     "name": "stdout",
     "output_type": "stream",
     "text": [
      "Enter size of the list: 4\n",
      "Enter element in list: 5\n",
      "Enter element in list: 5\n",
      "Enter element in list: 8\n",
      "Enter element in list: 2\n",
      "Elements in list: [5, 5, 8, 2]\n",
      "Multiply all numbers in the list: 400\n"
     ]
    }
   ],
   "source": [
    "#2. Write a Python program to Multiply all numbers in the list?\n",
    "\n",
    "output2 = enter_list()\n",
    "print(f\"Elements in list: {output2}\")\n",
    "mul = 1\n",
    "for i in output2:\n",
    "    mul *= i\n",
    "print(f\"Multiply all numbers in the list: {mul}\")"
   ]
  },
  {
   "cell_type": "code",
   "execution_count": 27,
   "id": "2a8347e9",
   "metadata": {},
   "outputs": [
    {
     "name": "stdout",
     "output_type": "stream",
     "text": [
      "Enter size of the list: 7\n",
      "Enter element in list: 65\n",
      "Enter element in list: 89\n",
      "Enter element in list: 34\n",
      "Enter element in list: 56\n",
      "Enter element in list: 12\n",
      "Enter element in list: 987\n",
      "Enter element in list: 543\n",
      "Elements in list: [65, 89, 34, 56, 12, 987, 543]\n",
      "Smallest number in a list: 12\n"
     ]
    }
   ],
   "source": [
    "#3. Write a Python program to find smallest number in a list?\n",
    "\n",
    "a = enter_list()\n",
    "\n",
    "print(f\"Elements in list: {a}\")\n",
    "small = a[0]\n",
    "for i in range(len(a)):\n",
    "    if a[i] < small:\n",
    "        small = a[i]\n",
    "print(f\"Smallest number in a list: {small}\")"
   ]
  },
  {
   "cell_type": "code",
   "execution_count": 30,
   "id": "e5a7f99f",
   "metadata": {},
   "outputs": [
    {
     "name": "stdout",
     "output_type": "stream",
     "text": [
      "Enter size of the list: 8\n",
      "Enter element in list: 43\n",
      "Enter element in list: 65\n",
      "Enter element in list: 765\n",
      "Enter element in list: 12\n",
      "Enter element in list: 12\n",
      "Enter element in list: 900\n",
      "Enter element in list: 543\n",
      "Enter element in list: 765\n",
      "Elements in list: [43, 65, 765, 12, 12, 900, 543, 765]\n",
      "Largest number in a list: 900\n"
     ]
    }
   ],
   "source": [
    "#4. Write a Python program to find largest number in a list?\n",
    "l = enter_list()\n",
    "\n",
    "print(f\"Elements in list: {l}\")\n",
    "large = l[0]\n",
    "for i in range(len(l)):\n",
    "    if l[i] > large:\n",
    "        large = l[i]\n",
    "print(f\"Largest number in a list: {large}\")"
   ]
  },
  {
   "cell_type": "code",
   "execution_count": 44,
   "id": "ac68cb68",
   "metadata": {},
   "outputs": [
    {
     "name": "stdout",
     "output_type": "stream",
     "text": [
      "Enter size of the list: 8\n",
      "Enter element in list: 34\n",
      "Enter element in list: 76\n",
      "Enter element in list: 98\n",
      "Enter element in list: 12\n",
      "Enter element in list: 45\n",
      "Enter element in list: 78\n",
      "Enter element in list: 1\n",
      "Enter element in list: 56\n",
      "Elements in list: [34, 76, 98, 12, 45, 78, 1, 56]\n",
      "Second largest number in a list: 78\n"
     ]
    }
   ],
   "source": [
    "#5. Write a Python program to find second largest number in a list?\n",
    "\n",
    "b = enter_list()\n",
    "\n",
    "print(f\"Elements in list: {b}\")\n",
    "#b = [12,45,50,11,56,3]\n",
    "for i in range(len(b)):\n",
    "    for j in range(i+1,len(b)):\n",
    "        if b[i] > b[j]:\n",
    "            b[i], b[j] = b[j], b[i]\n",
    "\n",
    "print(f\"Second largest number in a list: {b[len(b)-2]}\")"
   ]
  },
  {
   "cell_type": "code",
   "execution_count": 103,
   "id": "1d9582b8",
   "metadata": {},
   "outputs": [
    {
     "name": "stdout",
     "output_type": "stream",
     "text": [
      "Enter size of the list: 4\n",
      "Enter element in list: 34\n",
      "Enter element in list: 56\n",
      "Enter element in list: 87\n",
      "Enter element in list: 12\n",
      "Elements in list: [34, 56, 87, 12]\n",
      "Enter to find N largest elements from a list \n",
      "Enter n number:2\n",
      "[87, 56]\n"
     ]
    }
   ],
   "source": [
    "#6. Write a Python program to find N largest elements from a list?\n",
    "\n",
    "c = enter_list()\n",
    "print(f\"Elements in list: {c}\")\n",
    "print(\"Enter to find N largest elements from a list \")\n",
    "n_num = int(input(\"Enter n number:\"))\n",
    "\n",
    "for i in range(len(c)):\n",
    "    for j in range(i+1, len(c)):\n",
    "        if c[i] > c[j]:\n",
    "            c[i], c[j] = c[j], c[i]\n",
    "d = c[::-1]\n",
    "#print(d)\n",
    "print(d[0:n_num])"
   ]
  },
  {
   "cell_type": "code",
   "execution_count": 107,
   "id": "bfff2bee",
   "metadata": {},
   "outputs": [
    {
     "name": "stdout",
     "output_type": "stream",
     "text": [
      "Enter size of the list: 8\n",
      "Enter element in list: 1\n",
      "Enter element in list: 2\n",
      "Enter element in list: 3\n",
      "Enter element in list: 4\n",
      "Enter element in list: 5\n",
      "Enter element in list: 6\n",
      "Enter element in list: 7\n",
      "Enter element in list: 8\n",
      "Elements in list: [1, 2, 3, 4, 5, 6, 7, 8]\n",
      "[2, 4, 6, 8]\n"
     ]
    }
   ],
   "source": [
    "#7. Write a Python program to print even numbers in a list?\n",
    "\n",
    "def even_num(e):\n",
    "    even = []\n",
    "    for i in e:\n",
    "        if i % 2 == 0:\n",
    "            even.append(i)\n",
    "    return even\n",
    "    \n",
    "e = enter_list()\n",
    "print(f\"Elements in list: {e}\")\n",
    "print(even_num(e))"
   ]
  },
  {
   "cell_type": "code",
   "execution_count": 108,
   "id": "0091687d",
   "metadata": {},
   "outputs": [
    {
     "name": "stdout",
     "output_type": "stream",
     "text": [
      "Enter size of the list: 8\n",
      "Enter element in list: 1\n",
      "Enter element in list: 2\n",
      "Enter element in list: 3\n",
      "Enter element in list: 4\n",
      "Enter element in list: 5\n",
      "Enter element in list: 6\n",
      "Enter element in list: 7\n",
      "Enter element in list: 8\n",
      "Elements in list: [1, 2, 3, 4, 5, 6, 7, 8]\n",
      "[1, 3, 5, 7]\n"
     ]
    }
   ],
   "source": [
    "#8. Write a Python program to print odd numbers in a List?\n",
    "\n",
    "def odd_num(f):\n",
    "    odd = []\n",
    "    for i in f:\n",
    "        if i % 2 != 0:\n",
    "            odd.append(i)\n",
    "    return odd\n",
    "    \n",
    "f = enter_list()\n",
    "print(f\"Elements in list: {f}\")\n",
    "print(odd_num(f))"
   ]
  },
  {
   "cell_type": "code",
   "execution_count": 6,
   "id": "8ad6e9e3",
   "metadata": {},
   "outputs": [
    {
     "name": "stdout",
     "output_type": "stream",
     "text": [
      "Enter size of the list: 8\n",
      "Enter elements: 89\n",
      "Enter elements: []\n",
      "Enter elements: 12\n",
      "Enter elements: 43\n",
      "Enter elements: []\n",
      "Enter elements: []\n",
      "Enter elements: 56\n",
      "Enter elements: []\n",
      "['89', '[]', '12', '43', '[]', '[]', '56', '[]']\n",
      "Remove empty List from List:  ['89', '12', '43', '56']\n"
     ]
    }
   ],
   "source": [
    "# 9. Write a Python program to Remove empty List from List?\n",
    "\n",
    "def size_lst():\n",
    "    lst = []\n",
    "    size_list = int(input(\"Enter size of the list: \"))\n",
    "    for i in range(size_list):\n",
    "        l = input(\"Enter elements: \")\n",
    "        lst.append(l)\n",
    "    return(lst)\n",
    "\n",
    "def remove_empty_list(lst):\n",
    "    ele = []\n",
    "    for i in lst:\n",
    "        if i != \"[]\":\n",
    "            ele.append(i)\n",
    "    return(ele)\n",
    "    \n",
    "lst = size_lst()\n",
    "print(lst)\n",
    "result = remove_empty_list(lst)\n",
    "print(f\"Remove empty List from List:  {result}\")"
   ]
  },
  {
   "cell_type": "code",
   "execution_count": 9,
   "id": "0b746bfd",
   "metadata": {},
   "outputs": [
    {
     "name": "stdout",
     "output_type": "stream",
     "text": [
      "Enter size of the list: 8\n",
      "Enter element in list: 89\n",
      "Enter element in list: 98\n",
      "Enter element in list: 54\n",
      "Enter element in list: 34\n",
      "Enter element in list: 21\n",
      "Enter element in list: 22\n",
      "Enter element in list: 45\n",
      "Enter element in list: 78\n",
      "orignal list: [89, 98, 54, 34, 21, 22, 45, 78]\n",
      "After cloning:  [89, 98, 54, 34, 21, 22, 45, 78]\n"
     ]
    }
   ],
   "source": [
    "#10. Write a Python program to Cloning or Copying a list?\n",
    "\n",
    "def clone_list(c_list):\n",
    "    list_copy = c_list\n",
    "    return list_copy\n",
    "\n",
    "c_list = enter_list()\n",
    "\n",
    "print(\"orignal list:\", c_list)\n",
    "\n",
    "print(\"After cloning: \",clone_list(c_list))"
   ]
  },
  {
   "cell_type": "code",
   "execution_count": 14,
   "id": "7e865da0",
   "metadata": {},
   "outputs": [
    {
     "name": "stdout",
     "output_type": "stream",
     "text": [
      "Enter size of the list: 8\n",
      "Enter element in list: 45\n",
      "Enter element in list: 56\n",
      "Enter element in list: 78\n",
      "Enter element in list: 56\n",
      "Enter element in list: 45\n",
      "Enter element in list: 12\n",
      "Enter element in list: 56\n",
      "Enter element in list: 1\n",
      "orignal list: [45, 56, 78, 56, 45, 12, 56, 1]\n",
      "Enter count occurrences number: 45\n",
      "45 has occured 2 times\n"
     ]
    }
   ],
   "source": [
    "#11. Write a Python program to Count occurrences of an element in a list?\n",
    "\n",
    "def count_list(ele_list, co_occu):\n",
    "    count = 0\n",
    "    for i in ele_list:\n",
    "        if i == co_occu:\n",
    "            count += 1\n",
    "    return count\n",
    "\n",
    "ele_list = enter_list()\n",
    "\n",
    "print(f\"orignal list: {ele_list}\")\n",
    "co_occur = int(input(\"Enter count occurrences number: \"))\n",
    "\n",
    "count = count_list(ele_list, co_occur)\n",
    "print(f\"{co_occur} has occured {count} times\")"
   ]
  },
  {
   "cell_type": "code",
   "execution_count": null,
   "id": "20ef6823",
   "metadata": {},
   "outputs": [],
   "source": []
  }
 ],
 "metadata": {
  "kernelspec": {
   "display_name": "Python 3 (ipykernel)",
   "language": "python",
   "name": "python3"
  },
  "language_info": {
   "codemirror_mode": {
    "name": "ipython",
    "version": 3
   },
   "file_extension": ".py",
   "mimetype": "text/x-python",
   "name": "python",
   "nbconvert_exporter": "python",
   "pygments_lexer": "ipython3",
   "version": "3.10.9"
  }
 },
 "nbformat": 4,
 "nbformat_minor": 5
}
