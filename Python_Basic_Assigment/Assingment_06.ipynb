{
 "cells": [
  {
   "cell_type": "code",
   "execution_count": 10,
   "id": "e587b309",
   "metadata": {},
   "outputs": [
    {
     "name": "stdout",
     "output_type": "stream",
     "text": [
      "Enter number to Display Fibonacci Sequence Using Recursion: 10\n",
      "0 1 1 2 3 5 8 13 21 34 "
     ]
    }
   ],
   "source": [
    "#1. Write a Python Program to Display Fibonacci Sequence Using Recursion?\n",
    "\n",
    "def fib(n):\n",
    "    if n == 1:\n",
    "        return 0\n",
    "    if n == 2:\n",
    "        return 1\n",
    "    return fib(n-1) + fib(n-2)\n",
    "\n",
    "n1 = int(input(\"Enter number to Display Fibonacci Sequence Using Recursion: \"))\n",
    "for i in range(1, n1+1):\n",
    "    print(fib(i), end = \" \")"
   ]
  },
  {
   "cell_type": "code",
   "execution_count": 12,
   "id": "02f4de8a",
   "metadata": {},
   "outputs": [
    {
     "name": "stdout",
     "output_type": "stream",
     "text": [
      "Enter number to Find Factorial of Number Using Recursion: 10\n",
      "3628800\n"
     ]
    }
   ],
   "source": [
    "# 2. Write a Python Program to Find Factorial of Number Using Recursion?\n",
    "\n",
    "def fact(n):\n",
    "    if n == 1:\n",
    "        return 1\n",
    "    else:\n",
    "        return n * fact(n-1)\n",
    "\n",
    "n2 = int(input(\"Enter number to Find Factorial of Number Using Recursion: \"))\n",
    "\n",
    "print(fact(n2))"
   ]
  },
  {
   "cell_type": "code",
   "execution_count": 25,
   "id": "a8a75625",
   "metadata": {},
   "outputs": [
    {
     "name": "stdout",
     "output_type": "stream",
     "text": [
      "Height (e.g: 5.4): 5.4\n",
      "Weight (in KG): 68\n",
      "overweight\n"
     ]
    }
   ],
   "source": [
    "#3. Write a Python Program to calculate your Body Mass Index?\n",
    "\n",
    "height = float(input(\"Height (e.g: 5.4): \"))\n",
    "inch = height * 12\n",
    "weight = float(input(\"Weight (in KG): \"))\n",
    "pound = weight * 2.20462\n",
    "bmi = pound / inch** 2 * 703\n",
    "if bmi < 18.5:\n",
    "    print(\"underweight\")\n",
    "elif bmi < 25:\n",
    "    print(\"normal\")\n",
    "elif bmi < 30:\n",
    "    print(\"overweight\")\n",
    "else:\n",
    "    print(\"obese\")"
   ]
  },
  {
   "cell_type": "code",
   "execution_count": 29,
   "id": "7114fada",
   "metadata": {},
   "outputs": [
    {
     "name": "stdout",
     "output_type": "stream",
     "text": [
      "Enter number to calculate the natural logarithm of any number:\n",
      "6\n",
      "Value is: 1.791759469228055\n"
     ]
    }
   ],
   "source": [
    "#4. Write a Python Program to calculate the natural logarithm of any number?\n",
    "import math\n",
    "\n",
    "n4 = int(input(\"Enter number to calculate the natural logarithm of any number:\\n\"))\n",
    "print(f\"Value is: {math.log(n4)}\")"
   ]
  },
  {
   "cell_type": "code",
   "execution_count": 33,
   "id": "ad94d332",
   "metadata": {},
   "outputs": [
    {
     "name": "stdout",
     "output_type": "stream",
     "text": [
      "Enter number: 3\n",
      "36\n"
     ]
    }
   ],
   "source": [
    "#5. Write a Python Program for cube sum of first n natural numbers?\n",
    "\n",
    "s = 0\n",
    "n5 = int(input(\"Enter number: \"))\n",
    "for i in range(1, n5+1):\n",
    "    s += i**3\n",
    "print(s)"
   ]
  },
  {
   "cell_type": "code",
   "execution_count": null,
   "id": "b342a361",
   "metadata": {},
   "outputs": [],
   "source": []
  }
 ],
 "metadata": {
  "kernelspec": {
   "display_name": "Python 3 (ipykernel)",
   "language": "python",
   "name": "python3"
  },
  "language_info": {
   "codemirror_mode": {
    "name": "ipython",
    "version": 3
   },
   "file_extension": ".py",
   "mimetype": "text/x-python",
   "name": "python",
   "nbconvert_exporter": "python",
   "pygments_lexer": "ipython3",
   "version": "3.10.9"
  }
 },
 "nbformat": 4,
 "nbformat_minor": 5
}
