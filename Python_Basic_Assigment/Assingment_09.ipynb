{
 "cells": [
  {
   "cell_type": "code",
   "execution_count": 18,
   "id": "6fe4a5ff",
   "metadata": {},
   "outputs": [
    {
     "name": "stdout",
     "output_type": "stream",
     "text": [
      "Enter number: 175\n",
      "175 is a Disarium Number\n"
     ]
    }
   ],
   "source": [
    "#1. Write a Python program to check if the given number is a Disarium Number?\n",
    "\n",
    "def disarium_number(num):\n",
    "    l = len(str(num))\n",
    "    n = num\n",
    "    sum = 0\n",
    "    while n > 0:\n",
    "        rem = n % 10\n",
    "        sum = sum + (rem ** l)\n",
    "        l -= 1\n",
    "        n = n // 10\n",
    "    return sum\n",
    "\n",
    "num = int(input(\"Enter number: \"))\n",
    "add = disarium_number(num)\n",
    "if add == num:\n",
    "    print(f\"{add} is a Disarium Number\")\n",
    "else:\n",
    "    print(f\"{add} is not a Disarium Number\")\n"
   ]
  },
  {
   "cell_type": "code",
   "execution_count": 20,
   "id": "c0312cb1",
   "metadata": {},
   "outputs": [
    {
     "name": "stdout",
     "output_type": "stream",
     "text": [
      "1\n",
      "2\n",
      "3\n",
      "4\n",
      "5\n",
      "6\n",
      "7\n",
      "8\n",
      "9\n",
      "89\n"
     ]
    }
   ],
   "source": [
    "#2. Write a Python program to print all disarium numbers between 1 to 100?\n",
    "\n",
    "for i in range(1, 101):\n",
    "    l2 = len(str(i))\n",
    "    n2 = i\n",
    "    sum2 = 0\n",
    "    while n2 > 0:\n",
    "        rem2 = n2 % 10\n",
    "        sum2 = sum2 + (rem2 ** l2)\n",
    "        l2 -= 1\n",
    "        n2 = n2 // 10\n",
    "    if sum2 == i:\n",
    "        print(i)"
   ]
  },
  {
   "cell_type": "code",
   "execution_count": 86,
   "id": "983866c1",
   "metadata": {},
   "outputs": [
    {
     "name": "stdout",
     "output_type": "stream",
     "text": [
      "Enter number: 91\n",
      "91 is a Happy Number\n"
     ]
    }
   ],
   "source": [
    "#3. Write a Python program to check if the given number is Happy Number?\n",
    "\n",
    "def happy_num(n):\n",
    "    sum = 0\n",
    "    while n > 0:\n",
    "        rem = n % 10\n",
    "        sum = sum + (rem ** 2)\n",
    "        n = n // 10\n",
    "    return sum\n",
    "\n",
    "n = int(input(\"Enter number: \"))\n",
    "output = n\n",
    "flag = True\n",
    "while flag:\n",
    "    #print(f\"a: {output}\")\n",
    "    if output == 1:\n",
    "        print(f\"{n} is a Happy Number\")\n",
    "        flag = False\n",
    "    elif output == 4:\n",
    "        print(f\"{n} is not a Happy Number\")\n",
    "        break\n",
    "    else:\n",
    "        output = happy_num((output))\n",
    "        "
   ]
  },
  {
   "cell_type": "code",
   "execution_count": 76,
   "id": "62c6cc3b",
   "metadata": {},
   "outputs": [
    {
     "name": "stdout",
     "output_type": "stream",
     "text": [
      "Happy numbers between 1 and 100 are\n",
      "[1, 7, 10, 13, 19, 23, 28, 31, 32, 44, 49, 68, 70, 79, 82, 86, 91, 94, 97, 100]\n"
     ]
    }
   ],
   "source": [
    "# 4. Write a Python program to print all happy numbers between 1 and 100?\n",
    "\n",
    "def happy_num(n):\n",
    "    sum = 0\n",
    "    while n > 0:\n",
    "        rem = n % 10\n",
    "        sum = sum + (rem ** 2)\n",
    "        n = n // 10\n",
    "    return sum\n",
    "\n",
    "happy_number = []\n",
    "print(\"Happy numbers between 1 and 100 are\")\n",
    "for i in range(1,101):\n",
    "    output = i\n",
    "    flag = True\n",
    "    while flag:\n",
    "        #print(f\"a: {output}\")\n",
    "        if output == 1:\n",
    "            happy_number.append(i)\n",
    "            flag = False\n",
    "        elif output == 4:\n",
    "            break\n",
    "        else:\n",
    "            output = happy_num((output))\n",
    "print(happy_number)"
   ]
  },
  {
   "cell_type": "code",
   "execution_count": 100,
   "id": "697651a9",
   "metadata": {},
   "outputs": [
    {
     "name": "stdout",
     "output_type": "stream",
     "text": [
      "Enter number: 153\n",
      "153 is a Harshad number\n"
     ]
    }
   ],
   "source": [
    "#5. Write a Python program to determine whether the given number is a Harshad Number?\n",
    "\n",
    "def harshad_num(n):\n",
    "    num = n\n",
    "    add = 0\n",
    "    while num > 0:\n",
    "        rem = num % 10\n",
    "        add = add + rem\n",
    "        num = num // 10\n",
    "    result = n % add\n",
    "    return result\n",
    "\n",
    "har_num = int(input(\"Enter number: \"))\n",
    "out = harshad_num(har_num)\n",
    "\n",
    "if out == 0:\n",
    "    print(f\"{har_num} is a Harshad number\")\n",
    "else:\n",
    "    print(f\"{har_num} is not a Harshad number\")\n"
   ]
  },
  {
   "cell_type": "code",
   "execution_count": 107,
   "id": "def875c9",
   "metadata": {},
   "outputs": [
    {
     "name": "stdout",
     "output_type": "stream",
     "text": [
      "[2, 6, 12, 20, 30, 42, 56, 72, 90]\n"
     ]
    }
   ],
   "source": [
    "# 6. Write a Python program to print all pronic numbers between 1 and 100?\n",
    "\n",
    "pro_num = []\n",
    "for i in range(1, 101):\n",
    "    for j in range(1,i+1):\n",
    "        if j * (j+1) == i:\n",
    "            pro_num.append(i)\n",
    "print(pro_num)"
   ]
  },
  {
   "cell_type": "code",
   "execution_count": null,
   "id": "87ebb877",
   "metadata": {},
   "outputs": [],
   "source": []
  }
 ],
 "metadata": {
  "kernelspec": {
   "display_name": "Python 3 (ipykernel)",
   "language": "python",
   "name": "python3"
  },
  "language_info": {
   "codemirror_mode": {
    "name": "ipython",
    "version": 3
   },
   "file_extension": ".py",
   "mimetype": "text/x-python",
   "name": "python",
   "nbconvert_exporter": "python",
   "pygments_lexer": "ipython3",
   "version": "3.10.9"
  }
 },
 "nbformat": 4,
 "nbformat_minor": 5
}
