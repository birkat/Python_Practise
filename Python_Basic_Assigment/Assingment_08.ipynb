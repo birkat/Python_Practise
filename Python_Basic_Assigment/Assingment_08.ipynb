{
 "cells": [
  {
   "cell_type": "code",
   "execution_count": 5,
   "id": "31cbc2a4",
   "metadata": {},
   "outputs": [
    {
     "name": "stdout",
     "output_type": "stream",
     "text": [
      "Enter number for m: 3\n",
      "Enter number for n: 3\n",
      "Enter Matrix for A: \n",
      "Enter [00]: -5\n",
      "Enter [01]: 2\n",
      "Enter [02]: 0\n",
      "Enter [10]: 7\n",
      "Enter [11]: -3\n",
      "Enter [12]: 4\n",
      "Enter [20]: -1\n",
      "Enter [21]: 3\n",
      "Enter [22]: 2\n",
      "[[-5, 2, 0], [7, -3, 4], [-1, 3, 2]]\n",
      "Enter Matrix for B: \n",
      "Enter [00]: 0\n",
      "Enter [01]: -1\n",
      "Enter [02]: 8\n",
      "Enter [10]: 6\n",
      "Enter [11]: -14\n",
      "Enter [12]: 2\n",
      "Enter [20]: 9\n",
      "Enter [21]: 5\n",
      "Enter [22]: 1\n",
      "[[0, -1, 8], [6, -14, 2], [9, 5, 1]]\n",
      "Adding Matrix A and B: \n",
      " [[-5, 1, 8], [13, -17, 6], [8, 8, 3]]\n"
     ]
    }
   ],
   "source": [
    "# 1. Write a Python Program to Add Two Matrices?\n",
    "\n",
    "def matrix(m, n):\n",
    "    o=[]\n",
    "    for i in range(m):\n",
    "        r = []\n",
    "        for j in range(n):\n",
    "            inp = int(input(f\"Enter [{i}{j}]: \"))\n",
    "            r.append(inp)\n",
    "        o.append(r)\n",
    "    return o\n",
    "\n",
    "def sum(A, B):\n",
    "    output = []\n",
    "    for i in range(len(A)):\n",
    "        row1 = []\n",
    "        for j in range(len(A[0])):\n",
    "            row1.append(A[i][j] + B[i][j])\n",
    "        output.append(row1)\n",
    "    return output\n",
    "\n",
    "m = int(input(\"Enter number for m: \"))\n",
    "n = int(input(\"Enter number for n: \"))\n",
    "\n",
    "print(\"Enter Matrix for A: \")\n",
    "A = matrix(m, n)\n",
    "print(A)\n",
    "\n",
    "print(\"Enter Matrix for B: \")\n",
    "B = matrix(m, n)\n",
    "print(B)\n",
    "\n",
    "z = sum(A, B)\n",
    "print(\"Adding Matrix A and B: \\n\",z)"
   ]
  },
  {
   "cell_type": "code",
   "execution_count": 6,
   "id": "ee697c6e",
   "metadata": {},
   "outputs": [
    {
     "name": "stdout",
     "output_type": "stream",
     "text": [
      "Enter the row for the first matrix : 3\n",
      "Enter the column for first  matrix : 3\n",
      "Enter the row for the second matrix : 3\n",
      "Enter the column for the second matrix : 2\n",
      "Enter the elements in the matrix A : \n",
      "Enter A[0][0]:2\n",
      "Enter A[0][1]:1\n",
      "Enter A[0][2]:3\n",
      "Enter A[1][0]:5\n",
      "Enter A[1][1]:2\n",
      "Enter A[1][2]:1\n",
      "Enter A[2][0]:2\n",
      "Enter A[2][1]:0\n",
      "Enter A[2][2]:3\n",
      "Enter the elements in the matrix B : \n",
      "Enter B[0][0]:2\n",
      "Enter B[0][1]:3\n",
      "Enter B[1][0]:1\n",
      "Enter B[1][1]:2\n",
      "Enter B[2][0]:4\n",
      "Enter B[2][1]:0\n",
      "Multiplication of matrix A * B is: \n",
      "[17  8]\n",
      "[16 19]\n",
      "[16  6]\n"
     ]
    }
   ],
   "source": [
    "# 2. Write a Python Program to Multiply Two Matrices?\n",
    "import numpy as np\n",
    "\n",
    "row_a = int(input(\"Enter the row for the first matrix : \"))\n",
    "column_a = int(input(\"Enter the column for first  matrix : \"))\n",
    "\n",
    "row_b = int(input(\"Enter the row for the second matrix : \"))\n",
    "column_b = int(input(\"Enter the column for the second matrix : \"))\n",
    "\n",
    "if (column_a != row_b):\n",
    "    print(\"Martix multiplication is not possible!\")\n",
    "\n",
    "else:\n",
    "    C = np.zeros([row_a,column_b],dtype = int)\n",
    "    \n",
    "    A = []\n",
    "    print(\"Enter the elements in the matrix A : \")\n",
    "    for i in range(row_a):\n",
    "        a = []\n",
    "        for j in range(column_a):\n",
    "            x = int(input(f\"Enter A[{i}][{j}]:\"))\n",
    "            a.append(x)\n",
    "        A.append(a)\n",
    "\n",
    "    B = []\n",
    "    print(\"Enter the elements in the matrix B : \")\n",
    "    for i in range(row_b):\n",
    "        b = []\n",
    "        for j in range(column_b):\n",
    "            h = int(input(f\"Enter B[{i}][{j}]:\")) \n",
    "            b.append(h)\n",
    "        B.append(b)\n",
    "\n",
    "    for i in range(0,len(C)):\n",
    "        for j in range(0,len(C[0])):\n",
    "            for k in range(0,len(B)):\n",
    "                C[i][j] += A[i][k] * B[k][j]\n",
    "    \n",
    "    print(\"Multiplication of matrix A * B is: \")\n",
    "    for  row in C:\n",
    "        print(row)"
   ]
  },
  {
   "cell_type": "code",
   "execution_count": 13,
   "id": "7b7df8a4",
   "metadata": {},
   "outputs": [
    {
     "name": "stdout",
     "output_type": "stream",
     "text": [
      "Enter Sentence: a Python Program to Sort Words in Alphabetic Order\n",
      "['a', 'alphabetic', 'in', 'order', 'program', 'python', 'sort', 'to', 'words']\n"
     ]
    }
   ],
   "source": [
    "#4. Write a Python Program to Sort Words in Alphabetic Order?\n",
    "s = input(\"Enter Sentence: \").lower()\n",
    "l = s.split(sep = \" \")\n",
    "m = sorted(l)\n",
    "print(m)"
   ]
  },
  {
   "cell_type": "code",
   "execution_count": 23,
   "id": "1c8fc3c1",
   "metadata": {},
   "outputs": [
    {
     "name": "stdout",
     "output_type": "stream",
     "text": [
      "Enter Punctuation: hello! , how are you? ## &***** what are you doing:;\n",
      " hello  how are you   what are you doing\n"
     ]
    }
   ],
   "source": [
    "#5. Write a Python Program to Remove Punctuation From a String?\n",
    "\n",
    "punctuation = \"\"\"!()-[]{};:\"'\\,<>./?@#$%^&~`*\"\"\"\n",
    "\n",
    "st = \" \"\n",
    "s5 = input(\"Enter Punctuation: \")\n",
    "for i in s5:\n",
    "    if i not in punctuation:\n",
    "        st += i\n",
    "print(st)\n",
    "    \n"
   ]
  },
  {
   "cell_type": "code",
   "execution_count": null,
   "id": "4489a634",
   "metadata": {},
   "outputs": [],
   "source": []
  }
 ],
 "metadata": {
  "kernelspec": {
   "display_name": "Python 3 (ipykernel)",
   "language": "python",
   "name": "python3"
  },
  "language_info": {
   "codemirror_mode": {
    "name": "ipython",
    "version": 3
   },
   "file_extension": ".py",
   "mimetype": "text/x-python",
   "name": "python",
   "nbconvert_exporter": "python",
   "pygments_lexer": "ipython3",
   "version": "3.10.9"
  }
 },
 "nbformat": 4,
 "nbformat_minor": 5
}
