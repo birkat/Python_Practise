{
 "cells": [
  {
   "cell_type": "code",
   "execution_count": 1,
   "id": "f9453758",
   "metadata": {},
   "outputs": [],
   "source": [
    "import logging\n",
    "logging.basicConfig(filename=\"assigment_02.log\", level=logging.INFO, format= '%(asctime)s, %(levelname)s, %(message)s', encoding='utf-8')"
   ]
  },
  {
   "cell_type": "code",
   "execution_count": 2,
   "id": "6501f1d3",
   "metadata": {},
   "outputs": [
    {
     "name": "stdout",
     "output_type": "stream",
     "text": [
      "Enter kilometers to change into miles: 89\n"
     ]
    }
   ],
   "source": [
    "logging.info(\"1. Write a Python program to convert kilometers to miles?\")\n",
    "\n",
    "class Kilometer_Miles:\n",
    "    def __init__(self):\n",
    "        pass\n",
    "    \n",
    "    def kilo_miles(self):\n",
    "        try:\n",
    "            k = int(input(\"Enter kilometers to change into miles: \"))\n",
    "            logging.info(f\"Kilometer is {k}\")\n",
    "            miles = k * 0.621371\n",
    "            logging.info(f\"Converting kilometer: {k} into miles is {round(miles, 4)}\")\n",
    "        except Exception as e:\n",
    "            logging.error(\"Error has happend...\")\n",
    "            logging.exception(\"Exception occured\" + str(e))\n",
    "            \n",
    "kilomiles = Kilometer_Miles()\n",
    "kilomiles.kilo_miles()"
   ]
  },
  {
   "cell_type": "code",
   "execution_count": 3,
   "id": "f4e92b86",
   "metadata": {},
   "outputs": [
    {
     "name": "stdout",
     "output_type": "stream",
     "text": [
      "Enter Celsius to convert into Fahrenheit: 42\n"
     ]
    }
   ],
   "source": [
    "logging.info(f\"2. Write a Python program to convert Celsius to Fahrenheit?\")\n",
    "\n",
    "class Celsius_Fahrenheit:\n",
    "    def __init__(self):\n",
    "        pass\n",
    "    \n",
    "    def cel_fah(self):\n",
    "        try:\n",
    "            c = float(input(\"Enter Celsius to convert into Fahrenheit: \"))\n",
    "            logging.info(f\"Celsius is {c}°C\")\n",
    "            fah = (c * 1.8) + 32\n",
    "            logging.info(f\"Converting Celsius: {c}°C into Fahrenheit: {fah:.2f}°F\")\n",
    "        except Exception as e:\n",
    "            logging.error(\"Error has happend...\")\n",
    "            logging.exception(\"Exception occured\" + str(e))\n",
    "\n",
    "celfah = Celsius_Fahrenheit()\n",
    "celfah.cel_fah()"
   ]
  },
  {
   "cell_type": "code",
   "execution_count": 4,
   "id": "c6435598",
   "metadata": {},
   "outputs": [
    {
     "name": "stdout",
     "output_type": "stream",
     "text": [
      "Enter Year: 1990\n",
      "Enter Month: 04\n"
     ]
    }
   ],
   "source": [
    "logging.info(\"3. Write a Python program to display calendar?\")\n",
    "\n",
    "from datetime import date\n",
    "import calendar\n",
    "\n",
    "class Date_Time:\n",
    "    def __init__(self):\n",
    "        pass\n",
    "    \n",
    "    def date_time(self):\n",
    "        try:\n",
    "            yy=int(input(\"Enter Year: \"))\n",
    "            mm=int(input(\"Enter Month: \"))\n",
    "            logging.info(f\"Enter Year: {yy}, Enter Month: {mm}\")\n",
    "            today=date.today()\n",
    "            logging.info(calendar.month(yy,mm))\n",
    "            logging.info(\"Todays Date: %s\",today)\n",
    "        except Exception as e:\n",
    "            logging.error(\"Error has happend...\")\n",
    "            logging.exception(\"Exception occured\" + str(e))\n",
    "            \n",
    "datetim = Date_Time()\n",
    "datetim.date_time()\n"
   ]
  },
  {
   "cell_type": "code",
   "execution_count": 5,
   "id": "ffa188a3",
   "metadata": {},
   "outputs": [
    {
     "name": "stdout",
     "output_type": "stream",
     "text": [
      "Enter number for a: 12\n",
      "Enter number for b: -23\n",
      "Enter number for c: 11\n"
     ]
    }
   ],
   "source": [
    "logging.info(\"4. Write a Python program to solve quadratic equation?\")\n",
    "\n",
    "import cmath\n",
    "\n",
    "class Quad_Equ:\n",
    "    def __init__(self):\n",
    "        try:\n",
    "            self.a = int(input(\"Enter number for a: \"))\n",
    "            self.b = int(input(\"Enter number for b: \"))\n",
    "            self.c = int(input(\"Enter number for c: \"))\n",
    "            logging.info(f\"Quadratic Equcation: {self.a}x**2 + {self.b}*x + {self.c}=0, are:\")\n",
    "        except Exception as e:\n",
    "            logging.error(\"Error has happend...\")\n",
    "            logging.exception(\"Exception occured\" + str(e))\n",
    "    \n",
    "    def quad_equ(self):\n",
    "        try:\n",
    "            d = (self.b**2) - (4*self.a*self.c)\n",
    "            \n",
    "            sol1 = (-self.b-cmath.sqrt(d))/(2*self.a)\n",
    "            sol2 = (-self.b+cmath.sqrt(d))/(2*self.a)\n",
    "            \n",
    "            if(d>0):\n",
    "                logging.info(\"Types of Root: Two Distinct Real Roots\")\n",
    "            elif(d==0):\n",
    "                logging.info(\"Types of Root: Two Equal Real Roots\")\n",
    "            elif(d<0):\n",
    "                logging.info(\"Types of Root: Two Complex Roots\")\n",
    "                \n",
    "            logging.info(f\"The Solution is: {sol1,sol2}\")\n",
    "            \n",
    "            logging.info(\"Pluging the value of solutions into Quadratic Equcation\")\n",
    "            logging.info(\"Replacing 'x' with solution we got\")\n",
    "            logging.info(\"If we get 0 then we got right solution\")\n",
    "            #print(self.a, self.b, self.c)\n",
    "            #print(sol1.real, sol2.real)\n",
    "            sov1 = (self.a*(sol1.real)**2) + (self.b*(sol1.real)) + self.c\n",
    "            sov2 = (self.a*(sol2.real)**2) + (self.b*(sol2.real)) + self.c\n",
    "            #print(sov1, sov2)\n",
    "            if sov1 == 0 and sov2 == 0:\n",
    "                logging.info(f\"Solution1:{sov1} and Solution:{sov2}, We got the right solution\")\n",
    "            else:\n",
    "                logging.info(\"Investigation is needed to understand why.\")\n",
    "            \n",
    "        except Exception as e:\n",
    "            logging.error(\"Error has happend...\")\n",
    "            logging.exception(\"Exception occured\" + str(e))\n",
    "\n",
    "quadEqu = Quad_Equ()\n",
    "\n",
    "quadEqu.quad_equ()"
   ]
  },
  {
   "cell_type": "code",
   "execution_count": 6,
   "id": "47f9cef9",
   "metadata": {},
   "outputs": [
    {
     "name": "stdout",
     "output_type": "stream",
     "text": [
      "Enter value for a: 45\n",
      "Enter value for b: 178\n"
     ]
    }
   ],
   "source": [
    "logging.info(\"5. Write a Python program to swap two variables without temp variable?\")\n",
    "\n",
    "class Swap_Variables:\n",
    "    def __init__(self):\n",
    "        pass\n",
    "    \n",
    "    def swap(self):\n",
    "        try:\n",
    "            a = input(\"Enter value for a: \")\n",
    "            b = input(\"Enter value for b: \")\n",
    "            logging.info(f\"The value of a: {a}, and b: {b}\")\n",
    "            a,b = b, a\n",
    "            logging.info(f\"After SWAP value of a: {a}, and b: {b}\")\n",
    "        except Exception as e:\n",
    "            logging.error(\"Error has happend...\")\n",
    "            logging.exception(\"Exception occured\" + str(e))\n",
    "            \n",
    "swapvar = Swap_Variables()\n",
    "\n",
    "swapvar.swap()   "
   ]
  },
  {
   "cell_type": "code",
   "execution_count": null,
   "id": "9d65145b",
   "metadata": {},
   "outputs": [],
   "source": []
  }
 ],
 "metadata": {
  "kernelspec": {
   "display_name": "Python 3 (ipykernel)",
   "language": "python",
   "name": "python3"
  },
  "language_info": {
   "codemirror_mode": {
    "name": "ipython",
    "version": 3
   },
   "file_extension": ".py",
   "mimetype": "text/x-python",
   "name": "python",
   "nbconvert_exporter": "python",
   "pygments_lexer": "ipython3",
   "version": "3.10.9"
  }
 },
 "nbformat": 4,
 "nbformat_minor": 5
}
