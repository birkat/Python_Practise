{
 "cells": [
  {
   "cell_type": "code",
   "execution_count": 1,
   "id": "9a5d534c",
   "metadata": {},
   "outputs": [],
   "source": [
    "def size_dictionary():\n",
    "    a = dict()\n",
    "    size_dict = int(input(\"Enter the size of Dictionary: \"))\n",
    "\n",
    "    for i in range(size_dict):\n",
    "        key = input(\"Enter key: \")\n",
    "        val = input(\"Enter value (comma-separated): \")\n",
    "        a[key] = val.split(',')\n",
    "    return a"
   ]
  },
  {
   "cell_type": "code",
   "execution_count": 53,
   "id": "eb330d73",
   "metadata": {},
   "outputs": [
    {
     "name": "stdout",
     "output_type": "stream",
     "text": [
      "Enter the size of Dictionary: 2\n",
      "Enter key: a\n",
      "Enter value (comma-separated): 1,2,3,tech,4,ineuron\n",
      "Enter key: b\n",
      "Enter value (comma-separated): 2,3,ineuron,4,tech,5,6\n",
      "Original Dictionary: {'a': ['1', '2', '3', 'tech', '4', 'ineuron'], 'b': ['2', '3', 'ineuron', '4', 'tech', '5', '6']}\n",
      "Unique Values: ['1', '5', 'ineuron', '6', '4', 'tech', '3', '2']\n"
     ]
    }
   ],
   "source": [
    "#1. Write a Python program to Extract Unique values dictionary values?\n",
    "\n",
    "a = size_dictionary()\n",
    "\n",
    "print(\"Original Dictionary:\", a)\n",
    "\n",
    "unique_val = set()\n",
    "for i in a.values():\n",
    "    unique_val.update(i)\n",
    "\n",
    "print(\"Unique Values:\", list(unique_val))\n"
   ]
  },
  {
   "cell_type": "code",
   "execution_count": 54,
   "id": "148f8cea",
   "metadata": {},
   "outputs": [
    {
     "name": "stdout",
     "output_type": "stream",
     "text": [
      "Enter the size of Dictionary: 3\n",
      "Enter key: a\n",
      "Enter value (comma-separated): 1,2,3,4,5\n",
      "Enter key: b\n",
      "Enter value (comma-separated): 2\n",
      "Enter key: c\n",
      "Enter value (comma-separated): 1,1,1,3\n",
      "Original Dictionary: dict_values([['1', '2', '3', '4', '5'], ['2'], ['1', '1', '1', '3']])\n",
      "sum of all items in a dictionary: 23\n"
     ]
    }
   ],
   "source": [
    "#2. Write a Python program to find the sum of all items in a dictionary?\n",
    "\n",
    "s = size_dictionary()\n",
    "\n",
    "print(\"Original Dictionary:\", s.values())\n",
    "sum = 0\n",
    "for i in s.values():\n",
    "    for j in i:\n",
    "        sum = sum + int(j)\n",
    "print(f\"sum of all items in a dictionary: {sum}\")"
   ]
  },
  {
   "cell_type": "code",
   "execution_count": 63,
   "id": "09ca849d",
   "metadata": {},
   "outputs": [
    {
     "name": "stdout",
     "output_type": "stream",
     "text": [
      "Enter the size of Dictionary: 2\n",
      "Enter key: a\n",
      "Enter value (comma-separated): 1,2,3\n",
      "Enter key: b\n",
      "Enter value (comma-separated): 4,5,6\n",
      "Enter the size of Dictionary: 2\n",
      "Enter key: c\n",
      "Enter value (comma-separated): sudh\n",
      "Enter key: d\n",
      "Enter value (comma-separated): 4,8,tech,(1,2,3)\n",
      "Merging two Dictionaries: {'a': ['1', '2', '3'], 'b': ['4', '5', '6'], 'c': ['sudh'], 'd': ['4', '8', 'tech', '(1', '2', '3)']}\n"
     ]
    }
   ],
   "source": [
    "#3. Write a Python program to Merging two Dictionaries?\n",
    "\n",
    "merg1 = size_dictionary()\n",
    "merg2 = size_dictionary()\n",
    "\n",
    "merg1.update(merg2)\n",
    "print(f\"Merging two Dictionaries: {merg1}\")"
   ]
  },
  {
   "cell_type": "code",
   "execution_count": 1,
   "id": "41173f4e",
   "metadata": {},
   "outputs": [
    {
     "name": "stdout",
     "output_type": "stream",
     "text": [
      "The dictionary is : \n",
      "{'month_num': [1, 2, 3, 4, 5, 6], 'name_of_month': ['Jan', 'Feb', 'March', 'Apr', 'May', 'June']}\n",
      "The flattened dictionary is: \n",
      "{1: 'Jan', 2: 'Feb', 3: 'March', 4: 'Apr', 5: 'May', 6: 'June'}\n"
     ]
    }
   ],
   "source": [
    "#4. Write a Python program to convert key-values list to flat dictionary? \n",
    "\n",
    "\n",
    "my_dict = {'month_num' : [1, 2, 3, 4, 5, 6], 'name_of_month' : ['Jan', 'Feb', 'March', 'Apr', 'May', 'June']}\n",
    "\n",
    "print(\"The dictionary is : \")\n",
    "print(my_dict)\n",
    "\n",
    "my_result = dict(zip(my_dict['month_num'], my_dict['name_of_month']))\n",
    "\n",
    "print(\"The flattened dictionary is: \")\n",
    "print(my_result)"
   ]
  },
  {
   "cell_type": "code",
   "execution_count": 3,
   "id": "e512841a",
   "metadata": {},
   "outputs": [
    {
     "name": "stdout",
     "output_type": "stream",
     "text": [
      "Enter size of Dictionary one: 2\n",
      "Enter Key: 1\n",
      "Enter vlaue: sudh\n",
      "Enter Key: 2\n",
      "Enter vlaue: 1,2,3\n",
      "Enter size of Dictionary Two: 1\n",
      "Enter Key: 3\n",
      "Enter vlaue: ineuron\n",
      "{'3': 'ineuron', '1': 'sudh', '2': '1,2,3'}\n"
     ]
    }
   ],
   "source": [
    "#5. Write a Python program to insertion at the beginning in OrderedDict?\n",
    "\n",
    "def ent_elem(m1):\n",
    "    m = dict()\n",
    "    for i in range(m1):\n",
    "        key2 = input(\"Enter Key: \")\n",
    "        value2= input(\"Enter vlaue: \")\n",
    "        m[key2] = value2\n",
    "    return m\n",
    "\n",
    "m_size1 = int(input(\"Enter size of Dictionary one: \"))\n",
    "dic1 = ent_elem(m_size1)\n",
    "\n",
    "m_size2 = int(input(\"Enter size of Dictionary Two: \"))\n",
    "dic2 = ent_elem(m_size2)\n",
    "\n",
    "dic2.update(dic1)\n",
    "\n",
    "print(dic2)"
   ]
  },
  {
   "cell_type": "code",
   "execution_count": 23,
   "id": "27ba0bf7",
   "metadata": {},
   "outputs": [
    {
     "name": "stdout",
     "output_type": "stream",
     "text": [
      "Enter string: partten\n",
      "Enter match words: aten\n",
      "True\n"
     ]
    }
   ],
   "source": [
    "#6. Write a Python program to check order of character in string using OrderedDict()?\n",
    "\n",
    "from collections import OrderedDict\n",
    "\n",
    "def order_check(dict_string, partten):\n",
    "    dict = OrderedDict.fromkeys(dict_string)\n",
    "    \n",
    "    plen = 0\n",
    "    for keys, values in dict.items():\n",
    "        if keys == partten[plen]:\n",
    "            plen = plen + 1\n",
    "            \n",
    "        if plen == len(partten):\n",
    "            return True\n",
    "        \n",
    "    return False\n",
    "\n",
    "dict_string = input(\"Enter string: \")\n",
    "partten = input(\"Enter match words: \")\n",
    "\n",
    "print(order_check(dict_string, partten))"
   ]
  },
  {
   "cell_type": "code",
   "execution_count": 6,
   "id": "32050f61",
   "metadata": {},
   "outputs": [
    {
     "name": "stdout",
     "output_type": "stream",
     "text": [
      "Enter the size of Dictionary: 4\n",
      "Enter key: 4\n",
      "Enter value (comma-separated): sadf\n",
      "Enter key: 1\n",
      "Enter value (comma-separated): asdv\n",
      "Enter key: 5\n",
      "Enter value (comma-separated): sdvv\n",
      "Enter key: 2\n",
      "Enter value (comma-separated): sad\n",
      "['1', '2', '4', '5']\n"
     ]
    }
   ],
   "source": [
    "#7. Write a Python program to sort Python Dictionaries by Key or Value?\n",
    "\n",
    "k = size_dictionary()\n",
    "print(sorted(k.keys()))\n",
    "    "
   ]
  },
  {
   "cell_type": "code",
   "execution_count": null,
   "id": "e6210fb4",
   "metadata": {},
   "outputs": [],
   "source": []
  }
 ],
 "metadata": {
  "kernelspec": {
   "display_name": "Python 3 (ipykernel)",
   "language": "python",
   "name": "python3"
  },
  "language_info": {
   "codemirror_mode": {
    "name": "ipython",
    "version": 3
   },
   "file_extension": ".py",
   "mimetype": "text/x-python",
   "name": "python",
   "nbconvert_exporter": "python",
   "pygments_lexer": "ipython3",
   "version": "3.10.9"
  }
 },
 "nbformat": 4,
 "nbformat_minor": 5
}
