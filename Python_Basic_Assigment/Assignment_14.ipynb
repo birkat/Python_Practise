{
 "cells": [
  {
   "cell_type": "code",
   "execution_count": 1,
   "id": "8a798afa",
   "metadata": {},
   "outputs": [
    {
     "data": {
      "text/plain": [
       "'Define a class with a generator which can iterate the numbers, which are divisible by\\n7, between a given range 0 and n.'"
      ]
     },
     "execution_count": 1,
     "metadata": {},
     "output_type": "execute_result"
    }
   ],
   "source": [
    "\"\"\"Define a class with a generator which can iterate the numbers, which are divisible by\n",
    "7, between a given range 0 and n.\"\"\""
   ]
  },
  {
   "cell_type": "code",
   "execution_count": 23,
   "id": "3149c3b3",
   "metadata": {},
   "outputs": [
    {
     "name": "stdout",
     "output_type": "stream",
     "text": [
      "Enter words: New to Python or choosing between Python 2 and Python 3? Read Python 2 or Python 3.\n",
      "2: 2\n",
      "3.: 1\n",
      "3?: 1\n",
      "New: 1\n",
      "Python: 5\n",
      "Read: 1\n",
      "and: 1\n",
      "between: 1\n",
      "choosing: 1\n",
      "or: 2\n",
      "to: 1\n"
     ]
    }
   ],
   "source": [
    "\"\"\"Question 2:\n",
    "Write a program to compute the frequency of the words from the input. The output\n",
    "should output after sorting the key alphanumerically.\n",
    "Suppose the following input is supplied to the program:\n",
    "New to Python or choosing between Python 2 and Python 3? Read Python 2 or\n",
    "Python 3.\n",
    "Then, the output should be:\n",
    "2:2\n",
    "3.:1\n",
    "3?:1\n",
    "New:1\n",
    "Python:5\n",
    "Read:1\n",
    "and:1\n",
    "between:1\n",
    "choosing:1\n",
    "or:2\n",
    "to:1\"\"\"\n",
    "\n",
    "rep = []\n",
    "input_words = input(\"Enter words: \").split(\" \")\n",
    "input_words.sort()\n",
    "w = list(input_words)\n",
    "\n",
    "for i in range(len(w)):\n",
    "    if w[i] not in rep:\n",
    "        print(f\"{w[i]}: {w.count(w[i])}\")\n",
    "        rep.append(w[i])\n",
    "        "
   ]
  },
  {
   "cell_type": "code",
   "execution_count": 35,
   "id": "8444c034",
   "metadata": {},
   "outputs": [],
   "source": [
    "\"\"\"Question 3:\n",
    "\n",
    "Define a class Person and its two child classes: Male and Female. All classes have a\n",
    "method \"getGender\" which can print \"Male\" for Male class and \"Female\" for Female\n",
    "class.\"\"\"\n",
    "\n",
    "class Person:\n",
    "    def __init__(self):\n",
    "        pass\n",
    "        \n",
    "    def getgender(self):\n",
    "        pass\n",
    "        \n",
    "class Male(Person):\n",
    "    def getgender(self):\n",
    "        return \"Male\"\n",
    "    \n",
    "class Female(Person):\n",
    "    def getgender(self):\n",
    "        return \"Female\"\n",
    "    \n",
    "p = Person()"
   ]
  },
  {
   "cell_type": "code",
   "execution_count": 36,
   "id": "a5018633",
   "metadata": {},
   "outputs": [
    {
     "data": {
      "text/plain": [
       "'Male'"
      ]
     },
     "execution_count": 36,
     "metadata": {},
     "output_type": "execute_result"
    }
   ],
   "source": [
    "m = Male()\n",
    "m.getgender()"
   ]
  },
  {
   "cell_type": "code",
   "execution_count": 37,
   "id": "65df20f2",
   "metadata": {},
   "outputs": [
    {
     "data": {
      "text/plain": [
       "'Female'"
      ]
     },
     "execution_count": 37,
     "metadata": {},
     "output_type": "execute_result"
    }
   ],
   "source": [
    "f = Female()\n",
    "f.getgender()"
   ]
  },
  {
   "cell_type": "code",
   "execution_count": 39,
   "id": "68ebe4d1",
   "metadata": {},
   "outputs": [
    {
     "name": "stdout",
     "output_type": "stream",
     "text": [
      "I Play Hockey\n",
      "I Play Football\n",
      "I Love Hockey\n",
      "I Love Football\n",
      "You Play Hockey\n",
      "You Play Football\n",
      "You Love Hockey\n",
      "You Love Football\n"
     ]
    }
   ],
   "source": [
    "\"\"\"Question 4:\n",
    "Please write a program to generate all sentences where subject is in [I, You] and\n",
    "verb is in [Play,Love] and the object is in [Hockey,Football].\"\"\"\n",
    "\n",
    "s = [\"I\", \"You\"]\n",
    "v = [\"Play\", \"Love\"]\n",
    "o = [\"Hockey\", \"Football\"]\n",
    "\n",
    "for i in s:\n",
    "    for j in v:\n",
    "        for k in o:\n",
    "            print(i, j, k,)\n"
   ]
  },
  {
   "cell_type": "code",
   "execution_count": 46,
   "id": "0ff7b754",
   "metadata": {},
   "outputs": [
    {
     "name": "stdout",
     "output_type": "stream",
     "text": [
      "b'x\\x9c\\xcbH\\xcd\\xc9\\xc9W(\\xcf/\\xcaIQ\\xcc \\x82\\r\\x00\\xbd[\\x11\\xf5'\n",
      "b'hello world!hello world!hello world!hello world!'\n"
     ]
    }
   ],
   "source": [
    "\"\"\"Question 5:\n",
    "Please write a program to compress and decompress the string \"hello world!hello\n",
    "world!hello world!hello world!\".\"\"\"\n",
    "\n",
    "import zlib\n",
    "\n",
    "text = 'hello world!hello world!hello world!hello world!'.encode()\n",
    "comp = zlib.compress(text)\n",
    "print(comp)\n",
    "print(zlib.decompress(comp))"
   ]
  },
  {
   "cell_type": "code",
   "execution_count": 88,
   "id": "4469ca90",
   "metadata": {},
   "outputs": [
    {
     "name": "stdout",
     "output_type": "stream",
     "text": [
      "Enter size of list: 8\n",
      "Enter element: 45\n",
      "Enter element: 89\n",
      "Enter element: 23\n",
      "Enter element: 56\n",
      "Enter element: 90\n",
      "Enter element: 12\n",
      "Enter element: 52\n",
      "Enter element: 66\n",
      "[12, 23, 45, 52, 56, 66, 89, 90]\n",
      "Enter the search key: 89\n",
      "search key:89, Index of the search Key:7\n"
     ]
    }
   ],
   "source": [
    " \"\"\"Question 6:\n",
    "Please write a binary search function which searches an item in a sorted list. The\n",
    "function should return the index of element to be searched in the list.\"\"\"\n",
    "\n",
    "def enter_ele():\n",
    "    lst = []\n",
    "    size = int(input(\"Enter size of list: \"))\n",
    "    for i in range(size):\n",
    "        ele = int(input(\"Enter element: \"))\n",
    "        lst.append(ele)\n",
    "    return sorted(lst)\n",
    "\n",
    "def binary_search(nums, key):\n",
    "    flag = 0\n",
    "    i = 0\n",
    "    j = len(nums) - 1\n",
    "    while i<=j and flag == 0:\n",
    "        mid = (i + j) // 2\n",
    "        \n",
    "        if nums[mid] == key:\n",
    "            flag = 1\n",
    "            pos = mid + 1\n",
    "        if nums[mid] > key:\n",
    "            j = mid -1\n",
    "        if nums[mid] < key:\n",
    "            i = mid + 1\n",
    "    if flag == 1:\n",
    "        return pos\n",
    "    else:\n",
    "        return \"Not Found\"\n",
    "\n",
    "nums = enter_ele()\n",
    "print(nums)\n",
    "key = int(input(\"Enter the search key: \"))\n",
    "output = binary_search(nums, key)\n",
    "print(f\"search key:{key}, Index of the search Key:{output}\")\n"
   ]
  },
  {
   "cell_type": "code",
   "execution_count": null,
   "id": "e66ee84d",
   "metadata": {},
   "outputs": [],
   "source": []
  }
 ],
 "metadata": {
  "kernelspec": {
   "display_name": "Python 3 (ipykernel)",
   "language": "python",
   "name": "python3"
  },
  "language_info": {
   "codemirror_mode": {
    "name": "ipython",
    "version": 3
   },
   "file_extension": ".py",
   "mimetype": "text/x-python",
   "name": "python",
   "nbconvert_exporter": "python",
   "pygments_lexer": "ipython3",
   "version": "3.10.9"
  }
 },
 "nbformat": 4,
 "nbformat_minor": 5
}
