{
 "cells": [
  {
   "cell_type": "code",
   "execution_count": 1,
   "id": "96ad7bc6",
   "metadata": {},
   "outputs": [],
   "source": [
    "import logging\n",
    "logging.basicConfig(filename=\"assigment_03.log\", level=logging.INFO, format='%(asctime)s, %(levelname)s, %(message)s')"
   ]
  },
  {
   "cell_type": "code",
   "execution_count": 2,
   "id": "d988891a",
   "metadata": {},
   "outputs": [
    {
     "name": "stdout",
     "output_type": "stream",
     "text": [
      "Enter number to Check if a Number is Positive, Negative or Zero: -12\n"
     ]
    }
   ],
   "source": [
    "logging.info(\"1. Write a Python Program to Check if a Number is Positive, Negative or Zero?\")\n",
    "\n",
    "class Number:\n",
    "    \n",
    "    def check_numb(self):\n",
    "        try:\n",
    "            num = int(input(\"Enter number to Check if a Number is Positive, Negative or Zero: \"))\n",
    "            if num > 0:\n",
    "                logging.info(f\"{num} is a Positive Number\")\n",
    "            elif num < 0:\n",
    "                logging.info(f\"{num} is a Negative Number\")\n",
    "            elif num == 0:\n",
    "                logging.info(f\"{num} is Zero\")\n",
    "        except Exception as e:\n",
    "            logging.error(\"Error has happend...\")\n",
    "            logging.exception(\"Exception occured\" + str(e))\n",
    "            \n",
    "chk_num = Number()\n",
    "chk_num.check_numb()"
   ]
  },
  {
   "cell_type": "code",
   "execution_count": 3,
   "id": "6f0e340a",
   "metadata": {},
   "outputs": [
    {
     "name": "stdout",
     "output_type": "stream",
     "text": [
      "Enter number: to Check if a Number is Odd or Even: 1009\n"
     ]
    }
   ],
   "source": [
    "logging.info(\"2. Write a Python Program to Check if a Number is Odd or Even?\")\n",
    "\n",
    "class OddEven:\n",
    "    \n",
    "    def chk_odd_even(self):\n",
    "        try:\n",
    "            num1 = int(input(\"Enter number: to Check if a Number is Odd or Even: \"))\n",
    "            if num1 % 2 == 0:\n",
    "                logging.info(f\"{num1} is Even number\")\n",
    "            else:\n",
    "                logging.info(f\"{num1} is Odd number\")\n",
    "        except Exception as e:\n",
    "            logging.error(\"Error has happend...\")\n",
    "            logging.exception(\"Exception occured\" + str(e))\n",
    "                     \n",
    "odd_even = OddEven()\n",
    "odd_even.chk_odd_even()"
   ]
  },
  {
   "cell_type": "code",
   "execution_count": 4,
   "id": "9114df5e",
   "metadata": {},
   "outputs": [
    {
     "name": "stdout",
     "output_type": "stream",
     "text": [
      "Enter Year: to check leap year: 2024\n"
     ]
    }
   ],
   "source": [
    "logging.info(\"3. Write a Python Program to Check Leap Year?\")\n",
    "\n",
    "class LeapYear:\n",
    "    try:\n",
    "        def chk_leap(self):\n",
    "            num2 = int(input(\"Enter Year: to check leap year: \"))\n",
    "            if (num2 % 4 == 0 and num2 % 100 !=0) or (num2 % 4 == 0):\n",
    "                logging.info(f\"{num2} is a leap year\")\n",
    "            else:\n",
    "                logging.info(f\"{num2} is not a leap year\")\n",
    "    except Exception as e:\n",
    "            logging.error(\"Error has happend...\")\n",
    "            logging.exception(\"Exception occured\" + str(e))\n",
    "            \n",
    "leap_year = LeapYear()\n",
    "leap_year.chk_leap()"
   ]
  },
  {
   "cell_type": "code",
   "execution_count": 5,
   "id": "fe9fe5a2",
   "metadata": {},
   "outputs": [
    {
     "name": "stdout",
     "output_type": "stream",
     "text": [
      "Enter number to check prime number: 197\n"
     ]
    }
   ],
   "source": [
    "logging.info(\"4. Write a Python Program to Check Prime Number?\")\n",
    "\n",
    "class PrimeNumber:\n",
    "    \n",
    "    def chk_primenumber(self):\n",
    "        try:\n",
    "            num3 = int(input(\"Enter number to check prime number: \"))\n",
    "            if num3 > 1:\n",
    "                for i in range(2,int(num3/2)+1):\n",
    "                    if num3 % i == 0:\n",
    "                        logging.info(f\"{num3} is not a prime number\")\n",
    "                        break\n",
    "                else:\n",
    "                    logging.info(f\"{num3} is a prime number\") \n",
    "        except Exception as e:\n",
    "            logging.error(\"Error has happend...\")\n",
    "            logging.exception(\"Exception occured\" + str(e))\n",
    "            \n",
    "prime_no = PrimeNumber()\n",
    "prime_no.chk_primenumber()"
   ]
  },
  {
   "cell_type": "code",
   "execution_count": 49,
   "id": "429be5d4",
   "metadata": {},
   "outputs": [
    {
     "name": "stdout",
     "output_type": "stream",
     "text": [
      "Enter number to check prime number: 5531\n",
      "5531 is a prime number\n"
     ]
    }
   ],
   "source": [
    "count = 0\n",
    "\n",
    "num3 = int(input(\"Enter number to check prime number: \"))\n",
    "for i in range(1,num3+1):\n",
    "    if num3 % i == 0:\n",
    "        count += 1\n",
    "if count == 2:        \n",
    "    print(f\"{num3} is a prime number\")\n",
    "else:\n",
    "    print(f\"{num3} is not a prime number\") "
   ]
  },
  {
   "cell_type": "code",
   "execution_count": 6,
   "id": "02b7377f",
   "metadata": {},
   "outputs": [],
   "source": [
    "logging.info(\"5. Write a Python Program to Print all Prime Numbers in an Interval of 1-10000?\")\n",
    "\n",
    "class AllPrimeNumber:\n",
    "    \n",
    "    def all_prime_number(self):\n",
    "        try:\n",
    "            pn=[]\n",
    "            for i in range(1, 10000+1):\n",
    "                count = 0\n",
    "                for j in range(1, i + 1):\n",
    "                    if i % j == 0:\n",
    "                        count += 1\n",
    "                if count == 2:\n",
    "                    pn.append(i)\n",
    "            logging.info(pn)\n",
    "        except Exception as e:\n",
    "            logging.error(\"Error has happend...\")\n",
    "            logging.exception(\"Exception occured\" + str(e))\n",
    "\n",
    "all_prime_no = AllPrimeNumber()\n",
    "all_prime_no.all_prime_number()"
   ]
  },
  {
   "cell_type": "code",
   "execution_count": null,
   "id": "fd2413d4",
   "metadata": {},
   "outputs": [],
   "source": []
  }
 ],
 "metadata": {
  "kernelspec": {
   "display_name": "Python 3 (ipykernel)",
   "language": "python",
   "name": "python3"
  },
  "language_info": {
   "codemirror_mode": {
    "name": "ipython",
    "version": 3
   },
   "file_extension": ".py",
   "mimetype": "text/x-python",
   "name": "python",
   "nbconvert_exporter": "python",
   "pygments_lexer": "ipython3",
   "version": "3.10.9"
  }
 },
 "nbformat": 4,
 "nbformat_minor": 5
}
