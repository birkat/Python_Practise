{
 "cells": [
  {
   "cell_type": "code",
   "execution_count": 20,
   "id": "3329364b",
   "metadata": {},
   "outputs": [
    {
     "name": "stdout",
     "output_type": "stream",
     "text": [
      "Enter number: 100\n",
      "0,35,70\n"
     ]
    }
   ],
   "source": [
    "\"\"\"Question 1:\n",
    "Please write a program using generator to print the numbers which can be divisible by 5 and\n",
    "7 between 0 and n in comma separated form while n is input by console.\n",
    "Example:\n",
    "If the following n is given as input to the program:\n",
    "100\n",
    "Then, the output of the program should be:\n",
    "0,35,70\"\"\"\n",
    "\n",
    "\n",
    "def show(a):\n",
    "    for i in range(a+1):\n",
    "        if i % 5 == 0 and i % 7 == 0:\n",
    "            yield i\n",
    "\n",
    "n = int(input(\"Enter number: \"))\n",
    "\n",
    "result = show(n)\n",
    "\n",
    "output = [str(i) for i in result]\n",
    "print(\",\".join(output))"
   ]
  },
  {
   "cell_type": "code",
   "execution_count": 22,
   "id": "82c25573",
   "metadata": {},
   "outputs": [
    {
     "name": "stdout",
     "output_type": "stream",
     "text": [
      "Enter number: 10\n",
      "0,2,4,6,8,10\n"
     ]
    }
   ],
   "source": [
    "\"\"\"Question 2:\n",
    "Please write a program using generator to print the even numbers between 0 and n in comma\n",
    "separated form while n is input by console.\n",
    "Example:\n",
    "If the following n is given as input to the program:\n",
    "10\n",
    "Then, the output of the program should be:\n",
    "0,2,4,6,8,10\"\"\"\n",
    "\n",
    "def even_num(n1):\n",
    "    for i in range(n1 + 1):\n",
    "        if i % 2 == 0:\n",
    "            yield i\n",
    "            \n",
    "n1 = int(input(\"Enter number: \"))\n",
    "\n",
    "result1 = even_num(n1)\n",
    "\n",
    "output1 = [str(i) for i in result1]\n",
    "print(\",\".join(output1))"
   ]
  },
  {
   "cell_type": "code",
   "execution_count": 24,
   "id": "8e7b4615",
   "metadata": {},
   "outputs": [
    {
     "name": "stdout",
     "output_type": "stream",
     "text": [
      "Enter size: 10\n",
      "[0, 1, 1, 2, 3, 5, 8, 13, 21, 34]\n"
     ]
    }
   ],
   "source": [
    "\"\"\"Question 3:\n",
    "The Fibonacci Sequence is computed based on the following formula:\n",
    "f(n)=0 if n=0\n",
    "f(n)=1 if n=1\n",
    "f(n)=f(n-1)+f(n-2) if n>1\n",
    "Please write a program using list comprehension to print the Fibonacci Sequence in comma\n",
    "separated form with a given n input by console.\n",
    "Example:\n",
    "If the following n is given as input to the program:\n",
    "7\n",
    "\n",
    "Then, the output of the program should be:\n",
    "0,1,1,2,3,5,8,13\"\"\"\n",
    "\n",
    "n2 = int(input(\"Enter size: \"))\n",
    "fib_list = [0, 1]\n",
    "[fib_list.append(fib_list[-2] + fib_list[-1]) for i in range(n2-2)]\n",
    "print(fib_list)"
   ]
  },
  {
   "cell_type": "code",
   "execution_count": 29,
   "id": "0eb0ea35",
   "metadata": {},
   "outputs": [
    {
     "name": "stdout",
     "output_type": "stream",
     "text": [
      "Enter email address: john@google.com\n",
      "username: john\n"
     ]
    }
   ],
   "source": [
    "\"\"\"Question 4:\n",
    "Assuming that we have some email addresses in the \"username@companyname.com\" format,\n",
    "please write program to print the user name of a given email address. Both user names and\n",
    "company names are composed of letters only.\n",
    "Example:\n",
    "If the following email address is given as input to the program:\n",
    "john@google.com\n",
    "Then, the output of the program should be:\n",
    "john\"\"\"\n",
    "\n",
    "n3 = input(\"Enter email address: \").split(\"@\")\n",
    "print(\"username:\",n3[0])\n"
   ]
  },
  {
   "cell_type": "code",
   "execution_count": 30,
   "id": "618a8a39",
   "metadata": {},
   "outputs": [
    {
     "name": "stdout",
     "output_type": "stream",
     "text": [
      "area of shape: 0\n",
      "area of square: 36\n"
     ]
    }
   ],
   "source": [
    "\"\"\"Question 5:\n",
    "Define a class named Shape and its subclass Square. The Square class has an init function\n",
    "which takes a length as argument. Both classes have a area function which can print the area\n",
    "of the shape where Shape's area is 0 by default.\"\"\"\n",
    "\n",
    "class shape:\n",
    "    def __init__(self):\n",
    "        pass\n",
    "    \n",
    "    def area(self):\n",
    "        return 0\n",
    "    \n",
    "class square(shape):\n",
    "    def __init__(self, length):\n",
    "        self.length = length\n",
    "        \n",
    "    def area(self):\n",
    "        return self.length * self.length\n",
    "    \n",
    "w = shape()\n",
    "x = square(6)\n",
    "\n",
    "print(\"area of shape:\",w.area())\n",
    "print(\"area of square:\",x.area())"
   ]
  },
  {
   "cell_type": "code",
   "execution_count": null,
   "id": "32dcd2e3",
   "metadata": {},
   "outputs": [],
   "source": []
  }
 ],
 "metadata": {
  "kernelspec": {
   "display_name": "Python 3 (ipykernel)",
   "language": "python",
   "name": "python3"
  },
  "language_info": {
   "codemirror_mode": {
    "name": "ipython",
    "version": 3
   },
   "file_extension": ".py",
   "mimetype": "text/x-python",
   "name": "python",
   "nbconvert_exporter": "python",
   "pygments_lexer": "ipython3",
   "version": "3.10.9"
  }
 },
 "nbformat": 4,
 "nbformat_minor": 5
}
