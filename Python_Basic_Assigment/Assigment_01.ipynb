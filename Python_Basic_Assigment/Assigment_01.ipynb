{
 "cells": [
  {
   "cell_type": "code",
   "execution_count": 1,
   "id": "eddf9c69",
   "metadata": {},
   "outputs": [],
   "source": [
    "import logging\n",
    "logging.basicConfig(filename=\"assignment_01.log\", level=logging.INFO, format='%(asctime)s, %(levelname)s, %(message)s')"
   ]
  },
  {
   "cell_type": "code",
   "execution_count": 2,
   "id": "0f6407a2",
   "metadata": {},
   "outputs": [
    {
     "name": "stdout",
     "output_type": "stream",
     "text": [
      "Hello World\n"
     ]
    }
   ],
   "source": [
    "\"\"\"1. Write a Python program to print \"Hello Python\"?\"\"\"\n",
    "\n",
    "print(\"Hello World\")"
   ]
  },
  {
   "cell_type": "code",
   "execution_count": 3,
   "id": "b73fb0ff",
   "metadata": {},
   "outputs": [],
   "source": [
    "logging.info(\"2. Write a Python program to do arithmetical operations addition and division.?\")\n",
    "\n",
    "class AddDiv:\n",
    "    def __init__(self, a, b):\n",
    "        self.a = a\n",
    "        self.b = b\n",
    "        logging.info(f\"This is start of my code i am try to enter {self.a} and {self.b}\")\n",
    "        \n",
    "    def add(self):\n",
    "        try:\n",
    "            logging.info(f\"Addition of {self.a} + {self.b} is {self.a + self.b}\")\n",
    "        except Exception as e:\n",
    "            logging.error(\"Error has happend...\")\n",
    "            logging.exception(\"Exception occured\" + str(e))\n",
    "    \n",
    "    def div(self):\n",
    "        try:\n",
    "            logging.info(f\"Division of {self.a} / {self.b} is {self.a / self.b}\")\n",
    "        except Exception as e:\n",
    "            logging.error(\"Error has happend...\")\n",
    "            logging.exception(\"Exception occured\" + str(e))\n",
    "        \n",
    "adddiv = AddDiv(10,2)\n",
    "\n",
    "adddiv.add()\n",
    "adddiv.div()"
   ]
  },
  {
   "cell_type": "code",
   "execution_count": 4,
   "id": "4b8680bd",
   "metadata": {},
   "outputs": [
    {
     "name": "stdout",
     "output_type": "stream",
     "text": [
      "Enter the Base of the triange: 34.56\n",
      "Enter the height of the triangle: 23.59\n"
     ]
    }
   ],
   "source": [
    "logging.info(\"3. Write a Python program to find the area of a triangle?\")\n",
    "\n",
    "class AreaofTrangle:\n",
    "    def __init__(self):\n",
    "        pass\n",
    "        \n",
    "    def area(self):\n",
    "        try:\n",
    "            base = float(input(\"Enter the Base of the triange: \"))\n",
    "            height = float(input(\"Enter the height of the triangle: \"))\n",
    "            logging.info(f\"The Base: {base} and Height: {height}\")\n",
    "\n",
    "            area = 0.5 * base * height\n",
    "            if height == 0:\n",
    "                logging.info(\"Height cannot be zero\")\n",
    "                return\n",
    "\n",
    "            logging.info(f\"The area of the triangle is: %.2f\", area)\n",
    "        except Exception as e:\n",
    "            logging.error(\"Error has happend...\")\n",
    "            logging.exception(\"Exception occured\" + str(e))\n",
    "            \n",
    "        \n",
    "areaoftrangel = AreaofTrangle()    \n",
    "\n",
    "areaoftrangel.area()"
   ]
  },
  {
   "cell_type": "code",
   "execution_count": 5,
   "id": "4b058077",
   "metadata": {},
   "outputs": [
    {
     "name": "stdout",
     "output_type": "stream",
     "text": [
      "Enter value for a: 65\n",
      "Enter value for b: 987\n"
     ]
    }
   ],
   "source": [
    "logging.info(\"4. Write a Python program to swap two variables?\")\n",
    "\n",
    "class Swap_Variables:\n",
    "    def __init__(self):\n",
    "        pass\n",
    "    \n",
    "    def swap(self):\n",
    "        try:\n",
    "            a = input(\"Enter value for a: \")\n",
    "            b = input(\"Enter value for b: \")\n",
    "            logging.info(f\"The value of a: {a}, and b: {b}\")\n",
    "            a,b = b, a\n",
    "            logging.info(f\"After SWAP value of a: {a}, and b: {b}\")\n",
    "        except Exception as e:\n",
    "            logging.error(\"Error has happend...\")\n",
    "            logging.exception(\"Exception occured\" + str(e))\n",
    "            \n",
    "swapvar = Swap_Variables()\n",
    "\n",
    "swapvar.swap()        "
   ]
  },
  {
   "cell_type": "code",
   "execution_count": 6,
   "id": "b4d993f5",
   "metadata": {},
   "outputs": [
    {
     "name": "stdout",
     "output_type": "stream",
     "text": [
      "2\n"
     ]
    }
   ],
   "source": [
    "#5. Write a Python program to generate a random number?\n",
    "\n",
    "import random\n",
    "print(random.randint(1,10))"
   ]
  },
  {
   "cell_type": "code",
   "execution_count": null,
   "id": "1785edc6",
   "metadata": {},
   "outputs": [],
   "source": []
  }
 ],
 "metadata": {
  "kernelspec": {
   "display_name": "Python 3 (ipykernel)",
   "language": "python",
   "name": "python3"
  },
  "language_info": {
   "codemirror_mode": {
    "name": "ipython",
    "version": 3
   },
   "file_extension": ".py",
   "mimetype": "text/x-python",
   "name": "python",
   "nbconvert_exporter": "python",
   "pygments_lexer": "ipython3",
   "version": "3.10.9"
  }
 },
 "nbformat": 4,
 "nbformat_minor": 5
}
