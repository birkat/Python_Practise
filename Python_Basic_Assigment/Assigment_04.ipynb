{
 "cells": [
  {
   "cell_type": "code",
   "execution_count": 3,
   "id": "d5832c5f",
   "metadata": {},
   "outputs": [
    {
     "name": "stdout",
     "output_type": "stream",
     "text": [
      "Enter Factorial of a Number: 10\n",
      "3628800\n"
     ]
    }
   ],
   "source": [
    "\"\"\"1. Write a Python Program to Find the Factorial of a Number?\"\"\"\n",
    "\n",
    "fact = 1\n",
    "num = int(input(\"Enter Factorial of a Number: \"))\n",
    "\n",
    "while num > 0:\n",
    "    fact = fact * num\n",
    "    num -= 1\n",
    "print(fact)\n"
   ]
  },
  {
   "cell_type": "code",
   "execution_count": 6,
   "id": "67764e00",
   "metadata": {},
   "outputs": [
    {
     "name": "stdout",
     "output_type": "stream",
     "text": [
      "Enter number to display the multiplication table: 5\n",
      "Table of 5\n",
      "5 * 1 = 5\n",
      "5 * 2 = 10\n",
      "5 * 3 = 15\n",
      "5 * 4 = 20\n",
      "5 * 5 = 25\n",
      "5 * 6 = 30\n",
      "5 * 7 = 35\n",
      "5 * 8 = 40\n",
      "5 * 9 = 45\n",
      "5 * 10 = 50\n"
     ]
    }
   ],
   "source": [
    "\"\"\"2. Write a Python Program to Display the multiplication Table?\"\"\"\n",
    "\n",
    "num1 = int(input(\"Enter number to display the multiplication table: \"))\n",
    "print(f\"Table of {num1}\")\n",
    "for i in range(1,11):\n",
    "    print(f\"{num1} * {i} = {num1*i}\")"
   ]
  },
  {
   "cell_type": "code",
   "execution_count": 12,
   "id": "11d703d9",
   "metadata": {},
   "outputs": [
    {
     "name": "stdout",
     "output_type": "stream",
     "text": [
      "Enter number to print Fibonacci Sequence: 500\n",
      "0 1 1 2 3 5 8 13 21 34 55 89 144 233 377 "
     ]
    }
   ],
   "source": [
    "\"\"\"3. Write a Python Program to Print the Fibonacci sequence?\"\"\"\n",
    "\n",
    "num3 = int(input(\"Enter number to print Fibonacci Sequence: \"))\n",
    "\n",
    "x = 0\n",
    "y = 1\n",
    "z = 0\n",
    "while z <= num3:\n",
    "    print(z, end = \" \")\n",
    "    x = y\n",
    "    y = z\n",
    "    z = x + y"
   ]
  },
  {
   "cell_type": "code",
   "execution_count": 53,
   "id": "43c3c707",
   "metadata": {},
   "outputs": [
    {
     "name": "stdout",
     "output_type": "stream",
     "text": [
      "9474\n",
      "9474 is a Armstrong Number\n"
     ]
    }
   ],
   "source": [
    "\"\"\"4. Write a Python Program to Check Armstrong Number?\"\"\"\n",
    "\n",
    "def chk_armstrong(num4):\n",
    "    quot = num4\n",
    "    tot = 0\n",
    "    l = len(str(num4))\n",
    "    while quot > 0:\n",
    "        rem = quot % 10\n",
    "        quot = quot // 10\n",
    "        tot += rem ** l\n",
    "    if tot == num4:\n",
    "        return(f\"{num4} is a Armstrong Number\"), tot\n",
    "    else:\n",
    "        return(f\"{num4} is not a Armstrong Number\"), tot\n",
    "\n",
    "num4 = int(input())\n",
    "c, d = chk_armstrong(num4)\n",
    "print(c)"
   ]
  },
  {
   "cell_type": "code",
   "execution_count": 56,
   "id": "eabb0708",
   "metadata": {},
   "outputs": [
    {
     "name": "stdout",
     "output_type": "stream",
     "text": [
      "Enter Lower value: 100\n",
      "Enter Upper value: 10000\n",
      "153 is a Armstrong Number\n",
      "370 is a Armstrong Number\n",
      "371 is a Armstrong Number\n",
      "407 is a Armstrong Number\n",
      "1634 is a Armstrong Number\n",
      "8208 is a Armstrong Number\n",
      "9474 is a Armstrong Number\n"
     ]
    }
   ],
   "source": [
    "\"\"\"5. Write a Python Program to Find Armstrong Number in an Interval?\"\"\"\n",
    "num5 = int(input(\"Enter Lower value: \"))\n",
    "num6 = int(input(\"Enter Upper value: \"))\n",
    "\n",
    "for i in range(num5, num6 + 1):\n",
    "    c, d = chk_armstrong(i)\n",
    "    if i == d:\n",
    "        print(c)\n",
    "    "
   ]
  },
  {
   "cell_type": "code",
   "execution_count": 59,
   "id": "e421d8e0",
   "metadata": {},
   "outputs": [
    {
     "name": "stdout",
     "output_type": "stream",
     "text": [
      "Enter number to find of Natural Numbers: 50\n",
      "1275.0\n"
     ]
    }
   ],
   "source": [
    "\"\"\"6. Write a Python Program to Find the Sum of Natural Numbers?\"\"\"\n",
    "num7 = int(input(\"Enter number to find of Natural Numbers: \"))\n",
    "\n",
    "sn = num7 * (num7 + 1) / 2\n",
    "print(sn)\n"
   ]
  },
  {
   "cell_type": "code",
   "execution_count": null,
   "id": "70f7bcbb",
   "metadata": {},
   "outputs": [],
   "source": []
  }
 ],
 "metadata": {
  "kernelspec": {
   "display_name": "Python 3 (ipykernel)",
   "language": "python",
   "name": "python3"
  },
  "language_info": {
   "codemirror_mode": {
    "name": "ipython",
    "version": 3
   },
   "file_extension": ".py",
   "mimetype": "text/x-python",
   "name": "python",
   "nbconvert_exporter": "python",
   "pygments_lexer": "ipython3",
   "version": "3.10.9"
  }
 },
 "nbformat": 4,
 "nbformat_minor": 5
}
