{
 "cells": [
  {
   "cell_type": "code",
   "execution_count": 4,
   "id": "c20a71e8",
   "metadata": {},
   "outputs": [],
   "source": [
    "# Question: Implementing the Snake and Ladder Game\n",
    "\n",
    "class Board:\n",
    "    \"\"\"\n",
    "    Design a Python class named `Board` to represent the game board with snakes and ladders.\n",
    "\n",
    "    Theory:\n",
    "    The game board consists of a grid of squares, each represented by a number.\n",
    "    Snakes and ladders are special squares on the board that connect two squares and can either \n",
    "    help or hinder a player's progress.\n",
    "\n",
    "    Operations:\n",
    "    1. Add Snake: Add a snake to the board.\n",
    "    2. Add Ladder: Add a ladder to the board.\n",
    "    3. Check Square: Check if a square contains a snake or ladder and return the destination \n",
    "    square if found.\n",
    "\n",
    "    Test Cases:\n",
    "    Test Case 1:\n",
    "    \n",
    "    board = Board()\n",
    "    board.add_snake(14, 7)  # Snake from square 14 to square 7\n",
    "    assert board.check_square(14) == 7\n",
    "\n",
    "    Test Case 2:\n",
    "    board.add_ladder(5, 19)  # Ladder from square 5 to square 19\n",
    "    assert board.check_square(5) == 19\n",
    "\n",
    "    Test Case 3:\n",
    "    # Additional test cases can be added here\n",
    "    pass\n",
    "\n",
    "    \"\"\"\n",
    "\n",
    "    def __init__(self):\n",
    "        # Initialize the board with an empty dictionary to store snakes and ladders\n",
    "        self.snakes_ladders = {}\n",
    "\n",
    "    def add_snake(self, start, end):\n",
    "        # Add a snake to the board\n",
    "        self.snakes_ladders[start] = end\n",
    "\n",
    "    def add_ladder(self, start, end):\n",
    "        # Add a ladder to the board\n",
    "        self.snakes_ladders[start] = end\n",
    "\n",
    "    def check_square(self, square):\n",
    "        # Check if a square contains a snake or ladder and return the destination square if found\n",
    "        if square in self.snakes_ladders:\n",
    "            return self.snakes_ladders[square]\n",
    "        \n",
    "#Test Cases:\n",
    "#Test Case 1:\n",
    "    \n",
    "board = Board()\n",
    "board.add_snake(14, 7)  # Snake from square 14 to square 7\n",
    "assert board.check_square(14) == 7\n",
    "\n",
    "#Test Case 2:\n",
    "board.add_ladder(5, 19)  # Ladder from square 5 to square 19\n",
    "assert board.check_square(5) == 19"
   ]
  },
  {
   "cell_type": "code",
   "execution_count": 50,
   "id": "c833b15c",
   "metadata": {},
   "outputs": [],
   "source": [
    "import random\n",
    "class SnakeAndLadderGame:\n",
    "    \"\"\"\n",
    "    Design a Python class named `SnakeAndLadderGame` to represent the Snake and Ladder game.\n",
    "\n",
    "    Theory:\n",
    "    The Snake and Ladder game is a classic board game played between two or more players on a \n",
    "    game board with numbered, gridded squares. The objective of the game is to reach the \n",
    "    final square (usually labeled 100) first, starting from square 1.\n",
    "\n",
    "    Rules:\n",
    "    - Players take turns to roll a six-sided dice and move their token forward by the number of \n",
    "    squares indicated by the dice roll.\n",
    "    - If a player lands at the base of a ladder, they must climb the ladder to the square at \n",
    "    the top.\n",
    "    - If a player lands on the head of a snake, they must slide down to the square at the tail.\n",
    "    - The first player to reach or exceed the final square wins the game.\n",
    "\n",
    "    Operations:\n",
    "    1. Roll Dice: Simulate rolling a six-sided dice and return the number rolled.\n",
    "    2. Move Player: Move the current player's token forward by the number of squares indicated \n",
    "    by the dice roll.\n",
    "    3. Check for Win: Check if the current player has won the game.\n",
    "    4. Display Board: Display the current position of all players on the game board.\n",
    "\n",
    "    Test Cases:\n",
    "    Test Case 1:\n",
    "    game = SnakeAndLadderGame([\"Player 1\", \"Player 2\"])\n",
    "    game.start_game()\n",
    "    game.roll_dice()\n",
    "    assert game.current_player == \"Player 1\"\n",
    "    assert game.move_player(5) == \"Player 1 moved to square 5\"\n",
    "    assert game.check_for_win() is False\n",
    "\n",
    "    Test Case 2:\n",
    "    game.roll_dice()\n",
    "    assert game.current_player == \"Player 2\"\n",
    "    assert game.move_player(3) == \"Player 2 moved to square 3\"\n",
    "    assert game.check_for_win() is False\n",
    "\n",
    "    Test Case 3:\n",
    "    # Additional test cases can be added here\n",
    "    pass\n",
    "\n",
    "    \"\"\"\n",
    "\n",
    "    def __init__(self, players):\n",
    "        # Initialize the game board, players, current player, and dice\n",
    "        self.players = players\n",
    "        self.board = 0\n",
    "        self.current_player = players[0]\n",
    "        self.dice = None\n",
    "\n",
    "    def start_game(self):\n",
    "        # Start the game and set the current player\n",
    "        return random.shuffle(self.players)\n",
    "\n",
    "    def roll_dice(self):\n",
    "        # Simulate rolling a six-sided dice and return the number rolled\n",
    "        self.dice = random.randint(1, 6)\n",
    "        return self.dice\n",
    "\n",
    "    def move_player(self, squares):\n",
    "        # Move the current player's token forward by the number of squares indicated by the \n",
    "        #dice roll\n",
    "        self.board += squares\n",
    "        return (f\"{self.current_player} moved to square {self.board}\")\n",
    "\n",
    "    def check_for_win(self):\n",
    "        # Check if the current player has won the game\n",
    "        if self.board == 100:\n",
    "            return True\n",
    "        return False\n",
    "\n",
    "    def display_board(self):\n",
    "        # Display the current position of all players on the game board\n",
    "         return (f\"{self.current_player} position {self.board}\")\n"
   ]
  },
  {
   "cell_type": "code",
   "execution_count": null,
   "id": "6d509888",
   "metadata": {},
   "outputs": [],
   "source": [
    "#     Test Case 2:\n",
    "#     game.roll_dice()\n",
    "#     assert game.current_player == \"Player 2\"\n",
    "#     assert game.move_player(3) == \"Player 2 moved to square 3\"\n",
    "#     assert game.check_for_win() is False"
   ]
  },
  {
   "cell_type": "code",
   "execution_count": 61,
   "id": "77431f56",
   "metadata": {},
   "outputs": [
    {
     "data": {
      "text/plain": [
       "5"
      ]
     },
     "execution_count": 61,
     "metadata": {},
     "output_type": "execute_result"
    }
   ],
   "source": [
    "game.roll_dice()"
   ]
  },
  {
   "cell_type": "code",
   "execution_count": 62,
   "id": "e189e9bb",
   "metadata": {},
   "outputs": [
    {
     "data": {
      "text/plain": [
       "'Player 1'"
      ]
     },
     "execution_count": 62,
     "metadata": {},
     "output_type": "execute_result"
    }
   ],
   "source": [
    "game.current_player"
   ]
  },
  {
   "cell_type": "code",
   "execution_count": 63,
   "id": "80d858d0",
   "metadata": {},
   "outputs": [
    {
     "data": {
      "text/plain": [
       "'Player 1 moved to square 3'"
      ]
     },
     "execution_count": 63,
     "metadata": {},
     "output_type": "execute_result"
    }
   ],
   "source": [
    "game.move_player(3)"
   ]
  },
  {
   "cell_type": "code",
   "execution_count": 64,
   "id": "40607b87",
   "metadata": {},
   "outputs": [
    {
     "data": {
      "text/plain": [
       "False"
      ]
     },
     "execution_count": 64,
     "metadata": {},
     "output_type": "execute_result"
    }
   ],
   "source": [
    "game.check_for_win()"
   ]
  },
  {
   "cell_type": "code",
   "execution_count": null,
   "id": "1fd9d9cb",
   "metadata": {},
   "outputs": [],
   "source": [
    "# game.start_game()\n",
    "# game.roll_dice()\n",
    "# assert game.current_player == \"Player 1\"\n",
    "# assert game.move_player(5) == \"Player 1 moved to square 5\"\n",
    "# assert game.check_for_win() is False"
   ]
  },
  {
   "cell_type": "code",
   "execution_count": 60,
   "id": "3576c7a2",
   "metadata": {},
   "outputs": [],
   "source": [
    "game = SnakeAndLadderGame([\"Player 1\", \"Player 2\"])"
   ]
  },
  {
   "cell_type": "code",
   "execution_count": 52,
   "id": "6541df71",
   "metadata": {},
   "outputs": [],
   "source": [
    "game.start_game()"
   ]
  },
  {
   "cell_type": "code",
   "execution_count": 53,
   "id": "25c7a6ea",
   "metadata": {},
   "outputs": [
    {
     "data": {
      "text/plain": [
       "4"
      ]
     },
     "execution_count": 53,
     "metadata": {},
     "output_type": "execute_result"
    }
   ],
   "source": [
    "game.roll_dice()"
   ]
  },
  {
   "cell_type": "code",
   "execution_count": 54,
   "id": "73630e6d",
   "metadata": {},
   "outputs": [
    {
     "data": {
      "text/plain": [
       "'Player 1'"
      ]
     },
     "execution_count": 54,
     "metadata": {},
     "output_type": "execute_result"
    }
   ],
   "source": [
    "game.current_player"
   ]
  },
  {
   "cell_type": "code",
   "execution_count": 55,
   "id": "9ad6c09a",
   "metadata": {},
   "outputs": [
    {
     "data": {
      "text/plain": [
       "'Player 1 moved to square 5'"
      ]
     },
     "execution_count": 55,
     "metadata": {},
     "output_type": "execute_result"
    }
   ],
   "source": [
    "game.move_player(5)"
   ]
  },
  {
   "cell_type": "code",
   "execution_count": 56,
   "id": "097c1155",
   "metadata": {},
   "outputs": [
    {
     "data": {
      "text/plain": [
       "False"
      ]
     },
     "execution_count": 56,
     "metadata": {},
     "output_type": "execute_result"
    }
   ],
   "source": [
    "game.check_for_win()"
   ]
  },
  {
   "cell_type": "code",
   "execution_count": null,
   "id": "395aa3e4",
   "metadata": {},
   "outputs": [],
   "source": []
  }
 ],
 "metadata": {
  "kernelspec": {
   "display_name": "Python 3 (ipykernel)",
   "language": "python",
   "name": "python3"
  },
  "language_info": {
   "codemirror_mode": {
    "name": "ipython",
    "version": 3
   },
   "file_extension": ".py",
   "mimetype": "text/x-python",
   "name": "python",
   "nbconvert_exporter": "python",
   "pygments_lexer": "ipython3",
   "version": "3.10.9"
  }
 },
 "nbformat": 4,
 "nbformat_minor": 5
}
