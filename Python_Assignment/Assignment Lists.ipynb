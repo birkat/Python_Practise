{
 "cells": [
  {
   "cell_type": "code",
   "execution_count": 5,
   "id": "4ca68e7a",
   "metadata": {},
   "outputs": [],
   "source": [
    "# Question 1: Implementing a Function to Remove Duplicates from a List\n",
    "\n",
    "#Design a Python function named `remove_duplicates` to remove duplicates from a list.\n",
    "\n",
    "def remove_duplicates(lst):\n",
    "    new_list = []\n",
    "    for i in lst:\n",
    "        if i not in new_list:\n",
    "            new_list.append(i)\n",
    "    return new_list\n",
    "        \n",
    "        \n",
    "assert remove_duplicates([1, 2, 3, 2, 4, 3, 5]) == [1, 2, 3, 4, 5]\n",
    "\n",
    "assert remove_duplicates(['a', 'b', 'c', 'a', 'd', 'b']) == ['a', 'b', 'c', 'd']"
   ]
  },
  {
   "cell_type": "code",
   "execution_count": 19,
   "id": "2b17c325",
   "metadata": {},
   "outputs": [],
   "source": [
    "# Question 2: Implementing a Function to Flatten a Nested List\n",
    "\n",
    "# Design a Python function named `flatten_list` to flatten a nested list into a single list.\n",
    "\n",
    "def flatten_list(nested_lst):\n",
    "    #return [j for i in nested_lst for j in i]\n",
    "    n_lst = []\n",
    "    for i in nested_lst:\n",
    "        if type(i) == list:\n",
    "            for j in i:\n",
    "                n_lst.append(j)\n",
    "    for k in n_lst:\n",
    "        if type(k) == list:\n",
    "            for m in k:\n",
    "                n_lst.append(m)\n",
    "            n_lst.remove(k)\n",
    "    return sorted(n_lst)\n",
    "\n",
    "assert flatten_list([[1, 2, 3], [4, 5], [6, 7, 8]]) == [1, 2, 3, 4, 5, 6, 7, 8]\n",
    "\n",
    "assert flatten_list([[1, 2], [3, [4, 5]], [6], [7, 8, [9, 10]]]) == [1, 2, 3, 4, 5, 6, 7, 8, 9, 10]\n"
   ]
  },
  {
   "cell_type": "code",
   "execution_count": 22,
   "id": "3725467a",
   "metadata": {},
   "outputs": [],
   "source": [
    "# Question 3: Implementing a Function to Split a List into Even and Odd Elements\n",
    "\n",
    "# Design a Python function named `split_even_odd` to split a list into two lists containing even and odd elements respectively.\n",
    "\n",
    "def split_even_odd(lst):\n",
    "    even = []\n",
    "    odd = []\n",
    "    for i in lst:\n",
    "        if i % 2 == 0:\n",
    "            even.append(i)\n",
    "        else:\n",
    "            odd.append(i)\n",
    "    return even, odd\n",
    "            \n",
    "\n",
    "assert split_even_odd([1, 2, 3, 4, 5, 6, 7, 8, 9, 10]) == ([2, 4, 6, 8, 10], [1, 3, 5, 7, 9])\n",
    "\n",
    "assert split_even_odd([11, 22, 33, 44, 55, 66, 77, 88, 99, 100]) == ([22, 44, 66, 88, 100], [11, 33, 55, 77, 99])"
   ]
  },
  {
   "cell_type": "code",
   "execution_count": 28,
   "id": "bb6916a7",
   "metadata": {},
   "outputs": [],
   "source": [
    "# Question 4: Implementing a Function to Rotate a List\n",
    "#Design a Python function named `rotate_list` to rotate a list to the right by k steps.\n",
    "\n",
    "def rotate_list(lst, k):\n",
    "    return lst[len(lst)-k:] + lst[:len(lst)-k]\n",
    "\n",
    "assert rotate_list([1, 2, 3, 4, 5], 2) == [4, 5, 1, 2, 3]\n",
    "\n",
    "assert rotate_list(['a', 'b', 'c', 'd', 'e'], 3) == ['c', 'd', 'e', 'a', 'b']\n",
    "\n"
   ]
  },
  {
   "cell_type": "code",
   "execution_count": 35,
   "id": "bea34e02",
   "metadata": {},
   "outputs": [],
   "source": [
    "# Question 5: Implementing a Function to Merge Two Sorted Lists\n",
    "\n",
    "# Design a Python function named `merge_sorted_lists` to merge two sorted lists into a single sorted list.\n",
    "\n",
    "def merge_sorted_lists(lst1, lst2):\n",
    "    lst1.extend(lst2)\n",
    "    return sorted(lst1)\n",
    "\n",
    "assert merge_sorted_lists([1, 3, 5], [2, 4, 6]) == [1, 2, 3, 4, 5, 6]\n",
    "\n",
    "assert merge_sorted_lists(['a', 'c', 'e'], ['b', 'd', 'f']) == ['a', 'b', 'c', 'd', 'e', 'f']"
   ]
  },
  {
   "cell_type": "code",
   "execution_count": 40,
   "id": "70706b4b",
   "metadata": {},
   "outputs": [],
   "source": [
    "# Question 6: Implementing a Function to Remove Consecutive Duplicates from a List\n",
    "# Design a Python function named `remove_consecutive_duplicates` to remove consecutive duplicates from a list.\n",
    "\n",
    "def remove_consecutive_duplicates(lst):\n",
    "    rem_dup = set(lst)\n",
    "    return list(sorted(rem_dup))\n",
    "    \n",
    "    \n",
    "assert remove_consecutive_duplicates([1, 2, 2, 3, 3, 3, 4, 4, 4, 4]) == [1, 2, 3, 4]\n",
    "\n",
    "assert remove_consecutive_duplicates(['a', 'b', 'b', 'c', 'c', 'c', 'd', 'd', 'd', 'e', 'e']) == ['a', 'b', 'c', 'd', 'e']\n",
    "\n"
   ]
  },
  {
   "cell_type": "code",
   "execution_count": 41,
   "id": "fed8f12f",
   "metadata": {},
   "outputs": [],
   "source": [
    "# Question 7: Implementing a Function to Shuffle a List\n",
    "\n",
    "# Design a Python function named `shuffle_list` to shuffle the elements of a list.\n",
    "\n",
    "import random\n",
    "\n",
    "def shuffle_list(lst):\n",
    "    return random.shuffle(lst)\n",
    "    \n",
    "assert shuffle_list([1, 2, 3, 4, 5]) != [1, 2, 3, 4, 5]\n",
    "\n",
    "assert shuffle_list(['a', 'b', 'c', 'd', 'e']) != ['a', 'b', 'c', 'd', 'e']"
   ]
  },
  {
   "cell_type": "code",
   "execution_count": 48,
   "id": "b80d3803",
   "metadata": {},
   "outputs": [],
   "source": [
    "# Question 8: Implementing a Function to Partition a List into Sublists of Given Size\n",
    "\n",
    "# Design a Python function named `partition_list` to partition a list into sublists of a given size.\n",
    "\n",
    "def partition_list(lst, size):\n",
    "    l = []\n",
    "    l1 = []\n",
    "    for i in lst:\n",
    "        l1.append(i)\n",
    "        if len(l1) == size:\n",
    "            l.append(l1)\n",
    "            l1 = []\n",
    "    else:\n",
    "        l.append(l1)\n",
    "    if l[-1] == []:\n",
    "        return l[:-1]\n",
    "    else:\n",
    "        return l\n",
    "\n",
    "assert partition_list([1, 2, 3, 4, 5, 6, 7, 8, 9], 3) == [[1, 2, 3], [4, 5, 6], [7, 8, 9]]\n",
    "\n",
    "assert partition_list(['a', 'b', 'c', 'd', 'e', 'f', 'g'], 2) == [['a', 'b'], ['c', 'd'], ['e', 'f'], ['g']]"
   ]
  },
  {
   "cell_type": "code",
   "execution_count": 50,
   "id": "3a37f46d",
   "metadata": {},
   "outputs": [],
   "source": [
    "# Question 9: Implementing a Function to Check if a List is Palindromic\n",
    "# Design a Python function named `is_palindromic_list` to check if a list is palindromic (reads the same forwards and backwards).\n",
    "\n",
    "def is_palindromic_list(lst):\n",
    "    if lst == lst[::-1]:\n",
    "        return True\n",
    "    else:\n",
    "        return False\n",
    "\n",
    "assert is_palindromic_list([1, 2, 3, 2, 1]) == True\n",
    "assert is_palindromic_list(['a', 'b', 'c', 'b', 'a']) == True\n",
    "assert is_palindromic_list([1, 2, 3, 4, 5]) == False\n",
    "assert is_palindromic_list(['x', 'y', 'z', 'x']) == False\n",
    "assert is_palindromic_list(['a']) == True"
   ]
  },
  {
   "cell_type": "code",
   "execution_count": 51,
   "id": "b213e076",
   "metadata": {},
   "outputs": [],
   "source": [
    "# Question 10: Implementing a Function to Remove Items at Even Indices\n",
    "\"\"\" Design a Python function named `remove_items_at_even_indices` to \n",
    "remove items at even indices from a list.\"\"\"\n",
    "\n",
    "def remove_items_at_even_indices(lst):\n",
    "    non_even = []\n",
    "    for i in range(len(lst)):\n",
    "        if i % 2 != 0:\n",
    "            non_even.append(lst[i])\n",
    "    return non_even\n",
    "\n",
    "assert remove_items_at_even_indices([1, 2, 3, 4, 5]) == [2, 4]\n",
    "\n",
    "assert remove_items_at_even_indices(['a', 'b', 'c', 'd', 'e', 'f']) == ['b', 'd', 'f']"
   ]
  },
  {
   "cell_type": "code",
   "execution_count": null,
   "id": "37c800de",
   "metadata": {},
   "outputs": [],
   "source": []
  }
 ],
 "metadata": {
  "kernelspec": {
   "display_name": "Python 3 (ipykernel)",
   "language": "python",
   "name": "python3"
  },
  "language_info": {
   "codemirror_mode": {
    "name": "ipython",
    "version": 3
   },
   "file_extension": ".py",
   "mimetype": "text/x-python",
   "name": "python",
   "nbconvert_exporter": "python",
   "pygments_lexer": "ipython3",
   "version": "3.10.9"
  }
 },
 "nbformat": 4,
 "nbformat_minor": 5
}
