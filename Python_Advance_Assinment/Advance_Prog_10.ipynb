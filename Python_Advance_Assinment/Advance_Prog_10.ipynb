{
 "cells": [
  {
   "cell_type": "code",
   "execution_count": 7,
   "id": "819d38bd",
   "metadata": {},
   "outputs": [
    {
     "name": "stdout",
     "output_type": "stream",
     "text": [
      "['####', '#  #', '#  #', '#  #', '####']\n",
      "[['**********'], ['*        *'], ['**********']]\n",
      "invalid\n"
     ]
    }
   ],
   "source": [
    "\"\"\"1. Create a function that takes the width, height and character and returns a\n",
    "picture frame as a 2D list.\n",
    "Examples\n",
    "get_frame(4, 5, \"#\") ➞ [\n",
    "[\"####\"],\n",
    "[\"# #\"],\n",
    "[\"# #\"],\n",
    "[\"# #\"],\n",
    "[\"####\"]\n",
    "]\n",
    "# Frame is 4 characters wide and 5 characters tall.\n",
    "\n",
    "get_frame(10, 3, \"*\") ➞ [\n",
    "[\"**********\"],\n",
    "[\"* *\"],\n",
    "[\"**********\"]\n",
    "]\n",
    "# Frame is 10 characters and wide and 3 characters tall.\n",
    "\n",
    "get_frame(2, 5, \"0\") ➞ \"invalid\"\n",
    "# Frame's width is not more than 2. \"\"\"\n",
    "\n",
    "def get_frame1(wide, height, char):\n",
    "    if wide <= 2 or height <= 2:\n",
    "        return \"invalid\"\n",
    "    mylist = []\n",
    "    for i in range(height):\n",
    "        if i == 0 or i == height-1:\n",
    "            mylist.append(char*wide)\n",
    "        else:\n",
    "            mylist.append(char + \" \" * (wide-2) + char)\n",
    "    return mylist\n",
    "\n",
    "print(get_frame1(4, 5, \"#\"))\n",
    "print(get_frame(10, 3, \"*\"))\n",
    "print(get_frame(2, 5, \"0\"))"
   ]
  },
  {
   "cell_type": "code",
   "execution_count": 17,
   "id": "6101f1e2",
   "metadata": {},
   "outputs": [
    {
     "name": "stdout",
     "output_type": "stream",
     "text": [
      "boolean_and\n",
      "False\n",
      "boolean_or\n",
      "True\n",
      "boolean_xor\n",
      "False\n"
     ]
    }
   ],
   "source": [
    "\"\"\"2. Write three functions:\n",
    "1. boolean_and\n",
    "2. boolean_or\n",
    "3. boolean_xor\n",
    "These functions should evaluate a list of True and False values, starting from\n",
    "the leftmost element and evaluating pairwise.\n",
    "Examples\n",
    "boolean_and([True, True, False, True]) ➞ False\n",
    "# [True, True, False, True] => [True, False, False] => [False, False] => False\n",
    "boolean_or([True, True, False, False]) ➞ True\n",
    "# [True, True, False, True] => [True, False, False] => [True, False] => True\n",
    "boolean_xor([True, True, False, False]) ➞ False\n",
    "# [True, True, False, False] => [False, False, False] => [False, False] => False\"\"\"\n",
    "\n",
    "def boolean_and(bool_oper):\n",
    "    print(\"boolean_and\")\n",
    "    n = bool_oper[0]\n",
    "    for i in bool_oper[1:]:\n",
    "        n = i and n\n",
    "    return n\n",
    "\n",
    "def boolean_or(bool_oper):\n",
    "    print(\"boolean_or\")\n",
    "    n = bool_oper[0]\n",
    "    for i in bool_oper[1:]:\n",
    "        n = i or n\n",
    "    return n\n",
    "\n",
    "def boolean_xor(bool_oper):\n",
    "    print(\"boolean_xor\")\n",
    "    n = bool_oper[0]\n",
    "    for i in bool_oper[1:]:\n",
    "        n = i ^ n\n",
    "    return n \n",
    "\n",
    "print(boolean_and([True, True, False, True]))\n",
    "print(boolean_or([True, True, False, False]))\n",
    "print(boolean_xor([True, True, False, False]))"
   ]
  },
  {
   "cell_type": "code",
   "execution_count": 23,
   "id": "65601069",
   "metadata": {},
   "outputs": [
    {
     "name": "stdout",
     "output_type": "stream",
     "text": [
      "['#####', '#   #', '#   #', '#   #', '#####']\n",
      "['###', '# #', '###']\n",
      "['##', '##']\n",
      "['#']\n"
     ]
    }
   ],
   "source": [
    "\"\"\"3. Create a function that creates a box based on dimension n.\n",
    "Examples\n",
    "make_box(5) ➞ [\n",
    "\"#####\",\n",
    "\"# #\",\n",
    "\"# #\",\n",
    "\"# #\",\n",
    "\"#####\"\n",
    "]\n",
    "make_box(3) ➞ [\n",
    "\"###\",\n",
    "\"# #\",\n",
    "\"###\"\n",
    "]\n",
    "make_box(2) ➞ [\n",
    "\"##\",\n",
    "\"##\"\n",
    "]\n",
    "make_box(1) ➞ [\n",
    "\"#\"\n",
    "]\"\"\"\n",
    "\n",
    "def make_box(size):\n",
    "    lst = []\n",
    "    for i in range(size):\n",
    "        if i == 0 or i == size-1:\n",
    "            lst.append(\"#\"*size)\n",
    "        else:\n",
    "            lst.append(\"#\" + \" \"*(size-2) + \"#\")\n",
    "    return lst\n",
    "\n",
    "print(make_box(5))\n",
    "print(make_box(3))\n",
    "print(make_box(2))\n",
    "print(make_box(1))"
   ]
  },
  {
   "cell_type": "code",
   "execution_count": 54,
   "id": "ec1e8bda",
   "metadata": {},
   "outputs": [
    {
     "name": "stdout",
     "output_type": "stream",
     "text": [
      "[]\n",
      "True\n",
      "[]\n",
      "True\n",
      "['Look', 'before']\n",
      "False\n",
      "['apple', 'keeps', 'doctor', 'away.']\n",
      "False\n"
     ]
    }
   ],
   "source": [
    "\"\"\"4. Given a common phrase, return False if any individual word in the phrase\n",
    "contains duplicate letters. Return True otherwise.\n",
    "Examples\n",
    "no_duplicate_letters(\"Fortune favours the bold.\") ➞ True\n",
    "no_duplicate_letters(\"You can lead a horse to water, but you can't make him drink.\") ➞ True\n",
    "no_duplicate_letters(\"Look before you leap.\") ➞ False\n",
    "# Duplicate letters in \"Look\" and \"before\".\n",
    "no_duplicate_letters(\"An apple a day keeps the doctor away.\") ➞ False\n",
    "# Duplicate letters in \"apple\", \"keeps\", \"doctor\", and \"away\".\"\"\"\n",
    "\n",
    "def no_duplicate_letters(sen):\n",
    "    lst1 = []\n",
    "    words = sen.split(\" \")\n",
    "    #print(words)\n",
    "    for i in range(len(words)):\n",
    "        for j in range(len(words[i])-1):\n",
    "            #print(words[i][j+1:])\n",
    "            if words[i][j] in words[i][j+1:]:\n",
    "                lst1.append(words[i])\n",
    "                break\n",
    "    print(lst1)\n",
    "    if len(lst1) == 0:\n",
    "        return True\n",
    "    else:\n",
    "        return False\n",
    "\n",
    "print(no_duplicate_letters(\"Fortune favours the bold.\"))\n",
    "print(no_duplicate_letters(\"You can lead a horse to water, but you can't make him drink.\"))\n",
    "print(no_duplicate_letters(\"Look before you leap.\"))\n",
    "print(no_duplicate_letters(\"An apple a day keeps the doctor away.\"))\n"
   ]
  },
  {
   "cell_type": "code",
   "execution_count": 60,
   "id": "350174ff",
   "metadata": {},
   "outputs": [
    {
     "name": "stdout",
     "output_type": "stream",
     "text": [
      "['California', 'Florida']\n"
     ]
    }
   ],
   "source": [
    "\"\"\"5. Write a regular expression that will match the states that voted yes to\n",
    "President Trump's impeachment. You must use RegEx positive lookahead.\n",
    "Example\n",
    "txt = \"Texas = no, California = yes, Florida = yes, Michigan = no\"\n",
    "pattern = \"yourregularexpressionhere\"\n",
    "re.findall(pattern, txt) ➞ [\"California\", \"Florida\"]\"\"\"\n",
    "\n",
    "\n",
    "import re\n",
    "\n",
    "txt = \"Texas = no, California = yes, Florida = yes, Michigan = no\"\n",
    "pattern = r'\\b\\w+(?=\\s*=\\s*yes)'\n",
    "matches = re.findall(pattern, txt)\n",
    "\n",
    "print(matches)\n"
   ]
  },
  {
   "cell_type": "code",
   "execution_count": null,
   "id": "9281f8db",
   "metadata": {},
   "outputs": [],
   "source": []
  }
 ],
 "metadata": {
  "kernelspec": {
   "display_name": "Python 3 (ipykernel)",
   "language": "python",
   "name": "python3"
  },
  "language_info": {
   "codemirror_mode": {
    "name": "ipython",
    "version": 3
   },
   "file_extension": ".py",
   "mimetype": "text/x-python",
   "name": "python",
   "nbconvert_exporter": "python",
   "pygments_lexer": "ipython3",
   "version": "3.10.9"
  }
 },
 "nbformat": 4,
 "nbformat_minor": 5
}
