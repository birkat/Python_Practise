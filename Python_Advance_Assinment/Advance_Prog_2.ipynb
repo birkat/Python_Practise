{
 "cells": [
  {
   "cell_type": "code",
   "execution_count": 10,
   "id": "b813cbee",
   "metadata": {},
   "outputs": [
    {
     "name": "stdout",
     "output_type": "stream",
     "text": [
      "1\n",
      "6\n",
      "16\n",
      "141\n"
     ]
    }
   ],
   "source": [
    "\"\"\"1. Write a function that takes a positive integer num and calculates how many\n",
    "dots exist in a pentagonal shape around the center dot on the Nth iteration.\n",
    "In the image below you can see the first iteration is only a single dot. On the\n",
    "second, there are 6 dots. On the third, there are 16 dots, and on the fourth\n",
    "there are 31 dots.\n",
    "\n",
    "Return the number of dots that exist in the whole pentagon on the Nth\n",
    "iteration.\n",
    "Examples\n",
    "pentagonal(1) ➞ 1\n",
    "pentagonal(2) ➞ 6\n",
    "pentagonal(3) ➞ 16\n",
    "pentagonal(8) ➞ 141\"\"\"\n",
    "\n",
    "def pentagonal(n):\n",
    "    return ((5 * (n**2)) - (5 * n) + 2) // 2 # Penragonal Formula\n",
    "\n",
    "print(pentagonal(1))\n",
    "print(pentagonal(2))\n",
    "print(pentagonal(3))\n",
    "print(pentagonal(8))"
   ]
  },
  {
   "cell_type": "code",
   "execution_count": 17,
   "id": "85bbe101",
   "metadata": {},
   "outputs": [
    {
     "name": "stdout",
     "output_type": "stream",
     "text": [
      "0n0n0baca\n",
      "0c0r0kaca\n",
      "k0r3baca\n",
      "0c0pl0aca\n"
     ]
    }
   ],
   "source": [
    "\"\"\"2. Make a function that encrypts a given input with these steps:\n",
    "Input: \"apple\"\n",
    "Step 1: Reverse the input: \"elppa\"\n",
    "Step 2: Replace all vowels using the following chart:\n",
    "a => 0\n",
    "e => 1\n",
    "i => 2\n",
    "o => 2\n",
    "u => 3\n",
    "# \"1lpp0\"\n",
    "\n",
    "Step 3: Add \"aca\" to the end of the word: \"1lpp0aca\"\n",
    "Output: \"1lpp0aca\"\n",
    "Examples\n",
    "encrypt(\"banana\") ➞ \"0n0n0baca\"\n",
    "encrypt(\"karaca\") ➞ \"0c0r0kaca\"\n",
    "encrypt(\"burak\") ➞ \"k0r3baca\"\n",
    "encrypt(\"alpaca\") ➞ \"0c0pl0aca\" \"\"\"\n",
    "\n",
    "def encrypt(s):\n",
    "    enc = \"\"\n",
    "    d = {'a':0, 'e':1, 'i':2, 'o':2, 'u':3}\n",
    "    s = s[::-1]\n",
    "    for i in s:\n",
    "        if i in d:\n",
    "            enc += str(d[i])\n",
    "        else:\n",
    "            enc += i\n",
    "    return enc+\"aca\"\n",
    "\n",
    "print(encrypt(\"banana\"))\n",
    "print(encrypt(\"karaca\"))\n",
    "print(encrypt(\"burak\"))\n",
    "print(encrypt(\"alpaca\"))"
   ]
  },
  {
   "cell_type": "code",
   "execution_count": 18,
   "id": "1283e7eb",
   "metadata": {},
   "outputs": [
    {
     "name": "stdout",
     "output_type": "stream",
     "text": [
      "True\n",
      "True\n",
      "False\n"
     ]
    }
   ],
   "source": [
    "\"\"\"3. Given the month and year as numbers, return whether that month contains\n",
    "a Friday 13th.(i.e You can check Python's datetime module)\n",
    "Examples\n",
    "has_friday_13(3, 2020) ➞ True\n",
    "has_friday_13(10, 2017) ➞ True\n",
    "has_friday_13(1, 1985) ➞ False\"\"\"\n",
    "import calendar\n",
    "from datetime import datetime\n",
    "\n",
    "\n",
    "def has_friday_13(month, year):\n",
    "    day_num = calendar.weekday(year, month, 13)\n",
    "    return calendar.day_name[day_num] == \"Friday\"\n",
    "\n",
    "print(has_friday_13(3, 2020))\n",
    "print(has_friday_13(10, 2017))\n",
    "print(has_friday_13(1, 1985))"
   ]
  },
  {
   "cell_type": "code",
   "execution_count": 48,
   "id": "47213013",
   "metadata": {},
   "outputs": [
    {
     "name": "stdout",
     "output_type": "stream",
     "text": [
      "{'pig', 'cows'}\n",
      "{'tables'}\n",
      "{'chair', 'pencil', 'arm'}\n"
     ]
    }
   ],
   "source": [
    "\"\"\"5. Given a list of words in the singular form, return a set of those words in the\n",
    "plural form if they appear more than once in the list.\n",
    "Examples\n",
    "pluralize([\"cow\", \"pig\", \"cow\", \"cow\"]) ➞ {\"cows\", \"pig\"}\n",
    "pluralize([\"table\", \"table\", \"table\"]) ➞ {\"tables\"}\n",
    "pluralize([\"chair\", \"pencil\", \"arm\"]) ➞ {\"chair\", \"pencil\", \"arm\"}\"\"\"\n",
    "\n",
    "def pluralize(l):\n",
    "    s = set()\n",
    "    for i in l:\n",
    "        if l.count(i) > 1:\n",
    "            s.add(i+\"s\")\n",
    "        else:\n",
    "            s.add(i)\n",
    "    return s\n",
    "    \n",
    "print(pluralize([\"cow\", \"pig\", \"cow\", \"cow\"]))\n",
    "print(pluralize([\"table\", \"table\", \"table\"]))\n",
    "print(pluralize([\"chair\", \"pencil\", \"arm\"]))"
   ]
  },
  {
   "cell_type": "code",
   "execution_count": null,
   "id": "358c13ae",
   "metadata": {},
   "outputs": [],
   "source": []
  }
 ],
 "metadata": {
  "kernelspec": {
   "display_name": "Python 3 (ipykernel)",
   "language": "python",
   "name": "python3"
  },
  "language_info": {
   "codemirror_mode": {
    "name": "ipython",
    "version": 3
   },
   "file_extension": ".py",
   "mimetype": "text/x-python",
   "name": "python",
   "nbconvert_exporter": "python",
   "pygments_lexer": "ipython3",
   "version": "3.10.9"
  }
 },
 "nbformat": 4,
 "nbformat_minor": 5
}
