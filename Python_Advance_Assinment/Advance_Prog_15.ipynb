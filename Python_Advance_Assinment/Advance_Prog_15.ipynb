{
 "cells": [
  {
   "cell_type": "code",
   "execution_count": 6,
   "id": "d9246dc2",
   "metadata": {},
   "outputs": [
    {
     "name": "stdout",
     "output_type": "stream",
     "text": [
      "True\n",
      "True\n",
      "False\n",
      "False\n"
     ]
    }
   ],
   "source": [
    "\"\"\"1. Write a function that returns True if a given name can generate an array of\n",
    "words.\n",
    "Examples\n",
    "anagram(\"Justin Bieber\", [\"injures\", \"ebb\", \"it\"]) ➞ True\n",
    "anagram(\"Natalie Portman\", [\"ornamental\", \"pita\"]) ➞ True\n",
    "anagram(\"Chris Pratt\", [\"chirps\", \"rat\"]) ➞ False\n",
    "# Not all letters are used\n",
    "anagram(\"Jeff Goldblum\", [\"jog\", \"meld\", \"bluffs\"]) ➞ False\n",
    "# \"s\" does not exist in the original name\"\"\" \n",
    "\n",
    "def anagram(word, lst):\n",
    "    word = word.split(\" \")\n",
    "    word = \"\".join(word)\n",
    "    word = word.lower()\n",
    "    len_word = len(word)\n",
    "    len_lst = len(\"\".join(lst))\n",
    "    if len_word != len_lst:\n",
    "        return False\n",
    "    for i in range(len(lst)):\n",
    "        for j in range(len(lst[i])):\n",
    "            if lst[i][j] in word:\n",
    "                continue\n",
    "            else:\n",
    "                return False\n",
    "    else:\n",
    "        return True\n",
    "\n",
    "\n",
    "print(anagram(\"Justin Bieber\", [\"injures\", \"ebb\", \"it\"]))\n",
    "print(anagram(\"Natalie Portman\", [\"ornamental\", \"pita\"]))\n",
    "print(anagram(\"Chris Pratt\", [\"chirps\", \"rat\"]))\n",
    "print(anagram(\"Jeff Goldblum\", [\"jog\", \"meld\", \"bluffs\"]))"
   ]
  },
  {
   "cell_type": "code",
   "execution_count": 12,
   "id": "cadcdfe9",
   "metadata": {},
   "outputs": [
    {
     "name": "stdout",
     "output_type": "stream",
     "text": [
      "140\n",
      "170\n",
      "175\n",
      "None\n"
     ]
    }
   ],
   "source": [
    "\"\"\"2. Given an array of users, each defined by an object with the following\n",
    "properties: name, score, reputation create a function that sorts the array to\n",
    "form the correct leaderboard.\n",
    "The leaderboard takes into consideration the score of each user of course,\n",
    "but an emphasis is put on their reputation in the community, so to get the\n",
    "trueScore, you should add the reputation multiplied by 2 to the score.\n",
    "Once you know the trueScore of each user, sort the array according to it in\n",
    "descending order.\n",
    "Examples\n",
    "leaderboards([\n",
    "{ \"name\": \"a\", \"score\": 100, \"reputation\": 20 },\n",
    "{ \"name\": \"b\", \"score\": 90, \"reputation\": 40 },\n",
    "{ \"name\": \"c\", \"score\": 115, \"reputation\": 30 },\n",
    "]) ➞ [\n",
    "{ \"name\": \"c\", \"score\";: 115, \"reputation\": 30 }, # trueScore = 175\n",
    "{ \"name\": \"b\", \"score\": 90, \"reputation\": 40 }, # trueScore = 170\n",
    "{ \"name\": \"a\", \"score\": 100, \"reputation\": 20 } # trueScore = 140\n",
    "]\"\"\"\n",
    "\n",
    "def leaderboards(course):\n",
    "    max = 0 \n",
    "    for i in course:\n",
    "        print(i['score'] + i['reputation']*2)\n",
    "        i = i['score'] + i['reputation']*2\n",
    "        \n",
    "        \n",
    "def digit_sort(nums):\n",
    "    def sort_key(num):\n",
    "        return (len(str(num)), num)\n",
    "    x = sorted(nums, key=sort_key, reverse=True)\n",
    "            \n",
    "\n",
    "print(leaderboards([\n",
    "{ \"name\": \"a\", \"score\": 100, \"reputation\": 20 },\n",
    "{ \"name\": \"b\", \"score\": 90, \"reputation\": 40 },\n",
    "{ \"name\": \"c\", \"score\": 115, \"reputation\": 30 },\n",
    "]))"
   ]
  },
  {
   "cell_type": "code",
   "execution_count": 15,
   "id": "60cf8618",
   "metadata": {},
   "outputs": [
    {
     "name": "stdout",
     "output_type": "stream",
     "text": [
      "[5, 10, 13, 24, 40]\n"
     ]
    }
   ],
   "source": []
  },
  {
   "cell_type": "code",
   "execution_count": 2,
   "id": "61efa64c",
   "metadata": {},
   "outputs": [
    {
     "data": {
      "text/plain": [
       "{'a': 1, 'b': 2}"
      ]
     },
     "execution_count": 2,
     "metadata": {},
     "output_type": "execute_result"
    }
   ],
   "source": [
    "d = {\"a\":1, \"b\":2}\n",
    "d"
   ]
  },
  {
   "cell_type": "code",
   "execution_count": 3,
   "id": "f68b9549",
   "metadata": {},
   "outputs": [],
   "source": [
    "d[\"c\"] =3"
   ]
  },
  {
   "cell_type": "code",
   "execution_count": 4,
   "id": "275880c6",
   "metadata": {},
   "outputs": [
    {
     "data": {
      "text/plain": [
       "{'a': 1, 'b': 2, 'c': 3}"
      ]
     },
     "execution_count": 4,
     "metadata": {},
     "output_type": "execute_result"
    }
   ],
   "source": [
    "d"
   ]
  },
  {
   "cell_type": "code",
   "execution_count": 14,
   "id": "389201e2",
   "metadata": {},
   "outputs": [
    {
     "name": "stdout",
     "output_type": "stream",
     "text": [
      "-e---o--e-\n",
      "tree\n",
      "p----n-r----\n",
      "-e---a--e-y--a----y---y-\n"
     ]
    }
   ],
   "source": [
    "\"\"\"3. Create a function that, given a phrase and a number of letters guessed,\n",
    "returns a string with hyphens - for every letter of the phrase not guessed, and\n",
    "each letter guessed in place.\n",
    "Examples\n",
    "hangman(\"helicopter\", [\"o\", \"e\", \"s\"]) ➞ \"-e---o--e-\"\n",
    "hangman(\"tree\", [\"r\", \"t\", \"e\"]) ➞ \"tree\"\n",
    "hangman(\"Python rules\", [\"a\", \"n\", \"p\", \"r\", \"z\"]) ➞ \"P----n r----\"\n",
    "hangman(\"He\"s a very naughty boy!\", [\"e\", \"a\", \"y\"]) ➞ \"-e\"- a -e-y -a----y –y!\" \"\"\"\n",
    "\n",
    "def hangman(phrase, letter):\n",
    "    phrase = phrase.lower()\n",
    "    s = \"\"\n",
    "    for i in phrase:\n",
    "        if i not in letter:\n",
    "            s += \"-\"\n",
    "        else:\n",
    "            s += i\n",
    "    return s\n",
    "            \n",
    "    \n",
    "\n",
    "print(hangman(\"helicopter\", [\"o\", \"e\", \"s\"]))\n",
    "print(hangman(\"tree\", [\"r\", \"t\", \"e\"]))\n",
    "print(hangman(\"Python rules\", [\"a\", \"n\", \"p\", \"r\", \"z\"]))\n",
    "print(hangman(\"He's a very naughty boy!\", [\"e\", \"a\", \"y\"]))"
   ]
  },
  {
   "cell_type": "code",
   "execution_count": 23,
   "id": "492ad7b7",
   "metadata": {},
   "outputs": [
    {
     "name": "stdout",
     "output_type": "stream",
     "text": [
      "[10, 5, 16, 8, 4, 2, 1]\n",
      "16\n",
      "[32, 16, 8, 4, 2, 1]\n",
      "32\n",
      "[85, 256, 128, 64, 32, 16, 8, 4, 2, 1]\n",
      "256\n"
     ]
    }
   ],
   "source": [
    "\"\"\"4. The Collatz sequence is as follows:\n",
    "- Start with some given integer n.\n",
    "- If it is even, the next number will be n divided by 2.\n",
    "- If it is odd, multiply it by 3 and add 1 to make the next number.\n",
    "- The sequence stops when it reaches 1.\n",
    "According to the Collatz conjecture, it will always reach 1. If that's true, you\n",
    "can construct a finite sequence following the aforementioned method for any\n",
    "given integer.\n",
    "Write a function that takes in an integer n and returns the highest integer in\n",
    "the corresponding Collatz sequence.\n",
    "Examples\n",
    "max_collatz(10) ➞ 16\n",
    "# Collatz sequence: 10, 5, 16, 8, 4, 2, 1\n",
    "max_collatz(32) ➞ 32\n",
    "# Collatz sequence: 32, 16, 8, 4, 2, 1\n",
    "max_collatz(85) ➞ 256\n",
    "# Collatz sequence: 85, 256, 128, 64, 32, 16, 8, 4, 2, 1\"\"\"\n",
    "\n",
    "def max_collatz(n):\n",
    "    l = [n]\n",
    "    while n != 1:\n",
    "        if n % 2 == 0:\n",
    "            n = n // 2\n",
    "            l.append(n)\n",
    "        else:\n",
    "            n = (n * 3) + 1\n",
    "            l.append(n)\n",
    "    print(l)\n",
    "    return max(l)\n",
    "        \n",
    "print(max_collatz(10))\n",
    "print(max_collatz(32))\n",
    "print(max_collatz(85))"
   ]
  },
  {
   "cell_type": "code",
   "execution_count": 62,
   "id": "262f1fe7",
   "metadata": {
    "scrolled": true
   },
   "outputs": [
    {
     "name": "stdout",
     "output_type": "stream",
     "text": [
      "[101, 23, 77, 5, 7]\n",
      "[444, 563, 789, 1, 2, 5, 9]\n",
      "[53219, 3772, 564, 32, 1]\n"
     ]
    }
   ],
   "source": [
    "\"\"\"5. Write a function that sorts a list of integers by their digit length in\n",
    "descending order, then settles ties by sorting numbers with the same digit\n",
    "length in ascending order.\n",
    "Examples\n",
    "digit_sort([77, 23, 5, 7, 101])\n",
    "➞ [101, 23, 77, 5, 7]\n",
    "digit_sort([1, 5, 9, 2, 789, 563, 444])\n",
    "➞ [444, 563, 789, 1, 2, 5, 9]\n",
    "digit_sort([53219, 3772, 564, 32, 1])\n",
    "\n",
    "➞ [53219, 3772, 564, 32, 1]\"\"\"\n",
    "\n",
    "def digit_sort(nums):\n",
    "    def sort_key(num):\n",
    "        return (len(str(num)), num)\n",
    "    x = sorted(nums, key=sort_key, reverse=True)\n",
    "    \n",
    "    #print(x)\n",
    "    len_x = []\n",
    "    for i in x:\n",
    "        len_x.append(len(str(i)))\n",
    "    #print(len_x)\n",
    "    max_len = max(len_x)\n",
    "    result = []\n",
    "    while max_len != 0:\n",
    "        s = []\n",
    "        for j in x:\n",
    "            if len(str(j)) == max_len:\n",
    "                s.append(j)\n",
    "        s = sorted(s)\n",
    "        result.append(s)\n",
    "        max_len -= 1\n",
    "    \n",
    "    return [j for i in result for j in i]\n",
    "\n",
    "print(digit_sort([77, 23, 5, 7, 101]))\n",
    "print(digit_sort([1, 5, 9, 2, 789, 563, 444]))\n",
    "print(digit_sort([53219, 3772, 564, 32, 1]))"
   ]
  },
  {
   "cell_type": "code",
   "execution_count": null,
   "id": "3e42e352",
   "metadata": {},
   "outputs": [],
   "source": []
  }
 ],
 "metadata": {
  "kernelspec": {
   "display_name": "Python 3 (ipykernel)",
   "language": "python",
   "name": "python3"
  },
  "language_info": {
   "codemirror_mode": {
    "name": "ipython",
    "version": 3
   },
   "file_extension": ".py",
   "mimetype": "text/x-python",
   "name": "python",
   "nbconvert_exporter": "python",
   "pygments_lexer": "ipython3",
   "version": "3.10.9"
  }
 },
 "nbformat": 4,
 "nbformat_minor": 5
}
