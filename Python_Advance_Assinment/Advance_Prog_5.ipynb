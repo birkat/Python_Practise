{
 "cells": [
  {
   "cell_type": "code",
   "execution_count": 1,
   "id": "d0257fb9",
   "metadata": {},
   "outputs": [
    {
     "name": "stdout",
     "output_type": "stream",
     "text": [
      "2\n",
      "8\n",
      "2\n"
     ]
    }
   ],
   "source": [
    "\"\"\"1. Create a function that takes a number n (integer greater than zero) as an\n",
    "argument, and returns 2 if n is odd and 8 if n is even.\n",
    "You can only use the following arithmetic operators: addition of numbers +,\n",
    "subtraction of numbers -, multiplication of number *, division of number /, and\n",
    "exponentiation **.\n",
    "You are not allowed to use any other methods in this challenge (i.e. no if\n",
    "statements, comparison operators, etc).\n",
    "Examples\n",
    "f(1) ➞ 2\n",
    "f(2) ➞ 8\n",
    "f(3) ➞ 2 \"\"\"\n",
    "\n",
    "def f(n):\n",
    "    # arr = [\"Even\", \"Odd\"]\n",
    "    # return (arr[n%2])\n",
    "\n",
    "    arr = [\"8\", \"2\"]\n",
    "    return (arr[n%2])\n",
    "\n",
    "print(f(1))\n",
    "print(f(2))\n",
    "print(f(3))"
   ]
  },
  {
   "cell_type": "code",
   "execution_count": 8,
   "id": "db973da8",
   "metadata": {},
   "outputs": [
    {
     "name": "stdout",
     "output_type": "stream",
     "text": [
      "A\n",
      "A\n",
      "None\n"
     ]
    }
   ],
   "source": [
    "\"\"\"2. Create a function that returns the majority vote in a list. A majority vote is\n",
    "an element that occurs > N/2 times in a list (where N is the length of the list).\n",
    "Examples\n",
    "majority_vote([\"A\", \"A\", \"B\"]) ➞ \"A\"\n",
    "majority_vote([\"A\", \"A\", \"A\", \"B\", \"C\", \"A\"]) ➞ \"A\"\n",
    "majority_vote([\"A\", \"B\", \"B\", \"A\", \"C\", \"C\"]) ➞ None\"\"\"\n",
    "\n",
    "def majority_vote(lst):\n",
    "    l = len(lst) / 2\n",
    "    if lst.count(\"A\") > l:\n",
    "        return \"A\"\n",
    "    elif lst.count(\"B\") > l:\n",
    "        return \"B\"\n",
    "    elif lst.count(\"C\") > l:\n",
    "        return \"C\"\n",
    "\n",
    "print(majority_vote([\"A\", \"A\", \"B\"]))\n",
    "print(majority_vote([\"A\", \"A\", \"A\", \"B\", \"C\", \"A\"]))\n",
    "print(majority_vote([\"A\", \"B\", \"B\", \"A\", \"C\", \"C\"]))"
   ]
  },
  {
   "cell_type": "code",
   "execution_count": 35,
   "id": "35134aa1",
   "metadata": {},
   "outputs": [
    {
     "name": "stdout",
     "output_type": "stream",
     "text": [
      "----- is - Wednesday! \n",
      "The *** jumped **** the moon. \n",
      "Why *** the ******* cross the road? \n"
     ]
    }
   ],
   "source": [
    "\"\"\"3. Create a function that takes a string txt and censors any word from a given\n",
    "list lst. The text removed must be replaced by the given character char.\n",
    "Examples\n",
    "censor_string(\"Today is a Wednesday!\", [\"Today\", \"a\"], \"-\") ➞ \"----- is - Wednesday!\"\n",
    "censor_string(\"The cow jumped over the moon.\", [\"cow\", \"over\"], \"*\"), \"The *** jumped **** the moon.\")\n",
    "censor_string(\"Why did the chicken cross the road?\", [\"Did\", \"chicken\",\n",
    "\"road\"], \"*\") ➞ \"Why *** the ******* cross the ****?\" \"\"\"\n",
    "\n",
    "def censor_string(sen, char, r):\n",
    "    s1 = \"\"\n",
    "    s = sen.split(\" \")\n",
    "    for i in s:\n",
    "        if i in char:\n",
    "            for j in range(len(i)):\n",
    "                i = i.replace(i[j], r)\n",
    "            s1 += i + \" \"\n",
    "        else:\n",
    "            s1 += i + \" \"\n",
    "        \n",
    "    return s1\n",
    "\n",
    "print(censor_string(\"Today is a Wednesday!\", [\"Today\", \"a\"], \"-\"))\n",
    "print(censor_string(\"The cow jumped over the moon.\", [\"cow\", \"over\"], \"*\"))\n",
    "print(censor_string(\"Why did the chicken cross the road?\", [\"did\", \"chicken\",\n",
    "\"road\"], \"*\"))"
   ]
  },
  {
   "cell_type": "code",
   "execution_count": 38,
   "id": "5be47686",
   "metadata": {},
   "outputs": [
    {
     "name": "stdout",
     "output_type": "stream",
     "text": [
      "----- is - Wednesday! \n",
      "The *** jumped **** the moon. \n",
      "Why *** the ******* cross the road? \n"
     ]
    }
   ],
   "source": [
    "def censor_string(sen, char, r):\n",
    "    s1 = \"\"\n",
    "    s = sen.split(\" \")\n",
    "    for i in s:\n",
    "        if i in char:\n",
    "            s1 = s1 + (len(i) * r) + \" \"\n",
    "        else:\n",
    "            s1 += i + \" \"\n",
    "    return s1\n",
    "\n",
    "print(censor_string(\"Today is a Wednesday!\", [\"Today\", \"a\"], \"-\"))\n",
    "print(censor_string(\"The cow jumped over the moon.\", [\"cow\", \"over\"], \"*\"))\n",
    "print(censor_string(\"Why did the chicken cross the road?\", [\"did\", \"chicken\",\n",
    "\"road\"], \"*\"))"
   ]
  },
  {
   "cell_type": "code",
   "execution_count": 45,
   "id": "efbfa772",
   "metadata": {},
   "outputs": [
    {
     "name": "stdout",
     "output_type": "stream",
     "text": [
      "True\n",
      "False\n",
      "True\n",
      "True\n"
     ]
    }
   ],
   "source": [
    "\"\"\"4. In mathematics a Polydivisible Number (or magic number) is a number in a\n",
    "given number base with digits abcde... that has the following properties:\n",
    "- Its first digit a is not 0.\n",
    "- The number formed by its first two digits ab is a multiple of 2.\n",
    "- The number formed by its first three digits abc is a multiple of 3.\n",
    "- The number formed by its first four digits abcd is a multiple of 4.\n",
    "Create a function which takes an integer n and returns True if the given\n",
    "number is a Polydivisible Number and False otherwise.\n",
    "Examples\n",
    "is_polydivisible(1232) ➞ True\n",
    "# 1 / 1 = 1\n",
    "# 12 / 2 = 6\n",
    "# 123 / 3 = 41\n",
    "# 1232 / 4 = 308\n",
    "is_polydivisible(123220 ) ➞ False\n",
    "# 1 / 1 = 1\n",
    "# 12 / 2 = 6\n",
    "# 123 / 3 = 41\n",
    "# 1232 / 4 = 308\n",
    "# 12322 / 5 = 2464.4 # Not a Whole Number\n",
    "# 123220 /6 = 220536.333... # Not a Whole Number\"\"\"\n",
    "\n",
    "def is_polydivisible(n):\n",
    "    n1 = n\n",
    "    t = []\n",
    "    l = len(str(n))\n",
    "    while n > 0:\n",
    "        if n % l == 0:\n",
    "            t.append(1)\n",
    "            n = n // 10\n",
    "            l = l -1\n",
    "        else:\n",
    "            n = n // 10\n",
    "            l = l - 1\n",
    "    if len(t) == len(str(n1)):\n",
    "        return True\n",
    "    else:\n",
    "        return False\n",
    "\n",
    "print(is_polydivisible(1232))\n",
    "print(is_polydivisible(123220))\n",
    "print(is_polydivisible(3608528850368400786036725))\n",
    "print(is_polydivisible(345654))"
   ]
  },
  {
   "cell_type": "code",
   "execution_count": 87,
   "id": "35564095",
   "metadata": {},
   "outputs": [
    {
     "name": "stdout",
     "output_type": "stream",
     "text": [
      "17\n",
      "87\n",
      "0\n"
     ]
    }
   ],
   "source": [
    "\"\"\"5. Create a function that takes a list of numbers and returns the sum of all\n",
    "prime numbers in the list.\n",
    "Examples\n",
    "sum_primes([1, 2, 3, 4, 5, 6, 7, 8, 9, 10]) ➞ 17\n",
    "sum_primes([2, 3, 4, 11, 20, 50, 71]) ➞ 87\n",
    "sum_primes([]) ➞ None\"\"\"\n",
    "\n",
    "def sum_primes(p):\n",
    "    add = 0\n",
    "    for n in p:\n",
    "        if n == 1:\n",
    "            continue\n",
    "        for i in range(2, int(n/2)+1):\n",
    "            if n % i == 0:\n",
    "                break \n",
    "        else:\n",
    "            add += n\n",
    "    return add\n",
    "\n",
    "print(sum_primes([1, 2, 3, 4, 5, 6, 7, 8, 9, 10]))\n",
    "print(sum_primes([2, 3, 4, 11, 20, 50, 71]))\n",
    "print(sum_primes([]))"
   ]
  },
  {
   "cell_type": "code",
   "execution_count": null,
   "id": "ea49f3e5",
   "metadata": {},
   "outputs": [],
   "source": []
  }
 ],
 "metadata": {
  "kernelspec": {
   "display_name": "Python 3 (ipykernel)",
   "language": "python",
   "name": "python3"
  },
  "language_info": {
   "codemirror_mode": {
    "name": "ipython",
    "version": 3
   },
   "file_extension": ".py",
   "mimetype": "text/x-python",
   "name": "python",
   "nbconvert_exporter": "python",
   "pygments_lexer": "ipython3",
   "version": "3.10.9"
  }
 },
 "nbformat": 4,
 "nbformat_minor": 5
}
