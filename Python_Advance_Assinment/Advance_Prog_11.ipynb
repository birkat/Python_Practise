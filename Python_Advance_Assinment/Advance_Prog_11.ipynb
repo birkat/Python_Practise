{
 "cells": [
  {
   "cell_type": "code",
   "execution_count": 8,
   "id": "e460b513",
   "metadata": {},
   "outputs": [
    {
     "name": "stdout",
     "output_type": "stream",
     "text": [
      "[7, 3, 11]\n",
      "[10007, 1009]\n",
      "[1009, 3, 61, 1087, 1091, 1093, 1097]\n"
     ]
    }
   ],
   "source": [
    "\"\"\"1. Create a function that takes a list and returns a new list containing only\n",
    "prime numbers.\n",
    "Examples\n",
    "filter_primes([7, 9, 3, 9, 10, 11, 27]) ➞ [7, 3, 11]\n",
    "filter_primes([10007, 1009, 1007, 27, 147, 77, 1001, 70]) ➞ [10007, 1009]\n",
    "filter_primes([1009, 10, 10, 10, 3, 33, 9, 4, 1, 61, 63, 69, 1087, 1091, 1093,\n",
    "1097]) ➞ [1009, 3, 61, 1087, 1091, 1093, 1097]\"\"\"\n",
    "\n",
    "def filter_primes(num):\n",
    "    new_num = []\n",
    "    for i in num:\n",
    "        if i == 1:\n",
    "            continue\n",
    "        for j in range(2, int(i / 2)+1):\n",
    "            if i % j == 0:\n",
    "                break\n",
    "        else:\n",
    "            new_num.append(i)\n",
    "    return new_num\n",
    "\n",
    "\n",
    "print(filter_primes([7, 9, 3, 9, 10, 11, 27]))\n",
    "print(filter_primes([10007, 1009, 1007, 27, 147, 77, 1001, 70]))\n",
    "print(filter_primes([1009, 10, 10, 10, 3, 33, 9, 4, 1, 61, 63, 69, 1087, 1091, 1093,1097]))"
   ]
  },
  {
   "cell_type": "code",
   "execution_count": 11,
   "id": "1eaf87f2",
   "metadata": {},
   "outputs": [
    {
     "name": "stdout",
     "output_type": "stream",
     "text": [
      "[0, 1, 2, 3, 4, 3, 2, 1, 0]\n",
      "[0, 1, 2, 3, 2, 1, 0]\n",
      "[]\n"
     ]
    }
   ],
   "source": [
    "\"\"\"2. Once a water balloon pops, is soaks the area around it. The ground gets\n",
    "drier the further away you travel from the balloon.\n",
    "The effect of a water balloon popping can be modeled using a list. Create a\n",
    "function that takes a list which takes the pre-pop state and returns the state\n",
    "after the balloon is popped. The pre-pop state will contain at most a single\n",
    "balloon, whose size is represented by the only non-zero element.\n",
    "Examples\n",
    "pop([0, 0, 0, 0, 4, 0, 0, 0, 0]) ➞ [0, 1, 2, 3, 4, 3, 2, 1, 0]\n",
    "pop([0, 0, 0, 3, 0, 0, 0]) ➞ [0, 1, 2, 3, 2, 1, 0]\n",
    "pop([0, 0, 2, 0, 0]) ➞ [0, 1, 2, 1, 0]\n",
    "pop([0]) ➞ [0]\"\"\"\n",
    "\n",
    "def pop(n):\n",
    "    new_n = []\n",
    "    for i in range(len(n)):\n",
    "        if n[i] != 0:\n",
    "            for j in range(n[i]+1):\n",
    "                new_n.append(j)\n",
    "            for k in range(n[i]-1,-1,-1):\n",
    "                new_n.append(k)\n",
    "    return (new_n)\n",
    "\n",
    "print(pop([0, 0, 0, 0, 4, 0, 0, 0, 0]))\n",
    "print(pop([0, 0, 0, 3, 0, 0, 0]))\n",
    "print(pop([0]))"
   ]
  },
  {
   "cell_type": "code",
   "execution_count": 50,
   "id": "e7e47249",
   "metadata": {},
   "outputs": [
    {
     "name": "stdout",
     "output_type": "stream",
     "text": [
      "Loves me, Loves me not, LOVES ME\n",
      "Loves me, Loves me not, Loves me, Loves me not, Loves me, LOVES ME NOT\n",
      "LOVES ME\n"
     ]
    }
   ],
   "source": [
    "\"\"\"3. \"Loves me, loves me not\" is a traditional game in which a person plucks off\n",
    "all the petals of a flower one by one, saying the phrase \"Loves me\" and\n",
    "\"Loves me not\" when determining whether the one that they love, loves them\n",
    "back.\n",
    "Given a number of petals, return a string which repeats the phrases \"Loves\n",
    "me\" and \"Loves me not\" for every alternating petal, and return the last phrase\n",
    "in all caps. Remember to put a comma and space between phrases.\n",
    "Examples\n",
    "loves_me(3) ➞ \"Loves me, Loves me not, LOVES ME\"\n",
    "loves_me(6) ➞ Loves me, Loves me not, Loves me, Loves me not, Loves me, LOVES ME NOT\"\n",
    "loves_me(1) ➞ \"LOVES ME\"\"\"\n",
    "\n",
    "def loves_me(petals_num):\n",
    "    pet = \"\"\n",
    "    result = \"\"\n",
    "    for i in range(1,petals_num+1):\n",
    "        if i == petals_num:\n",
    "            if i % 2 == 0:\n",
    "                pet += \"LOVES ME NOT\" + \",\" + \" \"\n",
    "            else:\n",
    "                pet += \"LOVES ME\" + \",\" + \" \"\n",
    "        elif i % 2 == 0:\n",
    "            pet += \"Loves me not\" + \",\" + \" \"\n",
    "        else:\n",
    "            pet += \"Loves me\" + \",\" + \" \"\n",
    "    \n",
    "    return pet[0:len(pet)-2]\n",
    "\n",
    "print(loves_me(3))\n",
    "print(loves_me(6))\n",
    "print(loves_me(1))"
   ]
  },
  {
   "cell_type": "code",
   "execution_count": 84,
   "id": "b8b8e70b",
   "metadata": {},
   "outputs": [
    {
     "name": "stdout",
     "output_type": "stream",
     "text": [
      "['2344b', '932c', '832u32']\n",
      "['99a', '78b', 'c2345', '11d']\n",
      "['304q2', '5y5', '572z']\n",
      "[]\n"
     ]
    }
   ],
   "source": [
    "\"\"\"4. Write a function that sorts each string in a list by the letter in alphabetic\n",
    "ascending order (a-z).\n",
    "Examples\n",
    "sort_by_letter([\"932c\", \"832u32\", \"2344b\"])\n",
    "➞ [\"2344b\", \"932c\", \"832u32\"]\n",
    "sort_by_letter(\"99a\", \"78b\", \"c2345\", \"11d\"])\n",
    "➞ [\"99a\", \"78b\", \"c2345\", \"11d\"]\n",
    "sort_by_letter([\"572z\", \"5y5\", \"304q2\"])\n",
    "➞ [\"304q2\", \"5y5\", \"572z\"]\n",
    "sort_by_letter([])\n",
    "➞ []\"\"\"\n",
    "\n",
    "def sort_by_letter(r):\n",
    "    r1 = []\n",
    "    for i in r:\n",
    "        for j in i:\n",
    "            if j.isalpha() == True:\n",
    "                r1.append(j)\n",
    "    r1 = sorted(r1)\n",
    "    new = []\n",
    "    for i in r1:\n",
    "        for j in range(len(r)):\n",
    "            if i in r[j]:\n",
    "                new.append(r[j])\n",
    "    return new\n",
    "    \n",
    "print(sort_by_letter([\"932c\", \"832u32\", \"2344b\"]))\n",
    "print(sort_by_letter([\"99a\", \"78b\", \"c2345\", \"11d\"]))\n",
    "print(sort_by_letter([\"572z\", \"5y5\", \"304q2\"]))\n",
    "print(sort_by_letter([]))"
   ]
  },
  {
   "cell_type": "code",
   "execution_count": 87,
   "id": "baeb5cd0",
   "metadata": {},
   "outputs": [
    {
     "name": "stdout",
     "output_type": "stream",
     "text": [
      "C\n",
      "B\n",
      "A\n"
     ]
    }
   ],
   "source": [
    "\"\"\"5. There are three cups on a table, at positions A, B, and C. At the start, there\n",
    "is a ball hidden under the cup at position B.\n",
    "\n",
    "However, I perform several swaps on the cups, which is notated as two\n",
    "letters. For example, if I swap the cups at positions A and B, I could notate\n",
    "this as AB or BA.\n",
    "Create a function that returns the letter position that the ball is at, once I finish\n",
    "swapping the cups. The swaps will be given to you as a list.\n",
    "\n",
    "Example\n",
    "cup_swapping([\"AB\", \"CA\", \"AB\"]) ➞ \"C\"\n",
    "\n",
    "print(cup_swapping([\"AB\", \"CA\", \"AB\"]))\n",
    "print(cup_swapping([\"AC\", \"CA\", \"CA\", \"AC\"]))\n",
    "print(cup_swapping([\"BA\", \"AC\", \"CA\", \"BC\"]))\n",
    "\n",
    "# Ball begins at position B.\n",
    "# Cups A and B swap, so the ball is at position A.\n",
    "# Cups C and A swap, so the ball is at position C.\n",
    "# Cups A and B swap, but the ball is at position C, so it doesn't move.\"\"\"\n",
    "\n",
    "def cup_swapping(cup):\n",
    "    ball = \"B\"\n",
    "    for i in range(len(cup)):\n",
    "        for j in range(len(cup)):\n",
    "            if ball in cup[i]:\n",
    "                if ball != cup[i][j]:\n",
    "                    ball = cup[i][j]\n",
    "                    break\n",
    "    return ball\n",
    "\n",
    "\n",
    "print(cup_swapping([\"AB\", \"CA\", \"AB\"]))\n",
    "print(cup_swapping([\"AC\", \"CA\", \"CA\", \"AC\"]))\n",
    "print(cup_swapping([\"BA\", \"AC\", \"CA\", \"BC\"]))"
   ]
  },
  {
   "cell_type": "code",
   "execution_count": null,
   "id": "e2a7b296",
   "metadata": {},
   "outputs": [],
   "source": []
  }
 ],
 "metadata": {
  "kernelspec": {
   "display_name": "Python 3 (ipykernel)",
   "language": "python",
   "name": "python3"
  },
  "language_info": {
   "codemirror_mode": {
    "name": "ipython",
    "version": 3
   },
   "file_extension": ".py",
   "mimetype": "text/x-python",
   "name": "python",
   "nbconvert_exporter": "python",
   "pygments_lexer": "ipython3",
   "version": "3.10.9"
  }
 },
 "nbformat": 4,
 "nbformat_minor": 5
}
