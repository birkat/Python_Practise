{
 "cells": [
  {
   "cell_type": "code",
   "execution_count": 1,
   "id": "04b1a731",
   "metadata": {},
   "outputs": [
    {
     "name": "stdout",
     "output_type": "stream",
     "text": [
      "['b', 'g', 'w']\n",
      "['w']\n",
      "[]\n"
     ]
    }
   ],
   "source": [
    "\"\"\"1. Create a function that takes a list and string. The function should remove\n",
    "the letters in the string from the list, and return the list.\n",
    "Examples\n",
    "remove_letters([\"s\", \"t\", \"r\", \"i\", \"n\", \"g\", \"w\"], \"string\") ➞ [\"w\"]\n",
    "remove_letters([\"b\", b\", \"l\", \"l\", \"g\", \"n\", \"o\", \"a\", \"w\"], \"balloon\") ➞ [\"b\", \"g\", \"w\"]\n",
    "remove_letters([\"d\", \"b\", \"t\", \"e\", \"a\", \"i\"], \"edabit\") ➞ []\"\"\"\n",
    "\n",
    "def remove_letters(l, s):\n",
    "    j = 0\n",
    "    for i in range(len(s)):\n",
    "        while j < len(l):\n",
    "            if s[i] == l[j]:\n",
    "                del l[j]\n",
    "                j = 0\n",
    "                break\n",
    "            else:\n",
    "                j += 1\n",
    "        j = 0\n",
    "    return l\n",
    "print(remove_letters([\"b\", \"b\", \"l\", \"l\", \"g\", \"n\", \"o\", \"a\", \"w\"], \"balloon\"))\n",
    "print(remove_letters([\"s\", \"t\", \"r\", \"i\", \"n\", \"g\", \"w\"], \"string\"))\n",
    "print(remove_letters([\"d\", \"b\", \"t\", \"e\", \"a\", \"i\"], \"edabit\"))"
   ]
  },
  {
   "cell_type": "code",
   "execution_count": 35,
   "id": "1f4549a1",
   "metadata": {},
   "outputs": [
    {
     "name": "stdout",
     "output_type": "stream",
     "text": [
      "5\n",
      "39\n",
      "12\n"
     ]
    }
   ],
   "source": [
    "\"\"\"2. A block sequence in three dimensions. We can write a formula for this one:\n",
    "Create a function that takes a number (step) as an argument and returns the\n",
    "amount of blocks in that step.\n",
    "Examples\n",
    "blocks(1) ➞ 5\n",
    "blocks(5) ➞ 39\n",
    "blocks(2) ➞ 12\"\"\"\n",
    "\n",
    "def blocks(step):\n",
    "    base = 5\n",
    "    sum = 0\n",
    "    i = 1\n",
    "    while i <= step:\n",
    "        sum = sum + base + i\n",
    "        i += 1\n",
    "    return sum - 1\n",
    "\n",
    "print(blocks(1))\n",
    "print(blocks(5))\n",
    "print(blocks(2))"
   ]
  },
  {
   "cell_type": "code",
   "execution_count": 13,
   "id": "9010357e",
   "metadata": {},
   "outputs": [
    {
     "name": "stdout",
     "output_type": "stream",
     "text": [
      "4\n",
      "20\n",
      "0\n"
     ]
    }
   ],
   "source": [
    "\"\"\"3. Create a function that subtracts one positive integer from another, without\n",
    "using any arithmetic operators such as -, %, /, +, etc.\n",
    "Examples\n",
    "my_sub(5, 9) ➞ 4\n",
    "my_sub(10, 30) ➞ 20\n",
    "my_sub(0, 0) ➞ 0\"\"\"\n",
    "\n",
    "def my_sub(a, b):\n",
    "    n = list(range(b))\n",
    "    for j in range(a):\n",
    "        if j in n:\n",
    "            del n[0]\n",
    "    return len(n)\n",
    "    \n",
    "print(my_sub(5, 9))\n",
    "print(my_sub(10, 30))\n",
    "print(my_sub(0, 0))"
   ]
  },
  {
   "cell_type": "code",
   "execution_count": 34,
   "id": "c94c556c",
   "metadata": {},
   "outputs": [
    {
     "name": "stdout",
     "output_type": "stream",
     "text": [
      "70\n",
      "170\n",
      "2200\n"
     ]
    }
   ],
   "source": [
    "\"\"\"4. Create a function that takes a string containing money in dollars and\n",
    "pounds sterling (seperated by comma) and returns the sum of dollar bills only,\n",
    "as an integer.\n",
    "For the input string:\n",
    "- Each amount is prefixed by the currency symbol: $ for dollars and £ for\n",
    "pounds.\n",
    "- Thousands are represented by the suffix k.\n",
    "i.e. $4k = $4,000 and £40k = £40,000\n",
    "Examples\n",
    "add_bill(\"d20,p40,p60,d50\") ➞ 20 + 50 = 70\n",
    "add_bill(\"p30,d20,p60,d150,p360\") ➞ 20 + 150 = 170\n",
    "add_bill(\"p30,d2k,p60,d200,p360\") ➞ 2 * 1000 + 200 = 2200\"\"\"\n",
    "\n",
    "def add_bill(d):\n",
    "    add = 0\n",
    "    for i in d.split(\",\"):\n",
    "        if i[len(i)-1] == \"k\":\n",
    "            remv2 = i.removesuffix(\"k\")\n",
    "            if remv2[0] == \"d\":\n",
    "                remv = remv2.removeprefix(\"d\")\n",
    "                add += int(remv) * 1000\n",
    "                continue\n",
    "        if i[0] == \"d\":\n",
    "            remv = i.removeprefix(\"d\")\n",
    "            add += int(remv)\n",
    "\n",
    "    return add\n",
    "\n",
    "print(add_bill(\"d20,p40,p60,d50\"))\n",
    "print(add_bill(\"p30,d20,p60,d150,p360\"))\n",
    "print(add_bill(\"p30,d2k,p60,d200,p360\"))"
   ]
  },
  {
   "cell_type": "code",
   "execution_count": 43,
   "id": "d7dcee3c",
   "metadata": {},
   "outputs": [
    {
     "name": "stdout",
     "output_type": "stream",
     "text": [
      "[[1], [2], [3], [4]]\n",
      "[5, 6, 9]\n",
      "[]\n"
     ]
    }
   ],
   "source": [
    "\"\"\"5. Create a function that flips a horizontal list into a vertical list, and a vertical\n",
    "list into a horizontal list.\n",
    "In other words, take an 1 x n list (1 row + n columns) and flip it into a n x 1 list\n",
    "(n rows and 1 column), and vice versa.\n",
    "Examples\n",
    "flip_list([1, 2, 3, 4]) ➞ [[1], [2], [3], [4]]\n",
    "# Take a horizontal list and flip it vertical.\n",
    "flip_list([[5], [6], [9]]) ➞ [5, 6, 9]\n",
    "# Take a vertical list and flip it horizontal.\n",
    "flip_list([]) ➞ []\"\"\"\n",
    "\n",
    "def flip_list1(n):\n",
    "    return [[i] for i in n]\n",
    "\n",
    "print(flip_list1([1, 2, 3, 4]))\n",
    "\n",
    "def flip_list(m):\n",
    "    return [i[0] for i in m]\n",
    "\n",
    "print(flip_list([[5], [6], [9]]))\n",
    "\n",
    "def flip_list1(n):\n",
    "    return [[i] for i in n]\n",
    "\n",
    "print(flip_list1([]))"
   ]
  }
 ],
 "metadata": {
  "kernelspec": {
   "display_name": "Python 3 (ipykernel)",
   "language": "python",
   "name": "python3"
  },
  "language_info": {
   "codemirror_mode": {
    "name": "ipython",
    "version": 3
   },
   "file_extension": ".py",
   "mimetype": "text/x-python",
   "name": "python",
   "nbconvert_exporter": "python",
   "pygments_lexer": "ipython3",
   "version": "3.10.9"
  }
 },
 "nbformat": 4,
 "nbformat_minor": 5
}
