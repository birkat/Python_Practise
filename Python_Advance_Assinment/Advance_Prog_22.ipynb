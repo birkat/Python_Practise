{
 "cells": [
  {
   "cell_type": "code",
   "execution_count": 135,
   "id": "1d62b530",
   "metadata": {},
   "outputs": [
    {
     "name": "stdout",
     "output_type": "stream",
     "text": [
      "['Banana']\n",
      "$0.5\n",
      "$1.25\n",
      "Banana Smoothie\n",
      "['Raspberries', 'Strawberries', 'Blueberries']\n",
      "$3.5\n",
      "$8.75\n",
      "Blueberriey Raspberriey Strawberriey Fusion\n"
     ]
    }
   ],
   "source": [
    "\"\"\"1. Create a class Smoothie and do the following:\n",
    "- Create an instance attribute called ingredients.\n",
    "- Create a get_cost method which calculates the total cost of the\n",
    "ingredients used to make the smoothie.\n",
    "- Create a get_price method which returns the number from get_cost plus\n",
    "the number from get_cost multiplied by 1.5. Round to two decimal places.\n",
    "- Create a get_name method which gets the ingredients and puts them in\n",
    "alphabetical order into a nice descriptive sentence. If there are multiple\n",
    "ingredients, add the word \"Fusion\" to the end but otherwise, add \"Smoothie\".\n",
    "Remember to change \"-berries\" to \"-berry\". See the examples below.\n",
    "Ingredient Price\n",
    "Strawberries $1.50\n",
    "Banana $0.50\n",
    "Mango $2.50\n",
    "Blueberries $1.00\n",
    "Raspberries $1.00\n",
    "Apple $1.75\n",
    "Pineapple $3.50\n",
    "Examples\n",
    "s1 = Smoothie([\"Banana\"])\n",
    "s1.ingredients ➞ [\"Banana\"]\n",
    "s1.get_cost() ➞ \"$0.50\"\n",
    "s1.get_price() ➞ \"$1.25\"\n",
    "s1.get_name() ➞ \"Banana Smoothie\"\n",
    "s2 = Smoothie([\"Raspberries\", \"Strawberries\", \"Blueberries\"])\n",
    "s2.ingredients ➞ [\"Raspberries\", \"Strawberries\", \"Blueberries\"]\n",
    "s2.get_cost() ➞ \"$3.50\"\n",
    "s2.get_price() ➞ \"$8.75\"\n",
    "s2.get_name() ➞ \"Blueberry Raspberry Strawberry Fusion\" \"\"\"\n",
    "\n",
    "\n",
    "class Smoothie:\n",
    "    ingredients_price = {\"Strawberries\": \"$1.50\", \"Banana\": \"$0.50\", \"Mango\": \"$2.50\", \n",
    "                   \"Blueberries\": \"$1.00\", \"Raspberries\": \"$1.00\", \"Apple\": \"$1.75\",\n",
    "                   \"Pineapple\": \"$3.50\"}\n",
    "    \n",
    "    def __init__(self, ingredients):\n",
    "        self.ingredients = ingredients\n",
    "    \n",
    "    def get_cost(self):\n",
    "        tot_cost = 0\n",
    "        for ingredi in self.ingredients:\n",
    "            if ingredi in Smoothie.ingredients_price:\n",
    "                tot_cost += float(Smoothie.ingredients_price[ingredi][1:])\n",
    "        return (\"$\" + str(round(tot_cost,2)))\n",
    "    \n",
    "    def get_price(self):\n",
    "        price = self.get_cost()\n",
    "        return \"$\" + str(round(float(price[1:]) * 1.5 + float(price[1:]), 2))\n",
    "    \n",
    "    def get_name(self):\n",
    "        sen = \"\"\n",
    "        if len(self.ingredients) > 1:\n",
    "            sort_ingredients = sorted(self.ingredients)\n",
    "            for i in range(len(sort_ingredients)):\n",
    "                if sort_ingredients[i][-1] == \"s\":\n",
    "                    sen += sort_ingredients[i][:-1] + \"y\" + \" \"\n",
    "                else:\n",
    "                    sen += sort_ingredients[i] + \" \"\n",
    "            return sen + \"Fusion\"\n",
    "        else:\n",
    "            return self.ingredients[0] + \" Smoothie\"\n",
    "        \n",
    "s1 = Smoothie([\"Banana\"])\n",
    "print(s1.ingredients)\n",
    "print(s1.get_cost())\n",
    "print(s1.get_price())\n",
    "print(s1.get_name())\n",
    "s2 = Smoothie([\"Raspberries\", \"Strawberries\", \"Blueberries\"])\n",
    "print(s2.ingredients)\n",
    "print(s2.get_cost())\n",
    "print(s2.get_price())\n",
    "print(s2.get_name())"
   ]
  },
  {
   "cell_type": "code",
   "execution_count": 136,
   "id": "f7dcd2ab",
   "metadata": {},
   "outputs": [],
   "source": [
    "\"\"\"2. Your task is to write a program which allows teachers to create a multiple\n",
    "choice test in a class called Testpaper and to be also able to assign a\n",
    "minimum pass mark. The testpaper's subject should also be included. The\n",
    "attributes are in the following order:\n",
    "1. subject\n",
    "2. markscheme\n",
    "3. pass_mark\n",
    "As well as that, we need to create student objects to take the test itself!\n",
    "Create another class called Student and do the following:\n",
    "- Create an attribute called tests_taken and set the default as 'No tests\n",
    "taken'.\n",
    "- Make a method called take_test(), which takes in the testpaper object they\n",
    "are completing and the student's answers. Compare what they wrote to the\n",
    "mark scheme, and append to the/create a dictionary assigned to tests_taken\n",
    "in the way as shown in the point below.\n",
    "- Each key in the dictionary should be the testpaper subject and each value\n",
    "should be a string in the format seen in the examples below (whether or not\n",
    "the student has failed, and their percentage in brackets).\n",
    "Examples\n",
    "paper1 = Testpaper(\"Maths\", [\"1A\", \"2C\", \"3D\", \"4A\" \"5A\"], \"60%\")\n",
    "paper2 = Testpaper(\"Chemistry\", [\"1C\", \"2C\", \"3D\", \"4A\"], \"75%\")\n",
    "paper3 = Testpaper(\"Computing\", [\"1D\", \"2C\", \"3C\", \"4B\", \"5D\", \"6C\", \"7A\"],\n",
    "\"75%\")\n",
    "student1 = Student()\n",
    "student2 = Student()\n",
    "student1.tests_taken ➞ \"No tests taken\"\n",
    "student1.take_test(paper1, [\"1A\", \"2D\", \"3D\", \"4A\", \"5A\"])\n",
    "student1.tests_taken ➞ {\"Maths\" : \"Passed! (80%)\"}\n",
    "student2.take_test(paper2, [\"1C\", \"2D\", \"3A\", \"4C\"])\n",
    "student2.take_test(paper3, [\"1A\", \"2C\", \"3A\", \"4C\", \"5D\", \"6C\", \"7B\"])\n",
    "student2.tests_taken ➞ {\"Chemistry\" : \"Failed! (25%)\", \"Computing\" : \"Failed!\n",
    "(43%)\"}\"\"\"\n",
    "\n",
    "class Testpaper:\n",
    "    def __init__(self, subject, markscheme, pass_mark):\n",
    "        self.subject = subject\n",
    "        self.markscheme = markscheme\n",
    "        self.pass_mark = pass_mark\n",
    "        \n",
    "    "
   ]
  },
  {
   "cell_type": "code",
   "execution_count": 141,
   "id": "bfdb4ee8",
   "metadata": {},
   "outputs": [],
   "source": [
    "class Student(Testpaper):\n",
    "    def __init__(self, test_taken= \"No tests taken\"):\n",
    "        self.test_taken = test_taken\n",
    "        \n",
    "    def take_test(self, paper1):\n",
    "        "
   ]
  },
  {
   "cell_type": "code",
   "execution_count": 138,
   "id": "967c9da2",
   "metadata": {},
   "outputs": [],
   "source": [
    "paper1 = Testpaper(\"Maths\", [\"1A\", \"2C\", \"3D\", \"4A\" \"5A\"], \"60%\")"
   ]
  },
  {
   "cell_type": "code",
   "execution_count": 139,
   "id": "4de8020b",
   "metadata": {},
   "outputs": [],
   "source": [
    "student1 = Student()"
   ]
  },
  {
   "cell_type": "code",
   "execution_count": 140,
   "id": "2fa2ce5e",
   "metadata": {},
   "outputs": [
    {
     "data": {
      "text/plain": [
       "'No tests taken'"
      ]
     },
     "execution_count": 140,
     "metadata": {},
     "output_type": "execute_result"
    }
   ],
   "source": [
    "student1.test_taken"
   ]
  },
  {
   "cell_type": "code",
   "execution_count": 142,
   "id": "eeb03591",
   "metadata": {},
   "outputs": [
    {
     "name": "stdout",
     "output_type": "stream",
     "text": [
      "No tests taken\n",
      "{'Maths': 'Passed! (80%)'}\n",
      "{'Chemistry': 'Failed! (25%)', 'Computing': 'Failed! (43%)'}\n"
     ]
    }
   ],
   "source": [
    "class Testpaper:\n",
    "    def __init__(self, subject, markscheme, pass_mark):\n",
    "        self.subject = subject\n",
    "        self.markscheme = markscheme\n",
    "        self.pass_mark = pass_mark\n",
    "\n",
    "class Student:\n",
    "    def __init__(self):\n",
    "        self.tests_taken = \"No tests taken\"\n",
    "    \n",
    "    def take_test(self, testpaper, answers):\n",
    "        # Calculate the number of correct answers\n",
    "        correct_answers = 0\n",
    "        for student_answer, correct_answer in zip(answers, testpaper.markscheme):\n",
    "            if student_answer == correct_answer:\n",
    "                correct_answers += 1\n",
    "        \n",
    "        # Calculate the percentage score\n",
    "        total_questions = len(testpaper.markscheme)\n",
    "        percentage_score = (correct_answers / total_questions) * 100\n",
    "        \n",
    "        # Check if the student passed or failed\n",
    "        pass_mark = int(testpaper.pass_mark.strip('%'))\n",
    "        if percentage_score >= pass_mark:\n",
    "            result = f\"Passed! ({percentage_score:.0f}%)\"\n",
    "        else:\n",
    "            result = f\"Failed! ({percentage_score:.0f}%)\"\n",
    "        \n",
    "        # Update tests_taken\n",
    "        if self.tests_taken == \"No tests taken\":\n",
    "            self.tests_taken = {}\n",
    "        self.tests_taken[testpaper.subject] = result\n",
    "\n",
    "# Examples\n",
    "paper1 = Testpaper(\"Maths\", [\"1A\", \"2C\", \"3D\", \"4A\", \"5A\"], \"60%\")\n",
    "paper2 = Testpaper(\"Chemistry\", [\"1C\", \"2C\", \"3D\", \"4A\"], \"75%\")\n",
    "paper3 = Testpaper(\"Computing\", [\"1D\", \"2C\", \"3C\", \"4B\", \"5D\", \"6C\", \"7A\"], \"75%\")\n",
    "\n",
    "student1 = Student()\n",
    "student2 = Student()\n",
    "\n",
    "print(student1.tests_taken)  # ➞ \"No tests taken\"\n",
    "\n",
    "student1.take_test(paper1, [\"1A\", \"2D\", \"3D\", \"4A\", \"5A\"])\n",
    "print(student1.tests_taken)  # ➞ {\"Maths\" : \"Passed! (80%)\"}\n",
    "\n",
    "student2.take_test(paper2, [\"1C\", \"2D\", \"3A\", \"4C\"])\n",
    "student2.take_test(paper3, [\"1A\", \"2C\", \"3A\", \"4C\", \"5D\", \"6C\", \"7B\"])\n",
    "print(student2.tests_taken)  # ➞ {\"Chemistry\" : \"Failed! (25%)\", \"Computing\" : \"Failed! (43%)\"}\n"
   ]
  },
  {
   "cell_type": "code",
   "execution_count": 143,
   "id": "9f1b0445",
   "metadata": {},
   "outputs": [
    {
     "name": "stdout",
     "output_type": "stream",
     "text": [
      "No tests taken\n",
      "{'Maths': 'Passed! (80%)'}\n",
      "{'Chemistry': 'Failed! (25%)', 'Computing': 'Failed! (43%)'}\n"
     ]
    }
   ],
   "source": [
    "class Testpaper:\n",
    "    def __init__(self, subject, markscheme, pass_mark):\n",
    "        self.subject = subject\n",
    "        self.markscheme = markscheme\n",
    "        self.pass_mark = pass_mark\n",
    "\n",
    "class Student:\n",
    "    def __init__(self):\n",
    "        self.tests_taken = \"No tests taken\"\n",
    "    \n",
    "    def take_test(self, testpaper, answers):\n",
    "        # Calculate the number of correct answers using zip\n",
    "        correct_answers = sum(1 for student_answer, correct_answer in zip(answers, \n",
    "                        testpaper.markscheme) if student_answer == correct_answer)\n",
    "        \n",
    "        # Calculate the percentage score\n",
    "        total_questions = len(testpaper.markscheme)\n",
    "        percentage_score = (correct_answers / total_questions) * 100\n",
    "        \n",
    "        # Check if the student passed or failed\n",
    "        pass_mark = int(testpaper.pass_mark.strip('%'))\n",
    "        if percentage_score >= pass_mark:\n",
    "            result = f\"Passed! ({percentage_score:.0f}%)\"\n",
    "        else:\n",
    "            result = f\"Failed! ({percentage_score:.0f}%)\"\n",
    "        \n",
    "        # Update tests_taken\n",
    "        if self.tests_taken == \"No tests taken\":\n",
    "            self.tests_taken = {}\n",
    "        self.tests_taken[testpaper.subject] = result\n",
    "\n",
    "# Examples\n",
    "paper1 = Testpaper(\"Maths\", [\"1A\", \"2C\", \"3D\", \"4A\", \"5A\"], \"60%\")\n",
    "paper2 = Testpaper(\"Chemistry\", [\"1C\", \"2C\", \"3D\", \"4A\"], \"75%\")\n",
    "paper3 = Testpaper(\"Computing\", [\"1D\", \"2C\", \"3C\", \"4B\", \"5D\", \"6C\", \"7A\"], \"75%\")\n",
    "\n",
    "student1 = Student()\n",
    "student2 = Student()\n",
    "\n",
    "print(student1.tests_taken)  # ➞ \"No tests taken\"\n",
    "\n",
    "student1.take_test(paper1, [\"1A\", \"2D\", \"3D\", \"4A\", \"5A\"])\n",
    "print(student1.tests_taken)  # ➞ {\"Maths\" : \"Passed! (80%)\"}\n",
    "\n",
    "student2.take_test(paper2, [\"1C\", \"2D\", \"3A\", \"4C\"])\n",
    "student2.take_test(paper3, [\"1A\", \"2C\", \"3A\", \"4C\", \"5D\", \"6C\", \"7B\"])\n",
    "print(student2.tests_taken)  # ➞ {\"Chemistry\" : \"Failed! (25%)\", \"Computing\" : \"Failed! (43%)\"}\n"
   ]
  },
  {
   "cell_type": "code",
   "execution_count": null,
   "id": "658e1666",
   "metadata": {},
   "outputs": [],
   "source": []
  }
 ],
 "metadata": {
  "kernelspec": {
   "display_name": "Python 3 (ipykernel)",
   "language": "python",
   "name": "python3"
  },
  "language_info": {
   "codemirror_mode": {
    "name": "ipython",
    "version": 3
   },
   "file_extension": ".py",
   "mimetype": "text/x-python",
   "name": "python",
   "nbconvert_exporter": "python",
   "pygments_lexer": "ipython3",
   "version": "3.10.9"
  }
 },
 "nbformat": 4,
 "nbformat_minor": 5
}
