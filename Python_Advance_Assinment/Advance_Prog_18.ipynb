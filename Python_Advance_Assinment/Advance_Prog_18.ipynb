{
 "cells": [
  {
   "cell_type": "code",
   "execution_count": 6,
   "id": "75a7db4b",
   "metadata": {},
   "outputs": [
    {
     "name": "stdout",
     "output_type": "stream",
     "text": [
      "[-20, 40]\n",
      "[0, 0]\n",
      "[200, 10500]\n"
     ]
    }
   ],
   "source": [
    "\"\"\"1. A robot has been given a list of movement instructions. Each instruction is\n",
    "either left, right, up or down, followed by a distance to move. The robot starts\n",
    "at [0, 0]. You want to calculate where the robot will end up and return its final\n",
    "position as a list.\n",
    "To illustrate, if the robot is given the following instructions:\n",
    "[\"right 10\", \"up 50\", \"left 30\", \"down 10\"]\n",
    "It will end up 20 left and 40 up from where it started, so we return [-20, 40].\n",
    "Examples\n",
    "track_robot([\"right 10\", \"up 50\", \"left 30\", \"down 10\"]) ➞ [-20, 40]\n",
    "track_robot([]) ➞ [0, 0]\n",
    "// If there are no instructions, the robot doesn't move.\n",
    "track_robot([\"right 100\", \"right 100\", \"up 500\", \"up 10000\"]) ➞ [200, 10500]\"\"\"\n",
    "\n",
    "def track_robot(inst):\n",
    "    r1 = 0\n",
    "    u1 = 0\n",
    "    for i in inst:\n",
    "        side, num = i.split(\" \")\n",
    "        if side == \"right\":\n",
    "            r1 += int(num)\n",
    "        elif side == \"up\":\n",
    "            u1 += int(num)\n",
    "        elif side == \"left\":\n",
    "            r1 -= int(num)\n",
    "        elif side == \"down\":\n",
    "            u1 -= int(num)\n",
    "    return [r1, u1]\n",
    "\n",
    "print(track_robot([\"right 10\", \"up 50\", \"left 30\", \"down 10\"]))\n",
    "print(track_robot([]))\n",
    "print(track_robot([\"right 100\", \"right 100\", \"up 500\", \"up 10000\"]))"
   ]
  },
  {
   "cell_type": "code",
   "execution_count": 31,
   "id": "7a7d649d",
   "metadata": {},
   "outputs": [
    {
     "name": "stdout",
     "output_type": "stream",
     "text": [
      "Forgetfulness\n",
      "forever\n",
      "Strengths\n"
     ]
    }
   ],
   "source": [
    "\"\"\"2. Write a function that will return the longest word in a sentence. In cases\n",
    "where more than one word is found, return the first one.\n",
    "Examples\n",
    "find_longest(\"A thing of beauty is a joy forever.\") ➞ \"forever\"\n",
    "find_longest(\"Forgetfulness is by all means powerless!\") ➞ \"forgetfulness\"\n",
    "find_longest(\"\\\"Strengths\\\" is the longest and most commonly used word that contains only a single vowel.\"\"\"\n",
    "\n",
    "import string\n",
    "def find_longest(s):\n",
    "    l = []\n",
    "    s = s.split(\" \")\n",
    "    #print(s)\n",
    "    for i in s:\n",
    "        l.append(len(i))\n",
    "    for j in s:\n",
    "        if max(l) == len(j):\n",
    "            if j[0] in string.punctuation:\n",
    "                return j[1:len(j)-1]\n",
    "            elif j[len(j)-1] in string.punctuation:\n",
    "                return j[0:len(j)-1]\n",
    "            else:\n",
    "                return j\n",
    "        \n",
    "\n",
    "print(find_longest(\"Forgetfulness is by all means powerless!\"))\n",
    "print(find_longest(\"A thing of beauty is a joy forever.\"))\n",
    "print(find_longest(\"\\\"Strengths\\\" is the longest and most commonly used word that contains only a single vowel.\"))"
   ]
  },
  {
   "cell_type": "code",
   "execution_count": 39,
   "id": "398fddcd",
   "metadata": {},
   "outputs": [
    {
     "name": "stdout",
     "output_type": "stream",
     "text": [
      "qualified\n",
      "qualified\n",
      "disqualified\n",
      "disqualified\n",
      "disqualified\n"
     ]
    }
   ],
   "source": [
    "\"\"\"3. Create a function to check if a candidate is qualified in an imaginary coding\n",
    "interview of an imaginary tech startup.\n",
    "The criteria for a candidate to be qualified in the coding interview is:\n",
    "1. The candidate should have complete all the questions.\n",
    "2. The maximum time given to complete the interview is 120 minutes.\n",
    "3. The maximum time given for very easy questions is 5 minutes each.\n",
    "4. The maximum time given for easy questions is 10 minutes each.\n",
    "5. The maximum time given for medium questions is 15 minutes each.\n",
    "6. The maximum time given for hard questions is 20 minutes each.\n",
    "\n",
    "If all the above conditions are satisfied, return \"qualified\", else return\"disqualified\".\n",
    "You will be given a list of time taken by a candidate to solve a particular\n",
    "question and the total time taken by the candidate to complete the interview.\n",
    "Given a list , in a true condition will always be in the format [very easy, very\n",
    "easy, easy, easy, medium, medium, hard, hard].\n",
    "The maximum time to complete the interview includes a buffer time of 20\n",
    "minutes.\n",
    "Examples\n",
    "interview([5, 5, 10, 10, 15, 15, 20, 20], 120) ➞ qualified\"\n",
    "interview([2, 3, 8, 6, 5, 12, 10, 18], 64) ➞ \"qualified\"\n",
    "interview([5, 5, 10, 10, 25, 15, 20, 20], 120) ➞ \"disqualified\"\n",
    "# Exceeded the time limit for a medium question.\n",
    "interview([5, 5, 10, 10, 15, 15, 20], 120) ➞ \"disqualified\"\n",
    "# Did not complete all the questions.\n",
    "interview([5, 5, 10, 10, 15, 15, 20, 20], 130) ➞ \"disqualified\"\n",
    "# Solved all the questions in their respected time limits but exceeded the total\n",
    "time limit of the interview.\"\"\"\n",
    "\n",
    "def interview(time_lst, tot_time):\n",
    "    total_ques = 8\n",
    "    total_time = 120\n",
    "    if total_ques == len(time_lst) and tot_time <= total_time:\n",
    "        i = 0\n",
    "        time_taken = 0\n",
    "        while i < total_ques:\n",
    "            if time_lst[i] <= 5:\n",
    "                time_taken += time_lst[i]\n",
    "                i += 1\n",
    "            elif time_lst[i] <= 10:\n",
    "                time_taken += time_lst[i]\n",
    "                i += 1\n",
    "            elif time_lst[i] <= 15:\n",
    "                time_taken += time_lst[i]\n",
    "                i += 1\n",
    "            elif time_lst[i] <= 20:\n",
    "                time_taken += time_lst[i]\n",
    "                i += 1\n",
    "            else:\n",
    "                return \"disqualified\"\n",
    "        if time_taken <= total_time:\n",
    "            return \"qualified\"\n",
    "    else:\n",
    "        return \"disqualified\"\n",
    "\n",
    "\n",
    "print(interview([5, 5, 10, 10, 15, 15, 20, 20], 120))\n",
    "print(interview([2, 3, 8, 6, 5, 12, 10, 18], 64))\n",
    "print(interview([5, 5, 10, 10, 25, 15, 20, 20], 120))\n",
    "print(interview([5, 5, 10, 10, 15, 15, 20], 120))\n",
    "print(interview([5, 5, 10, 10, 15, 15, 20, 20], 130))"
   ]
  },
  {
   "cell_type": "code",
   "execution_count": 41,
   "id": "193d6b33",
   "metadata": {},
   "outputs": [
    {
     "name": "stdout",
     "output_type": "stream",
     "text": [
      "[[2, 3], [4, 5]]\n",
      "[[2, 3], [4, 5], [6]]\n",
      "[[2, 3, 4], [5, 6, 7]]\n",
      "[[2], [3], [4], [5], [6], [7]]\n",
      "[[2, 3, 4, 5, 6, 7]]\n"
     ]
    }
   ],
   "source": [
    "\"\"\"4. Write a function that divides a list into chunks of size n, where n is the\n",
    "length of each chunk.\n",
    "Examples\n",
    "chunkify([2, 3, 4, 5], 2) ➞ [[2, 3], [4, 5]]\n",
    "chunkify([2, 3, 4, 5, 6], 2) ➞ [[2, 3], [4, 5], [6]]\n",
    "chunkify([2, 3, 4, 5, 6, 7], 3) ➞ [[2, 3, 4], [5, 6, 7]]\n",
    "chunkify([2, 3, 4, 5, 6, 7], 1) ➞ [[2], [3], [4], [5], [6], [7]]\n",
    "chunkify([2, 3, 4, 5, 6, 7], 7) ➞ [[2, 3, 4, 5, 6, 7]]\"\"\"\n",
    "\n",
    "def chunkify(chk_lst, size):\n",
    "    l = []\n",
    "    i = 0\n",
    "    while i < len(chk_lst):\n",
    "        l1 = []\n",
    "        for j in range(size):\n",
    "            if i != len(chk_lst):\n",
    "                l1.append(chk_lst[i])\n",
    "                i += 1\n",
    "        l.append(l1)\n",
    "    return l\n",
    "\n",
    "print(chunkify([2, 3, 4, 5], 2))\n",
    "print(chunkify([2, 3, 4, 5, 6], 2))\n",
    "print(chunkify([2, 3, 4, 5, 6, 7], 3))\n",
    "print(chunkify([2, 3, 4, 5, 6, 7], 1))\n",
    "print(chunkify([2, 3, 4, 5, 6, 7], 7))"
   ]
  },
  {
   "cell_type": "code",
   "execution_count": 101,
   "id": "e4bc7e88",
   "metadata": {},
   "outputs": [
    {
     "name": "stdout",
     "output_type": "stream",
     "text": [
      "[4.99]\n",
      "[1.99, 5.99, 0.75]\n",
      "[5.99, 0.2, 8.5, 1.99]\n"
     ]
    }
   ],
   "source": [
    "\"\"\"5. You are given a list of strings consisting of grocery items, with prices in\n",
    "parentheses. Return a list of prices in float format.\n",
    "\n",
    "Examples\n",
    "get_prices([\"salad ($4.99)\"]) ➞ [4.99]\n",
    "get_prices([\n",
    "\"artichokes ($1.99)\",\n",
    "\"rotiserrie chicken ($5.99)\",\n",
    "\"gum ($0.75)\"\n",
    "])\n",
    "➞ [1.99, 5.99, 0.75]\n",
    "get_prices([\n",
    "\"ice cream ($5.99)\",\n",
    "\"banana ($0.20)\",\n",
    "\"sandwich ($8.50)\",\n",
    "\"soup ($1.99)\"\n",
    "])\n",
    "➞ [5.99, 0.2, 8.50, 1.99]\"\"\"\n",
    "\n",
    "\n",
    "def get_prices(items):\n",
    "    price = []\n",
    "    for i in items:\n",
    "        price.append(float(i.split(\"(\")[1].split(\")\")[0].split(\"$\")[1]))\n",
    "    return price\n",
    "\n",
    "print(get_prices([\"salad ($4.99)\"]))\n",
    "print(get_prices([\"artichokes ($1.99)\",\"rotiserrie chicken ($5.99)\",\"gum ($0.75)\"]))\n",
    "print(get_prices([\"ice cream ($5.99)\",\"banana ($0.20)\",\"sandwich ($8.50)\",\"soup ($1.99)\"]))"
   ]
  },
  {
   "cell_type": "code",
   "execution_count": null,
   "id": "64818707",
   "metadata": {},
   "outputs": [],
   "source": []
  }
 ],
 "metadata": {
  "kernelspec": {
   "display_name": "Python 3 (ipykernel)",
   "language": "python",
   "name": "python3"
  },
  "language_info": {
   "codemirror_mode": {
    "name": "ipython",
    "version": 3
   },
   "file_extension": ".py",
   "mimetype": "text/x-python",
   "name": "python",
   "nbconvert_exporter": "python",
   "pygments_lexer": "ipython3",
   "version": "3.10.9"
  }
 },
 "nbformat": 4,
 "nbformat_minor": 5
}
