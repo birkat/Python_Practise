{
 "cells": [
  {
   "cell_type": "code",
   "execution_count": 21,
   "id": "4949c3ac",
   "metadata": {},
   "outputs": [
    {
     "name": "stdout",
     "output_type": "stream",
     "text": [
      "00:15:00\n",
      "00:53:20\n",
      "102:40:18\n"
     ]
    }
   ],
   "source": [
    "\"\"\"1. YouTube offers different playback speed options for users. This allows\n",
    "users to increase or decrease the speed of the video content. Given the\n",
    "actual duration and playback speed of the video, calculate the playback\n",
    "duration of the video.\n",
    "Examples\n",
    "playback_duration(\"00:30:00\", 2) ➞ \"00:15:00\"\n",
    "playback_duration(\"01:20:00\", 1.5) ➞ \"00:53:20\"\n",
    "playback_duration(\"51:20:09\", 0.5) ➞ \"102:40:18\" \"\"\"\n",
    "\n",
    "def playback_duration(t, d):\n",
    "    a = t.split(\":\")\n",
    "    add_hrs = int(a[0]) * 3600\n",
    "    add_min = int(a[1]) * 60\n",
    "    add_sec = int(a[2])\n",
    "    total_sec = add_hrs + add_min + add_sec\n",
    "    #print(total_sec)\n",
    "    delay_time = total_sec / d\n",
    "    #print(delay_time)\n",
    "    \n",
    "    hours = int(delay_time // 3600)\n",
    "    minutes = int((delay_time % 3600) // 60)\n",
    "    seconds = int(delay_time % 60)\n",
    "    \n",
    "    return f\"{hours:02}:{minutes:02}:{seconds:02}\"\n",
    "    \n",
    "\n",
    "print(playback_duration(\"00:30:00\", 2))\n",
    "print(playback_duration(\"01:20:00\", 1.5))\n",
    "print(playback_duration(\"51:20:09\", 0.5))"
   ]
  },
  {
   "cell_type": "code",
   "execution_count": 20,
   "id": "6cc59eec",
   "metadata": {},
   "outputs": [
    {
     "name": "stdout",
     "output_type": "stream",
     "text": [
      "45\n",
      "2022\n",
      "None\n"
     ]
    }
   ],
   "source": [
    "\"\"\"2. We needs your help to construct a building which will be a pile of n cubes.\n",
    "The cube at the bottom will have a volume of n^3, the cube above will have\n",
    "volume of (n-1)^3 and so on until the top which will have a volume of 1^3.\n",
    "Given the total volume m of the building, can you find the number of cubes n\n",
    "required for the building?\n",
    "In other words, you have to return an integer n such that:\n",
    "n^3 + (n-1)^3 + ... + 1^3 == m\n",
    "Return None if there is no such number.\n",
    "Examples\n",
    "pile_of_cubes(1071225) ➞ 45\n",
    "pile_of_cubes(4183059834009) ➞ 2022\n",
    "pile_of_cubes(16) ➞ None\"\"\"\n",
    "\n",
    "def pile_of_cubes(n):\n",
    "    s = 0\n",
    "    for i in range(1,n):\n",
    "        s += i**3\n",
    "        if s == n:\n",
    "            return i\n",
    "\n",
    "print(pile_of_cubes(1071225))\n",
    "print(pile_of_cubes(4183059834009))\n",
    "print(pile_of_cubes(16))"
   ]
  },
  {
   "cell_type": "code",
   "execution_count": 45,
   "id": "1931cf2d",
   "metadata": {},
   "outputs": [
    {
     "name": "stdout",
     "output_type": "stream",
     "text": [
      "2\n",
      "4\n",
      "1\n",
      "0\n",
      "None\n"
     ]
    }
   ],
   "source": [
    "\"\"\"3. A fulcrum of a list is an integer such that all elements to the left of it and all\n",
    "elements to the right of it sum to the same value. Write a function that finds\n",
    "the fulcrum of a list.\n",
    "To illustrate:\n",
    "find_fulcrum([3, 1, 5, 2, 4, 6, -1]) ➞ 2\n",
    "// Since [3, 1, 5] and [4, 6, -1] both sum to 9\n",
    "Examples\n",
    "\n",
    "find_fulcrum([1, 2, 4, 9, 10, -10, -9, 3]) ➞ 4\n",
    "find_fulcrum([9, 1, 9]) ➞ 1\n",
    "find_fulcrum([7, -1, 0, -1, 1, 1, 2, 3]) ➞ 0\n",
    "find_fulcrum([8, 8, 8, 8]) ➞ -1\"\"\"\n",
    "\n",
    "def find_fulcrum(f):\n",
    "    a = 0\n",
    "    b = 0\n",
    "    l = len(f)\n",
    "    k = 0\n",
    "    frev = f[::-1]\n",
    "    mid = l // 2\n",
    "    while k < l:\n",
    "        for i in range(0, mid-k):\n",
    "            a += f[i]\n",
    "        for j in range(l-1, mid-k, -1):\n",
    "            b += f[j]\n",
    "        if a == b:\n",
    "            return f[i+1]\n",
    "        else:\n",
    "            a = 0\n",
    "            b = 0\n",
    "            k += 1\n",
    "\n",
    "print(find_fulcrum([3, 1, 5, 2, 4, 6, -1]))\n",
    "print(find_fulcrum([1, 2, 4, 9, 10, -10, -9, 3]))\n",
    "print(find_fulcrum([9, 1, 9]))\n",
    "print(find_fulcrum([7, -1, 0, -1, 1, 1, 2, 3]))\n",
    "print(find_fulcrum([8, 8, 8, 8]))\n",
    "\n",
    "\n",
    "# ## Small code\n",
    "\n",
    "# def find_fulcrum(arr):\n",
    "#     total_sum = sum(arr)\n",
    "#     left_sum = 0\n",
    "\n",
    "#     for num in (arr):\n",
    "#         total_sum -= num\n",
    "#         if left_sum == total_sum:\n",
    "#             return num\n",
    "#         left_sum += num\n",
    "\n",
    "#     return None \n",
    "\n",
    "# print(find_fulcrum([3, 1, 5, 2, 4, 6, -1]))\n",
    "# print(find_fulcrum([1, 2, 4, 9, 10, -10, -9, 3]))\n",
    "# print(find_fulcrum([9, 1, 9]))\n",
    "# print(find_fulcrum([7, -1, 0, -1, 1, 1, 2, 3]))\n",
    "# print(find_fulcrum([8, 8, 8, 8]))"
   ]
  },
  {
   "cell_type": "code",
   "execution_count": 11,
   "id": "d8f2175a",
   "metadata": {},
   "outputs": [
    {
     "name": "stdout",
     "output_type": "stream",
     "text": [
      "[10, 20, 10]\n",
      "3\n",
      "[50, 20, 30, 90]\n",
      "4\n",
      "[]\n",
      "0\n"
     ]
    }
   ],
   "source": [
    "\"\"\"4. Given a list of integers representing the color of each sock, determine how\n",
    "many pairs of socks with matching colors there are. For example, there are 7\n",
    "socks with colors [1, 2, 1, 2, 1, 3, 2]. There is one pair of color 1 and one of\n",
    "color 2. There are three odd socks left, one of each color. The number of\n",
    "pairs is 2.\n",
    "Create a function that returns an integer representing the number of matching\n",
    "pairs of socks that are available.\n",
    "Examples\n",
    "sock_merchant([10, 20, 20, 10, 10, 30, 50, 10, 20]) ➞ 3\n",
    "sock_merchant([50, 20, 30, 90, 30, 20, 50, 20, 90]) ➞ 4\n",
    "sock_merchant([]) ➞ 0\"\"\"\n",
    "\n",
    "import copy\n",
    "def sock_merchant(p):\n",
    "    m = copy.copy(p)\n",
    "    pair = []\n",
    "    k = 0\n",
    "    while k < len(p):\n",
    "        count = 0\n",
    "        i = 0\n",
    "        for j in m:\n",
    "            if m[i] == j:\n",
    "                count += 1\n",
    "                if count == 2:\n",
    "                    pair.append(m[i])\n",
    "                    m.remove((m[i]))\n",
    "                    m.remove(j)\n",
    "                    break\n",
    "        k += 1\n",
    "    print(pair)\n",
    "    return len(pair)\n",
    "\n",
    "print(sock_merchant([10, 20, 20, 10, 10, 30, 50, 10, 20]))\n",
    "print(sock_merchant([50, 20, 30, 90, 30, 20, 50, 20, 90]))\n",
    "print(sock_merchant([]))"
   ]
  },
  {
   "cell_type": "code",
   "execution_count": 17,
   "id": "604a013a",
   "metadata": {},
   "outputs": [
    {
     "name": "stdout",
     "output_type": "stream",
     "text": [
      "-23\n",
      "-33\n"
     ]
    }
   ],
   "source": [
    "\"\"\"5. Create a function that takes a string containing integers as well as other\n",
    "characters and return the sum of the negative integers only.\n",
    "Examples\n",
    "negative_sum(\"-12 13%14&-11\") ➞ -23\n",
    "# -12 + -11 = -23\n",
    "negative_sum(\"22 13%14&-11-22 13 12\") ➞ -33\n",
    "# -11 + -22 = -33\"\"\"\n",
    "\n",
    "def negative_sum(n):\n",
    "    add = 0\n",
    "\n",
    "    for i in range(len(n)):\n",
    "        if n[i] == \"-\":\n",
    "            num = n[i] + n[i + 1] + n[i + 2]\n",
    "            #print(int(num))\n",
    "            add = add + int(num)\n",
    "    return add\n",
    "\n",
    "\n",
    "print(negative_sum(\"-12 13%14&-11\"))\n",
    "print(negative_sum(\"22 13%14&-11-22 13 12\"))"
   ]
  },
  {
   "cell_type": "code",
   "execution_count": null,
   "id": "683bbbd9",
   "metadata": {},
   "outputs": [],
   "source": []
  }
 ],
 "metadata": {
  "kernelspec": {
   "display_name": "Python 3 (ipykernel)",
   "language": "python",
   "name": "python3"
  },
  "language_info": {
   "codemirror_mode": {
    "name": "ipython",
    "version": 3
   },
   "file_extension": ".py",
   "mimetype": "text/x-python",
   "name": "python",
   "nbconvert_exporter": "python",
   "pygments_lexer": "ipython3",
   "version": "3.10.9"
  }
 },
 "nbformat": 4,
 "nbformat_minor": 5
}
