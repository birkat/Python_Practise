{
 "cells": [
  {
   "cell_type": "code",
   "execution_count": 19,
   "id": "6fa5d8b6",
   "metadata": {},
   "outputs": [
    {
     "name": "stdout",
     "output_type": "stream",
     "text": [
      "True\n",
      "True\n",
      "False\n",
      "False\n",
      "False\n"
     ]
    }
   ],
   "source": [
    "\"\"\"1. Rondo Form is a type of musical structure, in which there is a recurring\n",
    "theme/refrain, notated as A. Here are the rules for valid rondo forms:\n",
    "- Rondo forms always start and end with an A section.\n",
    "- In between the A sections, there should be contrasting sections notated as\n",
    "B, then C, then D, etc... No letter should be skipped.\n",
    "- There shouldn't be any repeats in the sequence (such as ABBACCA).\n",
    "Create a function which validates whether a given string is a valid Rondo\n",
    "Form.\n",
    "Examples\n",
    "valid_rondo(\"ABACADAEAFAGAHAIAJA\") ➞ True\n",
    "valid_rondo(\"ABA\") ➞ True\n",
    "valid_rondo(\"ABBACCA\") ➞ False\n",
    "valid_rondo(\"ACAC\") ➞ False\n",
    "valid_rondo(\"A\") ➞ False\"\"\"\n",
    "\n",
    "def valid_rondo(mus):\n",
    "    if len(mus) == 1:\n",
    "        return False\n",
    "    if mus[0] and mus[len(mus)-1] != \"A\":\n",
    "        return False\n",
    "    for i in range(0, len(mus)):\n",
    "        if i % 2 == 0:\n",
    "            if mus[i] != \"A\":\n",
    "                return False\n",
    "    return True\n",
    "\n",
    "\n",
    "print(valid_rondo(\"ABACADAEAFAGAHAIAJA\"))\n",
    "print(valid_rondo(\"ABA\"))\n",
    "print(valid_rondo(\"ABBACCA\"))\n",
    "print(valid_rondo(\"ACAC\"))\n",
    "print(valid_rondo(\"A\"))"
   ]
  },
  {
   "cell_type": "code",
   "execution_count": 56,
   "id": "5cbdb556",
   "metadata": {},
   "outputs": [
    {
     "name": "stdout",
     "output_type": "stream",
     "text": [
      "I have a cat.\n",
      "I have a mat.\n",
      "Things are going swell.\n",
      "\"\"\n"
     ]
    }
   ],
   "source": [
    "\"\"\"2. Create a function that returns the whole of the first sentence which\n",
    "contains a specific word. Include the full stop at the end of the sentence.\n",
    "Examples\n",
    "txt = \"I have a cat. I have a mat. Things are going swell.\"\n",
    "sentence_searcher(txt, \"have\") ➞ \"I have a cat.\"\n",
    "sentence_searcher(txt, \"MAT\") ➞ \"I have a mat.\"\n",
    "sentence_searcher(txt, \"things\") ➞ \"Things are going swell.\"\n",
    "sentence_searcher(txt, \"flat\") ➞ \"\" \"\"\"\n",
    "\n",
    "\n",
    "txt = \"I have a cat. I have a mat. Things are going swell.\"\n",
    "\n",
    "def sentence_searcher(txt, word):\n",
    "    split_txt = txt.split(\".\")\n",
    "    word = word.lower()\n",
    "    for i in range(len(split_txt)):\n",
    "        if word in split_txt[i].lower():\n",
    "            return (split_txt[i].strip() + \".\")\n",
    "    else:\n",
    "        return '\"\"'\n",
    "            \n",
    "print(sentence_searcher(txt, \"have\"))\n",
    "print(sentence_searcher(txt, \"MAT\"))\n",
    "print(sentence_searcher(txt, \"things\"))\n",
    "print(sentence_searcher(txt, \"flat\"))"
   ]
  },
  {
   "cell_type": "code",
   "execution_count": 76,
   "id": "4f1462d8",
   "metadata": {},
   "outputs": [
    {
     "name": "stdout",
     "output_type": "stream",
     "text": [
      "1 100 \n",
      "4 30 200 1000 \n",
      "10 200 4000 50000 \n"
     ]
    }
   ],
   "source": [
    "\n",
    "\"\"\"3. Given a number, find the \"round\" of each digit of the number. An integer is\n",
    "called \"round\" if all its digits except the leftmost (most significant) are equal to\n",
    "zero.\n",
    "- Round numbers: 4000, 1, 9, 800, 90\n",
    "- Not round numbers: 110, 707, 222, 1001\n",
    "\n",
    "Create a function that takes a number and returns the \"round\" of each digit\n",
    "(except if the digit is zero) as a string. Check out the following examples for\n",
    "more clarification.\n",
    "Examples\n",
    "sum_round(101) ➞ \"1 100\"\n",
    "sum_round(1234) ➞ \"4 30 200 1000\"\n",
    "sum_round(54210) ➞ \"10 200 4000 50000\" \"\"\"\n",
    "\n",
    "def sum_round(num):\n",
    "    num = str(num)\n",
    "    i = 0\n",
    "    num = num[::-1]\n",
    "    result = \"\"\n",
    "    for i in range(len(num)):\n",
    "        if num[i] == \"0\":\n",
    "            continue\n",
    "        result += num[i] + (i*str(0)) + \" \"\n",
    "    return result\n",
    "\n",
    "print(sum_round(101))\n",
    "print(sum_round(1234))\n",
    "print(sum_round(54210))"
   ]
  },
  {
   "cell_type": "code",
   "execution_count": 86,
   "id": "0711ad03",
   "metadata": {},
   "outputs": [
    {
     "name": "stdout",
     "output_type": "stream",
     "text": [
      "[[1, 2, 3, 4, 5], [2, 4, 6, 8, 10], [3, 6, 9, 12, 15], [4, 8, 12, 16, 20], [5, 10, 15, 20, 25]]\n",
      "[[1]]\n",
      "[[1, 2, 3], [2, 4, 6], [3, 6, 9]]\n"
     ]
    }
   ],
   "source": [
    "\"\"\"4. Your task, is to create N x N multiplication table, of size n provided in\n",
    "parameter.\n",
    "For example, when n is 5, the multiplication table is:\n",
    "- 1, 2, 3, 4, 5\n",
    "- 2, 4, 6, 8, 10\n",
    "- 3, 6, 9, 12, 15\n",
    "- 4, 8, 12, 16, 20\n",
    "- 5, 10, 15, 20, 25\n",
    "This example will result in:\n",
    "[[1, 2, 3, 4, 5], [2, 4, 6, 8, 10], [3, 6, 9, 12, 15], [4, 8, 12, 16, 20], [5, 10, 15, 20, 25]]\n",
    "Examples\n",
    "multiplication_table(1) ➞ [[1]]\n",
    "multiplication_table(3) ➞ [[1, 2, 3], [2, 4, 6], [3, 6, 9]] \"\"\"\n",
    "\n",
    "def multiplication_table(n):\n",
    "    return ([[i*j for i in range(1, n+1)] for j in range(1, n+1)])\n",
    "\n",
    "print(multiplication_table(5))\n",
    "print(multiplication_table(1))\n",
    "print(multiplication_table(3))"
   ]
  },
  {
   "cell_type": "code",
   "execution_count": 117,
   "id": "e292d728",
   "metadata": {},
   "outputs": [
    {
     "name": "stdout",
     "output_type": "stream",
     "text": [
      "True\n",
      "True\n",
      "False\n",
      "False\n",
      "\n",
      "#########################\n",
      "True\n",
      "True\n",
      "False\n",
      "False\n"
     ]
    }
   ],
   "source": [
    "\"\"\"5. Create a function that returns True if two lines rhyme and False otherwise.\n",
    "For the purposes of this exercise, two lines rhyme if the last word from each\n",
    "sentence contains the same vowels.\n",
    "Examples\n",
    "does_rhyme(\"Sam I am!\", \"Green eggs and ham.\") ➞ True\n",
    "does_rhyme(\"Sam I am!\", \"Green eggs and HAM.\") ➞ True\n",
    "# Capitalization and punctuation should not matter.\n",
    "does_rhyme(\"You are off to the races\", \"a splendid day.\") ➞ False\n",
    "does_rhyme(\"and frequently do?\", \"you gotta move.\") ➞ False\"\"\"\n",
    "\n",
    "def does_rhyme(*args):\n",
    "    l = []\n",
    "    def is_alpha(f):\n",
    "        i = 1\n",
    "        while True:\n",
    "            #print(f[len(f) - i])\n",
    "            if f[len(f) - i].isalpha():\n",
    "                return f[len(f) - i].lower()\n",
    "            else:\n",
    "                i += 1\n",
    "\n",
    "    for i in args:\n",
    "        l.append(is_alpha(i))\n",
    "    if l[0] == l[1]:\n",
    "        return True\n",
    "    else:\n",
    "        return False\n",
    "\n",
    "print(does_rhyme(\"Sam I am!\", \"Green eggs and ham.\"))\n",
    "print(does_rhyme(\"Sam I am!\", \"Green eggs and HAM.\"))\n",
    "print(does_rhyme(\"You are off to the races\", \"a splendid day.\"))\n",
    "print(does_rhyme(\"and frequently do?\", \"you gotta move.\"))\n",
    "\n",
    "######### 2nd method \n",
    "print()\n",
    "print(\"#########################\")\n",
    "\n",
    "import string\n",
    "\n",
    "def does_rhyme(m, n):\n",
    "    pun = string.punctuation\n",
    "    m = m.lower()\n",
    "    n = n.lower()\n",
    "    for i in range(len(m)-1,-1 , -1):\n",
    "        if m[i] not in pun:\n",
    "            for j in range(len(n)-1, -1, -1):\n",
    "                if n[j] not in pun:\n",
    "                    if m[i] == n[j]:\n",
    "                        return True\n",
    "                    else:\n",
    "                        return False\n",
    "\n",
    "\n",
    "print(does_rhyme(\"Sam I am!\", \"Green eggs and ham.\"))\n",
    "print(does_rhyme(\"Sam I am!\", \"Green eggs and HAM.\"))\n",
    "print(does_rhyme(\"You are off to the races\", \"a splendid day.\"))\n",
    "print(does_rhyme(\"and frequently do?\", \"you gotta move.\"))"
   ]
  },
  {
   "cell_type": "code",
   "execution_count": null,
   "id": "e314bde7",
   "metadata": {},
   "outputs": [],
   "source": []
  }
 ],
 "metadata": {
  "kernelspec": {
   "display_name": "Python 3 (ipykernel)",
   "language": "python",
   "name": "python3"
  },
  "language_info": {
   "codemirror_mode": {
    "name": "ipython",
    "version": 3
   },
   "file_extension": ".py",
   "mimetype": "text/x-python",
   "name": "python",
   "nbconvert_exporter": "python",
   "pygments_lexer": "ipython3",
   "version": "3.10.9"
  }
 },
 "nbformat": 4,
 "nbformat_minor": 5
}
