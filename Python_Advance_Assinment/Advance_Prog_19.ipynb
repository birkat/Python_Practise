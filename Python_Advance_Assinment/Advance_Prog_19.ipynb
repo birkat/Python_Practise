{
 "cells": [
  {
   "cell_type": "code",
   "execution_count": 2,
   "id": "6d78cc98",
   "metadata": {},
   "outputs": [
    {
     "name": "stdout",
     "output_type": "stream",
     "text": [
      "[[7, 6], [6, 7]]\n",
      "[['A', 'B', 'A'], ['B', 'A', 'B'], ['A', 'B', 'A']]\n",
      "[['c', 'd', 'c', 'd'], ['d', 'c', 'd', 'c'], ['c', 'd', 'c', 'd'], ['d', 'c', 'd', 'c']]\n",
      "Invalid\n"
     ]
    }
   ],
   "source": [
    "\"\"\"1. Create a checker board generator, which takes as inputs n and 2 elements\n",
    "to generate an n x n checkerboard with those two elements as alternating\n",
    "squares.\n",
    "Examples\n",
    "checker_board(2, 7, 6) ➞ [\n",
    "[7, 6],\n",
    "[6, 7]\n",
    "]\n",
    "checker_board(3, \"A\", \"B\") ➞ [\n",
    "[\"A\", \"B\", \"A\"],\n",
    "[\"B\", \"A\", \"B\"],\n",
    "[\"A\", \"B\", \"A\"]\n",
    "]\n",
    "checker_board(4, \"c\", \"d\") ➞ [\n",
    "[\"c\", \"d\", \"c\", \"d\"],\n",
    "[\"d\", \"c\", \"d\", \"c\"],\n",
    "[\"c\", \"d\", \"c\", \"d\"],\n",
    "[\"d\", \"c\", \"d\", \"c\"]\n",
    "]\n",
    "checker_board(4, \"c\", \"c\") ➞ \"invalid\" \"\"\"\n",
    "\n",
    "def checker_board(n, x, y):\n",
    "    if x == y:\n",
    "        return \"Invalid\"\n",
    "    else:\n",
    "        l = []\n",
    "        i = 0\n",
    "        while i < n:\n",
    "            l1 = []\n",
    "            while len(l1) != n:\n",
    "                l1.append(x)\n",
    "                if len(l1) != n:\n",
    "                    l1.append(y)\n",
    "                if len(l1) == n:\n",
    "                    break\n",
    "            l.append(l1)\n",
    "            i += 1\n",
    "            x, y = y, x\n",
    "        return l\n",
    "\n",
    "print(checker_board(2, 7, 6))\n",
    "print(checker_board(3, \"A\", \"B\"))\n",
    "print(checker_board(4, \"c\", \"d\"))\n",
    "print(checker_board(4, \"c\", \"c\"))"
   ]
  },
  {
   "cell_type": "code",
   "execution_count": 10,
   "id": "a22c0057",
   "metadata": {},
   "outputs": [
    {
     "name": "stdout",
     "output_type": "stream",
     "text": [
      "True\n",
      "True\n",
      "False\n",
      "False\n"
     ]
    }
   ],
   "source": [
    "\"\"\"2. A string is an almost-palindrome if, by changing only one character, you\n",
    "can make it a palindrome. Create a function that returns True if a string is an\n",
    "almost-palindrome and False otherwise.\n",
    "Examples\n",
    "almost_palindrome(\"abcdcbg\") ➞ True\n",
    "# Transformed to \"abcdcba\" by changing \"g\" to \"a\".\n",
    "almost_palindrome(\"abccia\") ➞ True\n",
    "# Transformed to \"abccba\" by changing \"i\" to \"b\".\n",
    "almost_palindrome(\"abcdaaa\") ➞ False\n",
    "# Can't be transformed to a palindrome in exactly 1 turn.\n",
    "almost_palindrome(\"1234312\") ➞ False \"\"\"\n",
    "\n",
    "def almost_palindrome(p):\n",
    "    l = len(p) // 2\n",
    "    for i in range(l):\n",
    "        if p[i] != p[len(p)-(i+1)]:\n",
    "            p = p.replace(p[len(p)-(i+1)], p[i], 1)\n",
    "            break\n",
    "    if p == p[::-1]:\n",
    "        return True\n",
    "    else:\n",
    "        return False\n",
    "\n",
    "print(almost_palindrome(\"abcdcbg\"))\n",
    "print(almost_palindrome(\"abccia\"))\n",
    "print(almost_palindrome(\"abcdaaa\"))\n",
    "print(almost_palindrome(\"1234312\"))"
   ]
  },
  {
   "cell_type": "code",
   "execution_count": 23,
   "id": "1f1659d3",
   "metadata": {},
   "outputs": [
    {
     "name": "stdout",
     "output_type": "stream",
     "text": [
      "4\n",
      "8\n",
      "10\n"
     ]
    }
   ],
   "source": [
    "\"\"\"3. Create a function that finds how many prime numbers there are, up to the\n",
    "given integer.\n",
    "\n",
    "Examples\n",
    "prime_numbers(10) ➞ 4\n",
    "# 2, 3, 5 and 7\n",
    "prime_numbers(20) ➞ 8\n",
    "# 2, 3, 5, 7, 11, 13, 17 and 19\n",
    "prime_numbers(30) ➞ 10\n",
    "# 2, 3, 5, 7, 11, 13, 17, 19, 23 and 29\"\"\"\n",
    "\n",
    "def prime_numbers(n):\n",
    "    count = 0\n",
    "    for i in range(n+1):\n",
    "        if i > 1:\n",
    "            for j in range(2, int(i/2)+1):\n",
    "                if i % j == 0:\n",
    "                    break\n",
    "            else:\n",
    "                count += 1\n",
    "    return count\n",
    "\n",
    "print(prime_numbers(10))\n",
    "print(prime_numbers(20))\n",
    "print(prime_numbers(30))"
   ]
  },
  {
   "cell_type": "code",
   "execution_count": 33,
   "id": "1f0ec4ce",
   "metadata": {},
   "outputs": [
    {
     "name": "stdout",
     "output_type": "stream",
     "text": [
      "['Monday', 'Friday']\n",
      "['Monday', 'Monday', 'Monday']\n",
      "['Tuesday', 'Wednesday', 'Saturday']\n"
     ]
    }
   ],
   "source": [
    "\"\"\"4. If today was Monday, in two days, it would be Wednesday.\n",
    "Create a function that takes in a list of days as input and the number of days\n",
    "to increment by. Return a list of days after n number of days has passed.\n",
    "Examples\n",
    "after_n_days([\"Thursday\", \"Monday\"], 4) ➞ [\"Monday\", \"Friday\"]\n",
    "after_n_days([\"Sunday\", \"Sunday\", \"Sunday\"], 1) ➞ [\"Monday\", \"Monday\",\"Monday\"]\n",
    "after_n_days([\"Monday\", \"Tuesday\", \"Friday\"], 1) ➞ [\"Tuesday\", \"Wednesday\",\"Saturday\"]\"\"\"\n",
    "\n",
    "def after_n_days(d, n):\n",
    "    result = []\n",
    "    days = [\"Sunday\", \"Monday\", \"Tuesday\", \"Wednesday\", \"Thursday\", \"Friday\", \"Saturday\"]\n",
    "    for i in d:\n",
    "        k = 0\n",
    "        for j in range(len(days)):\n",
    "            if i == days[j]:\n",
    "                k = (j+1) + n\n",
    "                if k < len(days):\n",
    "                    result.append(days[k-1])\n",
    "                    break\n",
    "                else:\n",
    "                    k = str((j+1) - len(days))\n",
    "                    k = k.replace(\"-\", \"\")\n",
    "                    m = str(int(k) - n)\n",
    "                    m = m.replace(\"-\", \"\")\n",
    "                    #print(m)\n",
    "                    result.append(days[int(m)-1])\n",
    "                    break\n",
    "    return result\n",
    "\n",
    "\n",
    "print(after_n_days([\"Thursday\", \"Monday\"], 4))\n",
    "print(after_n_days([\"Sunday\", \"Sunday\", \"Sunday\"], 1))\n",
    "print(after_n_days([\"Monday\", \"Tuesday\", \"Friday\"], 1))"
   ]
  },
  {
   "cell_type": "code",
   "execution_count": 37,
   "id": "d64169b9",
   "metadata": {},
   "outputs": [
    {
     "name": "stdout",
     "output_type": "stream",
     "text": [
      "True\n",
      "True\n",
      "False\n"
     ]
    }
   ],
   "source": [
    "\"\"\"5. You are in the process of creating a chat application and want to add an\n",
    "anonymous name feature. This anonymous name feature will create an alias\n",
    "that consists of two capitalized words beginning with the same letter as the\n",
    "users first name.\n",
    "Create a function that determines if the list of users is mapped to a list of\n",
    "anonymous names correctly.\n",
    "Examples\n",
    "is_correct_aliases([\"Adrian M.\", \"Harriet S.\", \"Mandy T.\"],\n",
    "[\"Amazing Artichoke\", \"Hopeful Hedgehog\", \"Marvelous Mouse\"]) ➞ True\n",
    "is_correct_aliases([\"Rachel F.\", \"Pam G.\", \"Fred Z.\", \"Nancy K.\"],\n",
    "[\"Reassuring Rat\", \"Peaceful Panda\", \"Fantastic Frog\", \"Notable Nickel\"]) ➞\n",
    "True\n",
    "is_correct_aliases([\"Beth T.\"], [\"Brandishing Mimosa\"]) ➞ False\n",
    "# Both words in \"Brandishing Mimosa\" should begin with a \"B\" - \"Brandishing\n",
    "Beaver\" would do the trick.\"\"\"\n",
    "\n",
    "def is_correct_aliases(name, alias):\n",
    "    j = 0\n",
    "    for i in range(len(name)):\n",
    "        fst_letter = name[i][0]\n",
    "        #print(fst_letter)\n",
    "        while j < len(alias):\n",
    "            split_alias = alias[j].split(\" \")\n",
    "            #print(split_alias)\n",
    "            if fst_letter == split_alias[0][0] and fst_letter == split_alias[1][0]:\n",
    "                j += 1\n",
    "                break\n",
    "            else:\n",
    "                return False\n",
    "    else:\n",
    "        return True\n",
    "\n",
    "print(is_correct_aliases([\"Adrian M.\", \"Harriet S.\", \"Mandy T.\"],\n",
    "[\"Amazing Artichoke\", \"Hopeful Hedgehog\", \"Marvelous Mouse\"]))\n",
    "print(is_correct_aliases([\"Rachel F.\", \"Pam G.\", \"Fred Z.\", \"Nancy K.\"],\n",
    "[\"Reassuring Rat\", \"Peaceful Panda\", \"Fantastic Frog\", \"Notable Nickel\"]))\n",
    "print(is_correct_aliases([\"Beth T.\"], [\"Brandishing Mimosa\"]))"
   ]
  },
  {
   "cell_type": "code",
   "execution_count": null,
   "id": "4bf6dcbc",
   "metadata": {},
   "outputs": [],
   "source": []
  }
 ],
 "metadata": {
  "kernelspec": {
   "display_name": "Python 3 (ipykernel)",
   "language": "python",
   "name": "python3"
  },
  "language_info": {
   "codemirror_mode": {
    "name": "ipython",
    "version": 3
   },
   "file_extension": ".py",
   "mimetype": "text/x-python",
   "name": "python",
   "nbconvert_exporter": "python",
   "pygments_lexer": "ipython3",
   "version": "3.10.9"
  }
 },
 "nbformat": 4,
 "nbformat_minor": 5
}
