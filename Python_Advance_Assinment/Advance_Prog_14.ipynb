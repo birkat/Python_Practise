{
 "cells": [
  {
   "cell_type": "code",
   "execution_count": 9,
   "id": "1cfc0540",
   "metadata": {},
   "outputs": [
    {
     "name": "stdout",
     "output_type": "stream",
     "text": [
      "[3.0, 3.0, 3.0]\n",
      "[12.0, 7.5, 14.5]\n",
      "[75.0, 27.0]\n"
     ]
    }
   ],
   "source": [
    "\"\"\"1. Given a list of numbers, create a function that removes 25% from every\n",
    "number in the list except the smallest number, and adds the total amount\n",
    "removed to the smallest number.\n",
    "Examples\n",
    "show_the_love([4, 1, 4]) ➞ [3, 3, 3]\n",
    "show_the_love([16, 10, 8]) ➞ [12, 7.5, 14.5]\n",
    "show_the_love([2, 100]) ➞ [27, 75]\"\"\"\n",
    "\n",
    "def show_the_love(l):\n",
    "    new_l = []\n",
    "    add = 0\n",
    "    min_num = min(l)\n",
    "    for i in range(len(l)):\n",
    "        if l[i] != min(l):\n",
    "            per_num = (l[i] * 25) / 100\n",
    "            new_l.append(l[i] - per_num)\n",
    "            add += per_num\n",
    "\n",
    "    new_l.insert(min_num, min_num + add)\n",
    "    return new_l\n",
    "\n",
    "print(show_the_love([4, 1, 4]))\n",
    "print(show_the_love([16, 10, 8]))\n",
    "print(show_the_love([2, 100]))"
   ]
  },
  {
   "cell_type": "code",
   "execution_count": 2,
   "id": "547bb4e9",
   "metadata": {},
   "outputs": [
    {
     "name": "stdout",
     "output_type": "stream",
     "text": [
      "['aps', 'hr', 'o']\n",
      "['bdor', 'a', 'e']\n",
      "['enp', 'ahis', 'lov']\n",
      "['flu', 'ekr', 'y']\n",
      "['ahm', 'ct', '']\n",
      "\n",
      "2nd Method\n",
      "['aps', 'hr', 'o']\n",
      "['bdor', 'a', 'e']\n",
      "['enp', 'ahis', 'lov']\n",
      "['flu', 'ekr', 'y']\n",
      "['ahm', 'ct', '']\n"
     ]
    }
   ],
   "source": [
    "\"\"\"2. Create a function that takes in two words as input and returns a list of three\n",
    "elements, in the following order:\n",
    "1.Shared letters between two words.\n",
    "2.Letters unique to word 1.\n",
    "3.Letters unique to word 2.\n",
    "Each element should have unique letters, and have each letter be\n",
    "alphabetically sorted.\n",
    "Examples\n",
    "letters(\"sharp\", \"soap\") ➞ [\"aps\", \"hr\", \"o\"]\n",
    "letters(\"board\", \"bored\") ➞ [\"bdor\", \"a\", \"e\"]\n",
    "letters(\"happiness\", \"envelope\") ➞ [\"enp\", \"ahis\", \"lov\"]\n",
    "letters(\"kerfuffle\", \"fluffy\") ➞ [\"flu\", \"ekr\", \"y\"]\n",
    "# Even with multiple matching letters (e.g. 3 f's), there should\n",
    "# only exist a single \"f\" in your first element.\n",
    "letters(\"match\", \"ham\") ➞ [\"ahm\", \"ct\", \"\"]\n",
    "# \"ham\" does not contain any letters that are not found already in \"match\".\"\"\"\n",
    "\n",
    "def letters(*args):\n",
    "    same = \"\"\n",
    "    diff0 = \"\"\n",
    "    diff1 = \"\"\n",
    "    result = []\n",
    "    for i in range(len(args)):\n",
    "        j = 0\n",
    "        if i == 0:\n",
    "            while j < len(args[i]):\n",
    "                if args[i][j] in args[i + 1]:\n",
    "                    if args[i][j] not in same:\n",
    "                        same += args[i][j]\n",
    "                        j += 1\n",
    "                    else:\n",
    "                        j += 1\n",
    "                else:\n",
    "                    if args[i][j] not in diff0:\n",
    "                        diff0 += args[i][j]\n",
    "                        j += 1\n",
    "                    else:\n",
    "                        j += 1\n",
    "        if i == 1:\n",
    "            while j < len(args[i]):\n",
    "                if args[i][j] not in args[i - 1]:\n",
    "                    diff1 += args[i][j]\n",
    "                    j += 1\n",
    "                else:\n",
    "                    j += 1\n",
    "\n",
    "    result.append(\"\".join(sorted(same)))\n",
    "    result.append(\"\".join(sorted(diff0)))\n",
    "    result.append(\"\".join(sorted(diff1)))\n",
    "\n",
    "    return result\n",
    "\n",
    "\n",
    "print(letters(\"sharp\", \"soap\"))\n",
    "print(letters(\"board\", \"bored\"))\n",
    "print(letters(\"happiness\", \"envelope\"))\n",
    "print(letters(\"kerfuffle\", \"fluffy\"))\n",
    "print(letters(\"match\", \"ham\"))\n",
    "\n",
    "\n",
    "print()\n",
    "######## 2nd method\n",
    "print(\"2nd Method\")\n",
    "\n",
    "def letters(s1, s2):\n",
    "    result = []\n",
    "    l = \"\"\n",
    "    s1_uniq = \"\"\n",
    "    s2_uniq = \"\"\n",
    "    for i in s1:\n",
    "        if i in s2:\n",
    "            if i not in l:\n",
    "                l += i\n",
    "        if i not in s2:\n",
    "            if i not in s1_uniq:\n",
    "                s1_uniq += i\n",
    "    for j in s2:\n",
    "        if j not in s1:\n",
    "            if j not in s2_uniq:\n",
    "                s2_uniq += j\n",
    "    l_sortd = \"\".join(sorted(l))\n",
    "    s1_sortd = \"\".join(sorted(s1_uniq))\n",
    "    s2_sortd = \"\".join(sorted(s2_uniq))\n",
    "    result.append(l_sortd)\n",
    "    result.append(s1_sortd)\n",
    "    result.append(s2_sortd)\n",
    "    return result\n",
    "\n",
    "print(letters(\"sharp\", \"soap\"))\n",
    "print(letters(\"board\", \"bored\"))\n",
    "print(letters(\"happiness\", \"envelope\"))\n",
    "print(letters(\"kerfuffle\", \"fluffy\"))\n",
    "print(letters(\"match\", \"ham\"))"
   ]
  },
  {
   "cell_type": "code",
   "execution_count": 4,
   "id": "4539d4b8",
   "metadata": {},
   "outputs": [
    {
     "name": "stdout",
     "output_type": "stream",
     "text": [
      "[[1, 7], [2, 6], [3, 5], [4, 4]]\n",
      "[[1, 6], [2, 5], [3, 4]]\n",
      "[[5, 2], [9, 1], [8, 8]]\n",
      "[]\n"
     ]
    }
   ],
   "source": [
    "\"\"\"3. Write a function that pairs the first number in an array with the last, the\n",
    "second number with the second to last, etc.\n",
    "Examples\n",
    "pairs([1, 2, 3, 4, 5, 6, 7]) ➞ [[1, 7], [2, 6], [3, 5], [4, 4]]\n",
    "pairs([1, 2, 3, 4, 5, 6]) ➞ [[1, 6], [2, 5], [3, 4]]\n",
    "pairs([5, 9, 8, 1, 2]) ➞ [[5, 2], [9, 1], [8, 8]]\n",
    "pairs([]) ➞ []\"\"\"\n",
    "\n",
    "def pairs(num):\n",
    "    l = len(num)\n",
    "    r = []\n",
    "    if l == 0:\n",
    "        return num\n",
    "    for i in range(int((l/2) + 1)):\n",
    "        lst = [num[i], num[l-(i+1)]]\n",
    "        r.append(lst)\n",
    "    if l % 2 == 0:\n",
    "        return r[:len(r)-1]\n",
    "    else:\n",
    "        return r\n",
    "print(pairs([1, 2, 3, 4, 5, 6, 7]))\n",
    "print(pairs([1, 2, 3, 4, 5, 6]))\n",
    "print(pairs([5, 9, 8, 1, 2]))\n",
    "print(pairs([]))"
   ]
  },
  {
   "cell_type": "code",
   "execution_count": 29,
   "id": "79118374",
   "metadata": {},
   "outputs": [
    {
     "name": "stdout",
     "output_type": "stream",
     "text": [
      "9\n",
      "-1\n",
      "1\n",
      "1874682736267235927391936562808774986\n"
     ]
    }
   ],
   "source": [
    "\"\"\"4. Write a function that adds two numbers. The catch, however, is that the\n",
    "numbers will be strings.\n",
    "Examples\n",
    "add_str_nums(\"4\", \"5\") ➞ \"9\"\n",
    "add_str_nums(\"abcdefg\", \"3\") ➞ \"-1\"\n",
    "add_str_nums(\"1\", \"\") ➞ \"1\"\n",
    "add_str_nums(\"1874682736267235927359283579235789257\",\n",
    "\"32652983572985729\") ➞ \"1874682736267235927391936562808774986\" \"\"\"\n",
    "\n",
    "def add_str_nums(*args):\n",
    "    try:\n",
    "        add = 0\n",
    "        for i in args:\n",
    "            if i == \"\":\n",
    "                i = 0\n",
    "            add = add + int(i)\n",
    "        return str(add)\n",
    "    except:\n",
    "        return \"-1\"\n",
    "\n",
    "print(add_str_nums(\"4\", \"5\"))\n",
    "print(add_str_nums(\"abcdefg\", \"3\"))\n",
    "print(add_str_nums(\"1\", \"\"))\n",
    "print(add_str_nums(\"1874682736267235927359283579235789257\",\n",
    "\"32652983572985729\"))"
   ]
  },
  {
   "cell_type": "code",
   "execution_count": 58,
   "id": "9fece99a",
   "metadata": {},
   "outputs": [
    {
     "name": "stdout",
     "output_type": "stream",
     "text": [
      "123456\n",
      "This i siaem xpdsur nt.ig\n",
      "abcde\n"
     ]
    }
   ],
   "source": [
    "\"\"\"5. lPaeesh le pemu mnxit ehess rtnisg! Oh, sorry, that was supposed to say:\n",
    "Please help me unmix these strings!\n",
    "Somehow my strings have all become mixed up; every pair of characters has\n",
    "been swapped. Help me undo this so I can understand my strings again.\n",
    "Examples\n",
    "unmix(\"214365\") ➞ \"123456\"\n",
    "unmix(\"hTsii s aimex dpus rtni.g\") ➞ \"This is a mixed up string.\"\n",
    "unmix(\"badce\") ➞ \"abcde\" \"\"\"\n",
    "\n",
    "\n",
    "def unmix(s):\n",
    "    k = \"\"\n",
    "    for i in range(0, len(s), 2):\n",
    "        if i + 1 < len(s):\n",
    "            k += s[i+1] + s[i]\n",
    "        else:\n",
    "            k += s[i]\n",
    "    return k\n",
    "\n",
    "\n",
    "print(unmix(\"214365\"))\n",
    "print(unmix(\"hTsii s aimex dpus rtni.g\"))\n",
    "print(unmix(\"badce\"))\n"
   ]
  },
  {
   "cell_type": "code",
   "execution_count": null,
   "id": "970bfa57",
   "metadata": {},
   "outputs": [],
   "source": []
  }
 ],
 "metadata": {
  "kernelspec": {
   "display_name": "Python 3 (ipykernel)",
   "language": "python",
   "name": "python3"
  },
  "language_info": {
   "codemirror_mode": {
    "name": "ipython",
    "version": 3
   },
   "file_extension": ".py",
   "mimetype": "text/x-python",
   "name": "python",
   "nbconvert_exporter": "python",
   "pygments_lexer": "ipython3",
   "version": "3.10.9"
  }
 },
 "nbformat": 4,
 "nbformat_minor": 5
}
